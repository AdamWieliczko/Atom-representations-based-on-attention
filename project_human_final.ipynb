{
 "cells": [
  {
   "cell_type": "code",
   "execution_count": 2,
   "metadata": {},
   "outputs": [],
   "source": [
    "import pandas as pd\n",
    "import numpy as np\n",
    "import torch\n",
    "from tdc.single_pred.adme import ADME\n",
    "from tdc import Evaluator\n",
    "from tqdm.notebook import tqdm, trange\n",
    "from torch.utils.data import TensorDataset, DataLoader\n",
    "from rdkit import Chem\n",
    "from rdkit.Chem import AllChem\n",
    "from matplotlib import pyplot as plt\n",
    "from IPython import display\n",
    "\n",
    "from typing import List, Tuple\n",
    "\n",
    "from rdkit.Chem import PandasTools\n",
    "\n",
    "\n"
   ]
  },
  {
   "cell_type": "code",
   "execution_count": 6,
   "metadata": {},
   "outputs": [],
   "source": [
    "from torch_geometric.data import Data\n",
    "from torch_geometric.loader import DataLoader\n",
    "\n",
    "\n",
    "class Featurizer:\n",
    "    def __init__(self, y_column, smiles_col='Drug', **kwargs):\n",
    "        self.y_column = y_column\n",
    "        self.smiles_col = smiles_col\n",
    "        self.__dict__.update(kwargs)\n",
    "    \n",
    "    def __call__(self, df):\n",
    "        raise NotImplementedError()\n",
    "\n",
    "\n",
    "def one_of_k_encoding(x, allowable_set):\n",
    "    if x not in allowable_set:\n",
    "        raise ValueError(\"input {0} not in allowable set{1}:\".format(\n",
    "            x, allowable_set))\n",
    "    return list(map(lambda s: x == s, allowable_set))\n",
    "\n",
    "\n",
    "def one_of_k_encoding_unk(x, allowable_set):\n",
    "    if x not in allowable_set:\n",
    "        x = allowable_set[-1]\n",
    "    return list(map(lambda s: x == s, allowable_set))\n",
    "\n",
    "\n",
    "from rdkit.Chem import rdMolDescriptors\n",
    "\n",
    "class GraphFeaturizer(Featurizer):\n",
    "    def __call__(self, df, getRepresentation):\n",
    "        graphs = []\n",
    "        labels = []\n",
    "        for i, row in df.iterrows():\n",
    "            y = row[self.y_column]\n",
    "            smiles = row[self.smiles_col]\n",
    "            mol = Chem.MolFromSmiles(smiles)\n",
    "            \n",
    "            edges = []\n",
    "            for bond in mol.GetBonds():\n",
    "                begin = bond.GetBeginAtomIdx()\n",
    "                end = bond.GetEndAtomIdx()\n",
    "                edges.append((begin, end))  # TODO: Add edges in both directions\n",
    "            edges = np.array(edges)\n",
    "            \n",
    "            nodes = []\n",
    "            for atom in mol.GetAtoms():\n",
    "                # print(atom.GetAtomicNum(), atom.GetNumImplicitHs(), atom.GetTotalNumHs(), atom.GetSymbol(), atom.GetNumExplicitHs(), atom.GetTotalValence())\n",
    "                results = getRepresentation(atom)\n",
    "                # print(results)\n",
    "                nodes.append(results)\n",
    "            nodes = np.array(nodes)\n",
    "            \n",
    "            graphs.append((nodes, edges.T))\n",
    "            labels.append(y)\n",
    "        labels = np.array(labels)\n",
    "        return [Data(\n",
    "            x=torch.FloatTensor(x), \n",
    "            edge_index=torch.LongTensor(edge_index), \n",
    "            y=torch.FloatTensor([y])\n",
    "        ) for ((x, edge_index), y) in zip(graphs, labels)]"
   ]
  },
  {
   "cell_type": "code",
   "execution_count": 7,
   "metadata": {},
   "outputs": [],
   "source": [
    "def defaultRepresentation(atom):\n",
    "    return one_of_k_encoding_unk(atom.GetAtomicNum(), range(11)) + one_of_k_encoding(\n",
    "                    atom.GetDegree(), range(11)\n",
    "                ) + one_of_k_encoding_unk(\n",
    "                    atom.GetImplicitValence(), range(11)\n",
    "                ) + [atom.GetIsAromatic()] + one_of_k_encoding_unk(\n",
    "                    atom.GetTotalNumHs(), range(11)\n",
    "                ) + [atom.GetNumImplicitHs(), atom.GetFormalCharge(), atom.GetNumRadicalElectrons(), atom.IsInRing()] # TODO: Add atom features as a list, you can use one_of_k_encodings defined above\n",
    "\n",
    "def representation1(atom):\n",
    "    return one_of_k_encoding_unk(atom.GetAtomicNum(), range(12)) + one_of_k_encoding_unk(\n",
    "                    atom.GetDegree(), range(6)) + one_of_k_encoding_unk(\n",
    "                    atom.GetTotalNumHs(), range(5)\n",
    "                ) + [atom.GetFormalCharge(), atom.IsInRing(), atom.GetIsAromatic()]\n",
    "\n",
    "def representation10(atom):\n",
    "    return one_of_k_encoding_unk(atom.GetAtomicNum(), range(12)) + one_of_k_encoding_unk(\n",
    "                    atom.GetDegree(), range(6)) + one_of_k_encoding_unk(\n",
    "                    atom.GetTotalNumHs(), range(5)\n",
    "                ) + [atom.IsInRing(), atom.GetIsAromatic()]\n",
    "\n",
    "def representationAll(atom):\n",
    "    return one_of_k_encoding_unk(atom.GetAtomicNum(), range(12)) + one_of_k_encoding_unk(\n",
    "                    atom.GetDegree(), range(6)) + one_of_k_encoding_unk(\n",
    "                    atom.GetTotalNumHs(), range(5)) + one_of_k_encoding_unk(\n",
    "                    atom.GetImplicitValence(), range(6))  + one_of_k_encoding_unk(\n",
    "                    atom.GetHybridization(),\n",
    "                    [\n",
    "                        Chem.rdchem.HybridizationType.SP, Chem.rdchem.HybridizationType.SP2,\n",
    "                        Chem.rdchem.HybridizationType.SP3, Chem.rdchem.HybridizationType.SP3D,\n",
    "                        Chem.rdchem.HybridizationType.SP3D2\n",
    "                    ]\n",
    "                ) + [atom.GetFormalCharge(), atom.IsInRing(), atom.GetIsAromatic()\n",
    "                     ] + [atom.GetNumRadicalElectrons()]\n",
    "\n",
    "def printProperties(atom):\n",
    "    print(\"=========\")\n",
    "    print(\"GetDegree\", atom.GetDegree())\n",
    "    print(\"GetImplicitValence\", atom.GetImplicitValence())\n",
    "    print(\"GetAtomicNum\", atom.GetAtomicNum())\n",
    "    print(\"GetTotalNumHs\", atom.GetTotalNumHs())\n",
    "    print(\"GetNumImplicitHs\", atom.GetNumImplicitHs())\n",
    "    print(\"GetNeighbors\", atom.GetNeighbors())\n",
    "    print(\"GetNumExplicitHs\", atom.GetNumExplicitHs())\n",
    "    print(\"GetTotalDegree\", atom.GetTotalDegree())\n",
    "    print(\"GetTotalNumHs\", atom.GetTotalNumHs())\n",
    "    print(\"GetTotalValence\", atom.GetTotalValence())"
   ]
  },
  {
   "cell_type": "code",
   "execution_count": 8,
   "metadata": {},
   "outputs": [
    {
     "data": {
      "text/html": [
       "<div>\n",
       "<style scoped>\n",
       "    .dataframe tbody tr th:only-of-type {\n",
       "        vertical-align: middle;\n",
       "    }\n",
       "\n",
       "    .dataframe tbody tr th {\n",
       "        vertical-align: top;\n",
       "    }\n",
       "\n",
       "    .dataframe thead th {\n",
       "        text-align: right;\n",
       "    }\n",
       "</style>\n",
       "<table border=\"1\" class=\"dataframe\">\n",
       "  <thead>\n",
       "    <tr style=\"text-align: right;\">\n",
       "      <th></th>\n",
       "      <th>Mol Weight</th>\n",
       "      <th>Formula</th>\n",
       "      <th>halflifetime_hr</th>\n",
       "      <th>smiles</th>\n",
       "    </tr>\n",
       "  </thead>\n",
       "  <tbody>\n",
       "    <tr>\n",
       "      <th>742</th>\n",
       "      <td>461.557</td>\n",
       "      <td>C28H29F2N3O</td>\n",
       "      <td>1.0</td>\n",
       "      <td>O=c1[nH]c2ccccc2n1C1CCN(CCCC(c2ccc(F)cc2)c2ccc...</td>\n",
       "    </tr>\n",
       "    <tr>\n",
       "      <th>438</th>\n",
       "      <td>787.5</td>\n",
       "      <td>C42H63ClN4O6S</td>\n",
       "      <td>0.2</td>\n",
       "      <td>CC(=O)O[C@H]1C[C@H]2[C@@H]([C@H](OC(C)=O)C[C@@...</td>\n",
       "    </tr>\n",
       "    <tr>\n",
       "      <th>3470</th>\n",
       "      <td>361.87</td>\n",
       "      <td>C19H24ClN3O2</td>\n",
       "      <td>3.0</td>\n",
       "      <td>Cn1c(C(=O)c2ccc(Cl)cc2)cnc1OCCCN1CCCCC1</td>\n",
       "    </tr>\n",
       "    <tr>\n",
       "      <th>4657</th>\n",
       "      <td>347.374</td>\n",
       "      <td>C20H17N3O3</td>\n",
       "      <td>2.0</td>\n",
       "      <td>NCc1ccc(C(=O)Nc2ccncc2)cc1-c1cccc(C(=O)O)c1</td>\n",
       "    </tr>\n",
       "    <tr>\n",
       "      <th>727</th>\n",
       "      <td>434.6</td>\n",
       "      <td>C23H34N2O4S</td>\n",
       "      <td>0.7</td>\n",
       "      <td>CS(=O)(=O)N1CCC(Oc2ccc3c(c2)CCC2(CCN(C4CCC4)CC...</td>\n",
       "    </tr>\n",
       "  </tbody>\n",
       "</table>\n",
       "</div>"
      ],
      "text/plain": [
       "     Mol Weight        Formula  halflifetime_hr  \\\n",
       "742     461.557    C28H29F2N3O              1.0   \n",
       "438       787.5  C42H63ClN4O6S              0.2   \n",
       "3470     361.87   C19H24ClN3O2              3.0   \n",
       "4657    347.374     C20H17N3O3              2.0   \n",
       "727       434.6    C23H34N2O4S              0.7   \n",
       "\n",
       "                                                 smiles  \n",
       "742   O=c1[nH]c2ccccc2n1C1CCN(CCCC(c2ccc(F)cc2)c2ccc...  \n",
       "438   CC(=O)O[C@H]1C[C@H]2[C@@H]([C@H](OC(C)=O)C[C@@...  \n",
       "3470            Cn1c(C(=O)c2ccc(Cl)cc2)cnc1OCCCN1CCCCC1  \n",
       "4657        NCc1ccc(C(=O)Nc2ccncc2)cc1-c1cccc(C(=O)O)c1  \n",
       "727   CS(=O)(=O)N1CCC(Oc2ccc3c(c2)CCC2(CCN(C4CCC4)CC...  "
      ]
     },
     "execution_count": 8,
     "metadata": {},
     "output_type": "execute_result"
    }
   ],
   "source": [
    "\n",
    "\n",
    "human_dataset_path = './Datasets/human_halflifetime.sdf'\n",
    "\n",
    "dataset = PandasTools.LoadSDF(human_dataset_path)\n",
    "\n",
    "from sklearn.utils import shuffle\n",
    "dataset = shuffle(dataset)\n",
    "\n",
    "dataset = dataset.drop(columns=['CdId', 'Field 2', 'Field 3', 'Field 5', 'Field 6', 'ID'])\n",
    "dataset = dataset.rename(columns={'Field 4': 'halflifetime_hr'})\n",
    "dataset = dataset.rename(columns={'ROMol': 'smiles'})\n",
    "dataset['halflifetime_hr'] = dataset['halflifetime_hr'].astype(float)\n",
    "dataset = dataset[dataset['halflifetime_hr'] < 15]\n",
    "\n",
    "# mean = dataset['halflifetime_hr'].mean()\n",
    "# std = dataset['halflifetime_hr'].std()\n",
    "# dataset['halflifetime_hr'] = (dataset['halflifetime_hr'] - mean) / std\n",
    "# mean, std = mean[:, 'halflifetime_hr'].item(), std[:, 'halflifetime_hr'].item()\n",
    "\n",
    "dataset['smiles'] = dataset['smiles'].apply(lambda x: Chem.MolToSmiles(x))\n",
    "\n",
    "train_dataset = dataset[:int(len(dataset) * 0.7)]\n",
    "val_dataset = dataset[int(len(dataset) * 0.7): int(len(dataset) * 0.85)]\n",
    "test_dataset = dataset[int(len(dataset) * 0.85):]\n",
    "\n",
    "dataset.head()\n",
    "\n"
   ]
  },
  {
   "cell_type": "code",
   "execution_count": 105,
   "metadata": {},
   "outputs": [],
   "source": [
    "\n",
    "# dataset.head()\n",
    "\n",
    "# dataset['halflifetime_hr'].hist(bins=100)\n",
    "\n",
    "# # drop outliers in halflifetime_hr\n",
    "# dataset = dataset[dataset['halflifetime_hr'] < 50]\n",
    "\n",
    "# dataset['halflifetime_hr'].mean(), dataset['halflifetime_hr'].std()\n",
    "\n",
    "# dataset['halflifetime_hr'].hist(bins=100)"
   ]
  },
  {
   "cell_type": "code",
   "execution_count": 9,
   "metadata": {},
   "outputs": [],
   "source": [
    "class ECFPFeaturizer(Featurizer):\n",
    "    def __init__(self, y_column, radius=2, length=1024, **kwargs):\n",
    "        self.radius = radius\n",
    "        self.length = length\n",
    "        super().__init__(y_column, **kwargs)\n",
    "    \n",
    "    def __call__(self, df):\n",
    "        fingerprints = []\n",
    "        labels = []\n",
    "        for i, row in df.iterrows():\n",
    "            y = row[self.y_column]\n",
    "            smiles = row[self.smiles_col]\n",
    "            mol = Chem.MolFromSmiles(smiles)\n",
    "            fp = AllChem.GetMorganFingerprintAsBitVect(mol, self.radius, nBits=self.length)\n",
    "            fingerprints.append(fp)\n",
    "            labels.append(y)\n",
    "        fingerprints = np.array(fingerprints)\n",
    "        labels = np.array(labels)\n",
    "        return fingerprints, labels\n",
    "\n",
    "rmse = Evaluator(name = 'MAE')\n",
    "\n",
    "featurizer = ECFPFeaturizer(y_column='halflifetime_hr', smiles_col=\"smiles\")\n",
    "X_train, y_train = featurizer(train_dataset)\n",
    "X_valid, y_valid = featurizer(val_dataset)\n",
    "X_test, y_test = featurizer(test_dataset)\n",
    "\n",
    "featurizer = GraphFeaturizer('halflifetime_hr', smiles_col=\"smiles\")\n",
    "\n",
    "graph = featurizer(test_dataset.iloc[:1], defaultRepresentation)[0]"
   ]
  },
  {
   "cell_type": "code",
   "execution_count": 10,
   "metadata": {},
   "outputs": [],
   "source": [
    "from torch_geometric.loader import DataLoader as GraphDataLoader\n",
    "\n",
    "\n",
    "# prepare data loaders\n",
    "batch_size = 64\n",
    "\n",
    "train_loader1 = GraphDataLoader(featurizer(train_dataset, representation1), batch_size=batch_size, shuffle=True)\n",
    "valid_loader1 = GraphDataLoader(featurizer(val_dataset, representation1), batch_size=batch_size)\n",
    "test_loader1 = GraphDataLoader(featurizer(test_dataset, representation1), batch_size=batch_size)\n",
    "\n",
    "train_loader10 = GraphDataLoader(featurizer(train_dataset, representation10), batch_size=batch_size, shuffle=True)\n",
    "valid_loader10 = GraphDataLoader(featurizer(val_dataset, representation10), batch_size=batch_size)\n",
    "test_loader10 = GraphDataLoader(featurizer(test_dataset, representation10), batch_size=batch_size)\n",
    "\n",
    "train_loader = GraphDataLoader(featurizer(train_dataset, representationAll), batch_size=batch_size, shuffle=True)\n",
    "valid_loader = GraphDataLoader(featurizer(val_dataset, representationAll), batch_size=batch_size)\n",
    "test_loader = GraphDataLoader(featurizer(test_dataset, representationAll), batch_size=batch_size)"
   ]
  },
  {
   "cell_type": "code",
   "execution_count": 11,
   "metadata": {},
   "outputs": [],
   "source": [
    "from torch_geometric.nn import GCNConv, GINConv, global_mean_pool\n",
    "import torch.nn.functional as F\n",
    "from torch_geometric.nn import global_mean_pool as gap"
   ]
  },
  {
   "cell_type": "code",
   "execution_count": 12,
   "metadata": {},
   "outputs": [],
   "source": [
    "#warstwa attention pooling\n",
    "class MyAttentionModule3(torch.nn.Module): # zakladamy ze atom ma 49 featerow\n",
    "    def __init__(self, groupFeatures=1):\n",
    "        super().__init__()\n",
    "        self.groupFeatures = groupFeatures\n",
    "        self.gates = torch.nn.ModuleDict({ # do wyliczenia atencji dla kazdej grupy cech - jest ich 9\n",
    "            'AtomicNum': GCNConv(12, 1),\n",
    "            'Degree': GCNConv(6, 1),\n",
    "            'TotalNumHs': GCNConv(5, 1),\n",
    "            'ImplicitValence': GCNConv(6, 1),\n",
    "            'Hybridization': GCNConv(5, 1),\n",
    "            'FormalCharge': GCNConv(1, 1),\n",
    "            'IsInRing': GCNConv(1, 1),\n",
    "            'IsAromatic': GCNConv(1, 1),\n",
    "            'NumRadicalElectrons': GCNConv(1, 1)\n",
    "        })\n",
    "\n",
    "        self.feats = torch.nn.ModuleDict({ # do transformacji grupy cech w wektor, na razie dziala tylko dla groupFeatures=1\n",
    "            'AtomicNum': torch.nn.Linear(12, groupFeatures),\n",
    "            'Degree': torch.nn.Linear(6, groupFeatures),\n",
    "            'TotalNumHs': torch.nn.Linear(5, groupFeatures),\n",
    "            'ImplicitValence': torch.nn.Linear(6, groupFeatures),\n",
    "            'Hybridization': torch.nn.Linear(5, groupFeatures),\n",
    "            'FormalCharge': torch.nn.Linear(1, groupFeatures),\n",
    "            'IsInRing': torch.nn.Linear(1, groupFeatures),\n",
    "            'IsAromatic': torch.nn.Linear(1, groupFeatures),\n",
    "            'NumRadicalElectrons': torch.nn.Linear(1, groupFeatures)\n",
    "        })\n",
    "\n",
    "    def forward(self, x, edge_index, batch):\n",
    "        gates = []\n",
    "        gates.append(self.gates['AtomicNum'](x[:,0:12], edge_index))\n",
    "        gates.append(self.gates['Degree'](x[:,12:18], edge_index))\n",
    "        gates.append(self.gates['TotalNumHs'](x[:,18:23], edge_index))\n",
    "        gates.append(self.gates['ImplicitValence'](x[:,23:29], edge_index))\n",
    "        gates.append(self.gates['Hybridization'](x[:,29:34], edge_index))\n",
    "        gates.append(self.gates['FormalCharge'](x[:,34:35], edge_index))\n",
    "        gates.append(self.gates['IsInRing'](x[:,35:36], edge_index))\n",
    "        gates.append(self.gates['IsAromatic'](x[:,36:37], edge_index))\n",
    "        gates.append(self.gates['NumRadicalElectrons'](x[:,37:38], edge_index))\n",
    "        logits = torch.cat(gates, dim=-1)\n",
    "        attention = torch.softmax(logits, dim=-1).unsqueeze(-1)\n",
    "        \n",
    "        subgroups = []\n",
    "        subgroups.append(self.feats['AtomicNum'](x[:,0:12]) * attention[:,0])\n",
    "        subgroups.append(self.feats['Degree'](x[:,12:18]) * attention[:,1])\n",
    "        subgroups.append(self.feats['TotalNumHs'](x[:,18:23]) * attention[:,2])\n",
    "        subgroups.append(self.feats['ImplicitValence'](x[:,23:29]) * attention[:,3])\n",
    "        subgroups.append(self.feats['Hybridization'](x[:,29:34]) * attention[:,4])\n",
    "        subgroups.append(self.feats['FormalCharge'](x[:,34:35]) * attention[:,5])\n",
    "        subgroups.append(self.feats['IsInRing'](x[:,35:36]) * attention[:,6])\n",
    "        subgroups.append(self.feats['IsAromatic'](x[:,36:37]) * attention[:,7])\n",
    "        subgroups.append(self.feats['NumRadicalElectrons'](x[:,37:38]) * attention[:,8])\n",
    "        x = torch.stack(subgroups, dim=-2)\n",
    "        x = torch.sum(x, dim=-2)\n",
    "        \n",
    "        return x, attention"
   ]
  },
  {
   "cell_type": "code",
   "execution_count": 13,
   "metadata": {},
   "outputs": [],
   "source": [
    "def attSequential(n_feats):\n",
    "    return torch.nn.Sequential(torch.nn.Linear(n_feats, 1),\n",
    "                       torch.nn.BatchNorm1d(1), torch.nn.ReLU(),\n",
    "                       torch.nn.Linear(1, 1), torch.nn.ReLU())"
   ]
  },
  {
   "cell_type": "code",
   "execution_count": 14,
   "metadata": {},
   "outputs": [],
   "source": [
    "#warstwa attention pooling\n",
    "class MyAttentionModule4(torch.nn.Module): # zakladamy ze atom ma 49 featerow\n",
    "    def __init__(self, groupFeatures=1):\n",
    "        super().__init__()\n",
    "        self.groupFeatures = groupFeatures\n",
    "        self.gates = torch.nn.ModuleDict({ # do wyliczenia atencji dla kazdej grupy cech - jest ich 9\n",
    "            'AtomicNum': GINConv(attSequential(12), train_eps=True),\n",
    "            'Degree': GINConv(attSequential(6), train_eps=True),\n",
    "            'TotalNumHs': GINConv(attSequential(5), train_eps=True),\n",
    "            'ImplicitValence': GINConv(attSequential(6), train_eps=True),\n",
    "            'Hybridization': GINConv(attSequential(5), train_eps=True),\n",
    "            'FormalCharge': GINConv(attSequential(1), train_eps=True),\n",
    "            'IsInRing': GINConv(attSequential(1), train_eps=True),\n",
    "            'IsAromatic': GINConv(attSequential(1), train_eps=True),\n",
    "            'NumRadicalElectrons': GINConv(attSequential(1), train_eps=True)\n",
    "        })\n",
    "        \n",
    "        self.feats = torch.nn.ModuleDict({ # do transformacji grupy cech w wektor, na razie dziala tylko dla groupFeatures=1\n",
    "            'AtomicNum': torch.nn.Linear(12, groupFeatures),\n",
    "            'Degree': torch.nn.Linear(6, groupFeatures),\n",
    "            'TotalNumHs': torch.nn.Linear(5, groupFeatures),\n",
    "            'ImplicitValence': torch.nn.Linear(6, groupFeatures),\n",
    "            'Hybridization': torch.nn.Linear(5, groupFeatures),\n",
    "            'FormalCharge': torch.nn.Linear(1, groupFeatures),\n",
    "            'IsInRing': torch.nn.Linear(1, groupFeatures),\n",
    "            'IsAromatic': torch.nn.Linear(1, groupFeatures),\n",
    "            'NumRadicalElectrons': torch.nn.Linear(1, groupFeatures)\n",
    "        })\n",
    "\n",
    "    def forward(self, x, edge_index, batch):\n",
    "        gates = []\n",
    "        gates.append(self.gates['AtomicNum'](x[:,0:12], edge_index))\n",
    "        gates.append(self.gates['Degree'](x[:,12:18], edge_index))\n",
    "        gates.append(self.gates['TotalNumHs'](x[:,18:23], edge_index))\n",
    "        gates.append(self.gates['ImplicitValence'](x[:,23:29], edge_index))\n",
    "        gates.append(self.gates['Hybridization'](x[:,29:34], edge_index))\n",
    "        gates.append(self.gates['FormalCharge'](x[:,34:35], edge_index))\n",
    "        gates.append(self.gates['IsInRing'](x[:,35:36], edge_index))\n",
    "        gates.append(self.gates['IsAromatic'](x[:,36:37], edge_index))\n",
    "        gates.append(self.gates['NumRadicalElectrons'](x[:,37:38], edge_index))\n",
    "        logits = torch.cat(gates, dim=-1)\n",
    "        attention = torch.softmax(logits, dim=-1).unsqueeze(-1)\n",
    "        \n",
    "        subgroups = []\n",
    "        subgroups.append(self.feats['AtomicNum'](x[:,0:12]) * attention[:,0])\n",
    "        subgroups.append(self.feats['Degree'](x[:,12:18]) * attention[:,1])\n",
    "        subgroups.append(self.feats['TotalNumHs'](x[:,18:23]) * attention[:,2])\n",
    "        subgroups.append(self.feats['ImplicitValence'](x[:,23:29]) * attention[:,3])\n",
    "        subgroups.append(self.feats['Hybridization'](x[:,29:34]) * attention[:,4])\n",
    "        subgroups.append(self.feats['FormalCharge'](x[:,34:35]) * attention[:,5])\n",
    "        subgroups.append(self.feats['IsInRing'](x[:,35:36]) * attention[:,6])\n",
    "        subgroups.append(self.feats['IsAromatic'](x[:,36:37]) * attention[:,7])\n",
    "        subgroups.append(self.feats['NumRadicalElectrons'](x[:,37:38]) * attention[:,8])\n",
    "        x = torch.stack(subgroups, dim=-2)\n",
    "        x = torch.sum(x, dim=-2)\n",
    "        \n",
    "        return x, attention"
   ]
  },
  {
   "cell_type": "code",
   "execution_count": 15,
   "metadata": {},
   "outputs": [],
   "source": [
    "class GraphNeuralNetwork(torch.nn.Module):  # TODO: assign hyperparameters to attributes and define the forward pass\n",
    "    def __init__(self, hidden_size, n_convs=3, my_layer=None, features_after_layer=26, n_features=49, dropout=0.2):\n",
    "        super().__init__()\n",
    "        self.myAttentionModule = my_layer\n",
    "        self.dropout = dropout\n",
    "\n",
    "        convs = torch.nn.ModuleList()\n",
    "        convs.append(GCNConv(features_after_layer, hidden_size))\n",
    "        for i in range(1, n_convs):\n",
    "            convs.append(GCNConv(hidden_size, hidden_size))\n",
    "        self.convs = convs\n",
    "        self.linear = torch.nn.Linear(hidden_size, 1)\n",
    "    \n",
    "    def forward(self, x, edge_index, batch):\n",
    "        att = None\n",
    "        if self.myAttentionModule is not None:\n",
    "            x, att = self.myAttentionModule(x, edge_index, batch)\n",
    "        for i in range(0, len(self.convs)-1):\n",
    "            x = self.convs[i](x, edge_index)\n",
    "            x = x.relu()\n",
    "        x = self.convs[-1](x, edge_index)\n",
    "        \n",
    "        x = gap(x, batch)\n",
    "        \n",
    "        x = F.dropout(x, p=self.dropout, training=self.training)\n",
    "\n",
    "        out = self.linear(x)\n",
    "\n",
    "        return out, att"
   ]
  },
  {
   "cell_type": "code",
   "execution_count": 16,
   "metadata": {},
   "outputs": [],
   "source": [
    "def train(model, train_loader, valid_loader, epochs=20, learning_rate = 0.01):\n",
    "    model.cuda()\n",
    "    model.train()\n",
    "    \n",
    "    # training loop\n",
    "    optimizer = torch.optim.Adam(model.parameters(), learning_rate) # TODO: define an optimizer\n",
    "    loss_fn = torch.nn.MSELoss()  # TODO: define a loss function\n",
    "    for epoch in trange(1, epochs + 1, leave=False):\n",
    "        for data in tqdm(train_loader, leave=False):\n",
    "            x, edge_index, batch, y = data.x.cuda(), data.edge_index.cuda(), data.batch.cuda(), data.y.cuda()\n",
    "            model.zero_grad()\n",
    "            preds, att = model(x, edge_index, batch)\n",
    "            loss = loss_fn(preds, y.reshape(-1, 1))\n",
    "            loss.backward()\n",
    "            # print(\"==============\")\n",
    "            # for par in model.myAttentionModule.parameters():\n",
    "            #     print(par)\n",
    "            optimizer.step()\n",
    "    return model\n",
    "\n",
    "\n",
    "def predict(model, test_loader):\n",
    "    # evaluation loop\n",
    "    preds_batches = []\n",
    "    model.cuda()\n",
    "    with torch.no_grad():\n",
    "        for data in test_loader:\n",
    "            x, edge_index, batch = data.x.cuda(), data.edge_index.cuda(), data.batch.cuda()\n",
    "            \n",
    "            preds, att = model(x, edge_index, batch)\n",
    "            preds_batches.append(preds.cpu().detach().numpy())\n",
    "    preds = np.concatenate(preds_batches)\n",
    "    return preds, att"
   ]
  },
  {
   "cell_type": "code",
   "execution_count": 17,
   "metadata": {},
   "outputs": [],
   "source": [
    "from copy import deepcopy\n",
    "\n",
    "def train_best(model, train_loader, valid_loader, epochs=20, learning_rate = 0.01, saveImg=False, title=\"\"):\n",
    "    model.cuda()\n",
    "    model.train()\n",
    "\n",
    "    best_state = deepcopy(model.state_dict())\n",
    "    best_val = 1000000\n",
    "    \n",
    "    # training loop\n",
    "    optimizer = torch.optim.Adam(model.parameters(), learning_rate) # TODO: define an optimizer\n",
    "    loss_fn = torch.nn.MSELoss()  # TODO: define a loss function\n",
    "    for epoch in trange(1, epochs + 1, leave=False):\n",
    "        # preds_batches = []\n",
    "        running_loss = 0.0\n",
    "        for data in train_loader:\n",
    "            x, edge_index, batch, y = data.x.cuda(), data.edge_index.cuda(), data.batch.cuda(), data.y.cuda()\n",
    "            model.zero_grad()\n",
    "            preds, att = model(x, edge_index, batch)\n",
    "            loss = loss_fn(preds, y.reshape(-1, 1))\n",
    "\n",
    "            loss.backward()\n",
    "            optimizer.step()\n",
    "\n",
    "        # evaluation loop\n",
    "        preds_batches = []\n",
    "        with torch.no_grad():\n",
    "            for data in valid_loader:\n",
    "                x, edge_index, batch, y = data.x.cuda(), data.edge_index.cuda(), data.batch.cuda(), data.y.cuda()\n",
    "                preds, att = model(x, edge_index, batch)\n",
    "                loss = loss_fn(preds, y.reshape(-1, 1))\n",
    "                preds_batches.append(preds.cpu().detach().numpy())\n",
    "        preds = np.concatenate(preds_batches)\n",
    "        mae = rmse(y_valid, preds.flatten())\n",
    "        if mae < best_val:\n",
    "            best_state = deepcopy(model.state_dict())\n",
    "            best_val = mae\n",
    "            print(best_val)\n",
    "\n",
    "    model.load_state_dict(best_state)\n",
    "    return model"
   ]
  },
  {
   "cell_type": "code",
   "execution_count": 18,
   "metadata": {},
   "outputs": [],
   "source": [
    "def visualize(model, train_loader, valid_loader, test_loader, epochs=20, learning_rate = 0.01, saveImg=False, title=\"\"):\n",
    "    model.cuda()\n",
    "    model.train()\n",
    "\n",
    "    best_state = deepcopy(model.state_dict())\n",
    "    best_val = 1000000\n",
    "    \n",
    "    # training loop\n",
    "    optimizer = torch.optim.Adam(model.parameters(), learning_rate) # TODO: define an optimizer\n",
    "    loss_fn = torch.nn.MSELoss()  # TODO: define a loss function\n",
    "    train_losses = []\n",
    "    val_losses = []\n",
    "    train_errors = []\n",
    "    val_errors = []\n",
    "    for epoch in trange(1, epochs + 1, leave=False):\n",
    "        # preds_batches = []\n",
    "        running_loss = 0.0\n",
    "        for data in train_loader:\n",
    "            x, edge_index, batch, y = data.x.cuda(), data.edge_index.cuda(), data.batch.cuda(), data.y.cuda()\n",
    "            model.zero_grad()\n",
    "            preds, att = model(x, edge_index, batch)\n",
    "            loss = loss_fn(preds, y.reshape(-1, 1))\n",
    "            # print(len(train_dataset))\n",
    "\n",
    "            running_loss += loss.item()\n",
    "            # preds_batches.append(preds.cpu().detach().numpy())\n",
    "\n",
    "            loss.backward()\n",
    "            optimizer.step()\n",
    "        epoch_loss = running_loss / len(train_loader)\n",
    "        train_losses.append(epoch_loss)\n",
    "        # preds = np.concatenate(preds_batches)\n",
    "        # mae = rmse(y_train, preds.flatten())\n",
    "        # train_errors.append(mae)\n",
    "\n",
    "        # evaluation loop\n",
    "        preds_batches = []\n",
    "        running_loss = 0.0\n",
    "        with torch.no_grad():\n",
    "            for data in valid_loader:\n",
    "                x, edge_index, batch, y = data.x.cuda(), data.edge_index.cuda(), data.batch.cuda(), data.y.cuda()\n",
    "                preds, att = model(x, edge_index, batch)\n",
    "                loss = loss_fn(preds, y.reshape(-1, 1))\n",
    "                # print(len(train_dataset))\n",
    "\n",
    "                running_loss += loss.item()\n",
    "                preds_batches.append(preds.cpu().detach().numpy())\n",
    "        epoch_loss = running_loss / len(valid_loader)\n",
    "        val_losses.append(epoch_loss)\n",
    "        preds = np.concatenate(preds_batches)\n",
    "        mae = rmse(y_valid, preds.flatten())\n",
    "        if mae < best_val:\n",
    "            best_state = deepcopy(model.state_dict())\n",
    "            best_val = mae\n",
    "            print(best_val)\n",
    "        val_errors.append(mae)\n",
    "\n",
    "    model.load_state_dict(best_state)\n",
    "\n",
    "    ##### visualize ########\n",
    "    plt.plot(train_losses, label='train_loss')\n",
    "    plt.plot(val_losses, label='val_loss')\n",
    "    plt.legend()\n",
    "    plt.show()\n",
    "    if saveImg:\n",
    "        plt.savefig(title + \"_loss.png\")\n",
    "\n",
    "    # plt.plot(train_errors,label='train_errors')\n",
    "    plt.plot(val_errors, label='val_RMSE')\n",
    "    plt.legend()\n",
    "    plt.show()\n",
    "    if saveImg:\n",
    "        plt.savefig(title + \"_val_error.png\")\n",
    "    return model"
   ]
  },
  {
   "cell_type": "code",
   "execution_count": 116,
   "metadata": {},
   "outputs": [
    {
     "name": "stdout",
     "output_type": "stream",
     "text": [
      "1.75\n"
     ]
    }
   ],
   "source": [
    "m =  GraphNeuralNetwork(512, n_convs=3, features_after_layer=25)\n",
    "predictions, att = predict(m, test_loader10)\n",
    "rmse_score = rmse(y_test, predictions.flatten())\n",
    "print(\"{:.2f}\".format(rmse_score))"
   ]
  },
  {
   "cell_type": "code",
   "execution_count": 117,
   "metadata": {},
   "outputs": [
    {
     "data": {
      "application/vnd.jupyter.widget-view+json": {
       "model_id": "18c55a5acfbb4b2eb5ac2ebd233a46ff",
       "version_major": 2,
       "version_minor": 0
      },
      "text/plain": [
       "  0%|          | 0/100 [00:00<?, ?it/s]"
      ]
     },
     "metadata": {},
     "output_type": "display_data"
    },
    {
     "name": "stdout",
     "output_type": "stream",
     "text": [
      "1.6560769580224315\n",
      "1.575446927704497\n",
      "1.5604313092210333\n",
      "1.5314353834369225\n"
     ]
    },
    {
     "data": {
      "image/png": "[encoded data removed]",
      "text/plain": [
       "<Figure size 640x480 with 1 Axes>"
      ]
     },
     "metadata": {},
     "output_type": "display_data"
    },
    {
     "data": {
      "image/png": "[encoded data removed]",
      "text/plain": [
       "<Figure size 640x480 with 1 Axes>"
      ]
     },
     "metadata": {},
     "output_type": "display_data"
    },
    {
     "data": {
      "application/vnd.jupyter.widget-view+json": {
       "model_id": "dba2609fbb1d4717ba46de82258dae3c",
       "version_major": 2,
       "version_minor": 0
      },
      "text/plain": [
       "  0%|          | 0/100 [00:00<?, ?it/s]"
      ]
     },
     "metadata": {},
     "output_type": "display_data"
    },
    {
     "name": "stdout",
     "output_type": "stream",
     "text": [
      "1.7394319784712649\n",
      "1.5768106563362532\n",
      "1.528692422241508\n",
      "1.4814346687236946\n"
     ]
    },
    {
     "data": {
      "image/png": "[encoded data removed]",
      "text/plain": [
       "<Figure size 640x480 with 1 Axes>"
      ]
     },
     "metadata": {},
     "output_type": "display_data"
    },
    {
     "data": {
      "image/png": "[encoded data removed]",
      "text/plain": [
       "<Figure size 640x480 with 1 Axes>"
      ]
     },
     "metadata": {},
     "output_type": "display_data"
    },
    {
     "data": {
      "application/vnd.jupyter.widget-view+json": {
       "model_id": "4fcc73fdb1664c079d606ca468e44820",
       "version_major": 2,
       "version_minor": 0
      },
      "text/plain": [
       "  0%|          | 0/100 [00:00<?, ?it/s]"
      ]
     },
     "metadata": {},
     "output_type": "display_data"
    },
    {
     "name": "stdout",
     "output_type": "stream",
     "text": [
      "1.7463529123374801\n",
      "1.5791886347353814\n",
      "1.5648604817304783\n",
      "1.5443221946961867\n",
      "1.519478571193661\n",
      "1.482803597307491\n",
      "1.4617248044899123\n",
      "1.4394385234538662\n"
     ]
    },
    {
     "data": {
      "image/png": "[encoded data removed]",
      "text/plain": [
       "<Figure size 640x480 with 1 Axes>"
      ]
     },
     "metadata": {},
     "output_type": "display_data"
    },
    {
     "data": {
      "image/png": "[encoded data removed]",
      "text/plain": [
       "<Figure size 640x480 with 1 Axes>"
      ]
     },
     "metadata": {},
     "output_type": "display_data"
    },
    {
     "data": {
      "text/plain": [
       "<Figure size 640x480 with 0 Axes>"
      ]
     },
     "metadata": {},
     "output_type": "display_data"
    }
   ],
   "source": [
    "######################## wizualizacje #################################################\n",
    "m = GraphNeuralNetwork(512, my_layer=MyAttentionModule4(3), features_after_layer=3)\n",
    "m = visualize(m, train_loader, valid_loader, test_loader, epochs=100, saveImg=True, title=\"MyAttentionModule4(3)_human\")\n",
    "torch.save(m.myAttentionModule.state_dict(), \"attention_pooling3_human.pth\")\n",
    "\n",
    "m = GraphNeuralNetwork(512, my_layer=MyAttentionModule4(35), features_after_layer=35)\n",
    "m = visualize(m, train_loader, valid_loader, test_loader, epochs=100, saveImg=True, title=\"MyAttentionModule4(35)_human\")\n",
    "torch.save(m.myAttentionModule.state_dict(), \"attention_pooling35_human.pth\")\n",
    "\n",
    "m = GraphNeuralNetwork(512, my_layer=MyAttentionModule4(100), features_after_layer=100)\n",
    "m = visualize(m, train_loader, valid_loader, test_loader, epochs=100, saveImg=True, title=\"MyAttentionModule4(100)_human\")\n",
    "torch.save(m.myAttentionModule.state_dict(), \"attention_pooling100_human.pth\")"
   ]
  },
  {
   "cell_type": "code",
   "execution_count": 120,
   "metadata": {},
   "outputs": [
    {
     "data": {
      "application/vnd.jupyter.widget-view+json": {
       "model_id": "d89a7d8d8ba94c5fa7b15c093eb3271f",
       "version_major": 2,
       "version_minor": 0
      },
      "text/plain": [
       "  0%|          | 0/70 [00:00<?, ?it/s]"
      ]
     },
     "metadata": {},
     "output_type": "display_data"
    },
    {
     "name": "stdout",
     "output_type": "stream",
     "text": [
      "1.6730303250958103\n",
      "1.6654285162794373\n",
      "1.5584199464106987\n",
      "1.5423342204236699\n",
      "1.530407118411835\n"
     ]
    },
    {
     "data": {
      "application/vnd.jupyter.widget-view+json": {
       "model_id": "46ab7f2a5a524908a4e84f08d945d508",
       "version_major": 2,
       "version_minor": 0
      },
      "text/plain": [
       "  0%|          | 0/70 [00:00<?, ?it/s]"
      ]
     },
     "metadata": {},
     "output_type": "display_data"
    },
    {
     "name": "stdout",
     "output_type": "stream",
     "text": [
      "1.7673289373820413\n",
      "1.6421470596690375\n",
      "1.617426874337796\n",
      "1.587357452529633\n",
      "1.5833669740496998\n",
      "1.5700027808529173\n"
     ]
    },
    {
     "data": {
      "application/vnd.jupyter.widget-view+json": {
       "model_id": "eb9985f980e5437eb602fb1d593f099f",
       "version_major": 2,
       "version_minor": 0
      },
      "text/plain": [
       "  0%|          | 0/70 [00:00<?, ?it/s]"
      ]
     },
     "metadata": {},
     "output_type": "display_data"
    },
    {
     "name": "stdout",
     "output_type": "stream",
     "text": [
      "1.6727543525924222\n",
      "1.6417104424116855\n",
      "1.6094789232465323\n",
      "1.575507698944229\n",
      "1.5258704388712696\n"
     ]
    },
    {
     "data": {
      "application/vnd.jupyter.widget-view+json": {
       "model_id": "cdc74bf2610a4b2b9f9e71a76db7a291",
       "version_major": 2,
       "version_minor": 0
      },
      "text/plain": [
       "  0%|          | 0/70 [00:00<?, ?it/s]"
      ]
     },
     "metadata": {},
     "output_type": "display_data"
    },
    {
     "name": "stdout",
     "output_type": "stream",
     "text": [
      "1.5811656315312412\n",
      "1.5385317702207735\n",
      "1.5296411295850834\n",
      "1.528592439026176\n",
      "1.5091684542159118\n"
     ]
    },
    {
     "data": {
      "application/vnd.jupyter.widget-view+json": {
       "model_id": "7fcadbdec1194e16ae0f46560955c8ac",
       "version_major": 2,
       "version_minor": 0
      },
      "text/plain": [
       "  0%|          | 0/70 [00:00<?, ?it/s]"
      ]
     },
     "metadata": {},
     "output_type": "display_data"
    },
    {
     "name": "stdout",
     "output_type": "stream",
     "text": [
      "1.7913825168152768\n",
      "1.7538561872807805\n",
      "1.5854576879061621\n",
      "1.5612600033440276\n",
      "1.5224105065525648\n",
      "1.5024177081570653\n",
      "1.4825892159039389\n"
     ]
    },
    {
     "data": {
      "application/vnd.jupyter.widget-view+json": {
       "model_id": "1f3c9889fc744224ac28c6c6f46ebd43",
       "version_major": 2,
       "version_minor": 0
      },
      "text/plain": [
       "  0%|          | 0/70 [00:00<?, ?it/s]"
      ]
     },
     "metadata": {},
     "output_type": "display_data"
    },
    {
     "name": "stdout",
     "output_type": "stream",
     "text": [
      "1.6786429844073902\n",
      "1.642562127891415\n",
      "1.5848015970991043\n",
      "1.5016207591912702\n",
      "1.4890326666724893\n"
     ]
    },
    {
     "data": {
      "application/vnd.jupyter.widget-view+json": {
       "model_id": "c113536121734fc18d0e27cd086abd4f",
       "version_major": 2,
       "version_minor": 0
      },
      "text/plain": [
       "  0%|          | 0/70 [00:00<?, ?it/s]"
      ]
     },
     "metadata": {},
     "output_type": "display_data"
    },
    {
     "name": "stdout",
     "output_type": "stream",
     "text": [
      "1.7312724984334615\n",
      "1.6996955187591967\n",
      "1.5250570109968413\n",
      "1.5212078998224463\n",
      "1.499534280346539\n",
      "1.4895669986387927\n",
      "1.4819669697313254\n"
     ]
    },
    {
     "data": {
      "application/vnd.jupyter.widget-view+json": {
       "model_id": "8469ae8ab30b47a1a0ec8d002da1bffe",
       "version_major": 2,
       "version_minor": 0
      },
      "text/plain": [
       "  0%|          | 0/70 [00:00<?, ?it/s]"
      ]
     },
     "metadata": {},
     "output_type": "display_data"
    },
    {
     "name": "stdout",
     "output_type": "stream",
     "text": [
      "1.7449699257662197\n",
      "1.706256686227764\n",
      "1.6114224218893909\n",
      "1.5586667036510515\n",
      "1.5390155111119417\n",
      "1.5369969059000472\n",
      "1.5141859488858436\n",
      "1.4956893064376122\n",
      "1.4856197238111208\n"
     ]
    },
    {
     "data": {
      "application/vnd.jupyter.widget-view+json": {
       "model_id": "3344d5b7780549e4ace49343c149ef18",
       "version_major": 2,
       "version_minor": 0
      },
      "text/plain": [
       "  0%|          | 0/70 [00:00<?, ?it/s]"
      ]
     },
     "metadata": {},
     "output_type": "display_data"
    },
    {
     "name": "stdout",
     "output_type": "stream",
     "text": [
      "1.768696100954524\n",
      "1.5246799520675292\n",
      "1.5180422672183216\n",
      "1.5081613442926352\n"
     ]
    },
    {
     "data": {
      "application/vnd.jupyter.widget-view+json": {
       "model_id": "769efd2069aa4f82bb38f28d1c29022b",
       "version_major": 2,
       "version_minor": 0
      },
      "text/plain": [
       "  0%|          | 0/70 [00:00<?, ?it/s]"
      ]
     },
     "metadata": {},
     "output_type": "display_data"
    },
    {
     "name": "stdout",
     "output_type": "stream",
     "text": [
      "1.538706889823525\n",
      "1.5336906630050637\n",
      "1.5056136369276905\n",
      "1.4823565165868062\n"
     ]
    },
    {
     "data": {
      "application/vnd.jupyter.widget-view+json": {
       "model_id": "130856ae2ec9400eb0ab7afdbc2bdc47",
       "version_major": 2,
       "version_minor": 0
      },
      "text/plain": [
       "  0%|          | 0/70 [00:00<?, ?it/s]"
      ]
     },
     "metadata": {},
     "output_type": "display_data"
    },
    {
     "name": "stdout",
     "output_type": "stream",
     "text": [
      "1.5966255767473918\n",
      "1.5492455636812539\n",
      "1.5407808154500173\n",
      "1.4564617940890574\n",
      "1.4540190837411822\n",
      "1.4467810933532828\n",
      "1.4421963247496212\n",
      "1.4042462660309798\n",
      "1.3931184641900891\n",
      "1.3916510232194454\n"
     ]
    },
    {
     "data": {
      "application/vnd.jupyter.widget-view+json": {
       "model_id": "5cc83ae73b544637aaa1c4d92c752e54",
       "version_major": 2,
       "version_minor": 0
      },
      "text/plain": [
       "  0%|          | 0/70 [00:00<?, ?it/s]"
      ]
     },
     "metadata": {},
     "output_type": "display_data"
    },
    {
     "name": "stdout",
     "output_type": "stream",
     "text": [
      "1.6987355722781428\n",
      "1.5331800389432622\n",
      "1.4965447057792525\n",
      "1.4747111402014772\n",
      "1.4628946449656686\n",
      "1.435402208723708\n",
      "1.4227688806356786\n",
      "1.4157021111785293\n",
      "1.3975914326399388\n",
      "1.3900485331712367\n"
     ]
    },
    {
     "data": {
      "application/vnd.jupyter.widget-view+json": {
       "model_id": "e2a7fda9dbed46738f4327f6d188141e",
       "version_major": 2,
       "version_minor": 0
      },
      "text/plain": [
       "  0%|          | 0/70 [00:00<?, ?it/s]"
      ]
     },
     "metadata": {},
     "output_type": "display_data"
    },
    {
     "name": "stdout",
     "output_type": "stream",
     "text": [
      "1.8546773031371797\n",
      "1.6179471135853294\n",
      "1.6101040244102478\n",
      "1.582884782774006\n",
      "1.5668316076472848\n",
      "1.5562898793477498\n",
      "1.5153564094640537\n",
      "1.4741866541765405\n",
      "1.4500654871449499\n"
     ]
    },
    {
     "data": {
      "application/vnd.jupyter.widget-view+json": {
       "model_id": "05129ed8c945425bb061b078db7c538d",
       "version_major": 2,
       "version_minor": 0
      },
      "text/plain": [
       "  0%|          | 0/70 [00:00<?, ?it/s]"
      ]
     },
     "metadata": {},
     "output_type": "display_data"
    },
    {
     "name": "stdout",
     "output_type": "stream",
     "text": [
      "1.537179383460633\n",
      "1.5014453593271222\n"
     ]
    },
    {
     "data": {
      "application/vnd.jupyter.widget-view+json": {
       "model_id": "662b57cabcb74c108248d3876488d688",
       "version_major": 2,
       "version_minor": 0
      },
      "text/plain": [
       "  0%|          | 0/70 [00:00<?, ?it/s]"
      ]
     },
     "metadata": {},
     "output_type": "display_data"
    },
    {
     "name": "stdout",
     "output_type": "stream",
     "text": [
      "1.7701155273500317\n",
      "1.6447467444899553\n",
      "1.5995419574854617\n",
      "1.537708300387788\n",
      "1.5054152015154947\n",
      "1.4800871522340946\n",
      "1.479040503373403\n"
     ]
    },
    {
     "data": {
      "application/vnd.jupyter.widget-view+json": {
       "model_id": "222a9bdf2f7f46fe8343190fa2c4871e",
       "version_major": 2,
       "version_minor": 0
      },
      "text/plain": [
       "  0%|          | 0/70 [00:00<?, ?it/s]"
      ]
     },
     "metadata": {},
     "output_type": "display_data"
    },
    {
     "name": "stdout",
     "output_type": "stream",
     "text": [
      "1.7089975295095388\n",
      "1.5948291250902737\n",
      "1.5749083830068213\n",
      "1.5548032868408157\n",
      "1.514726514659242\n",
      "1.509388020481178\n",
      "1.4667503985173687\n",
      "1.4392797402707402\n"
     ]
    },
    {
     "data": {
      "application/vnd.jupyter.widget-view+json": {
       "model_id": "0e2971c71fd44d4eb88810f96ec92e48",
       "version_major": 2,
       "version_minor": 0
      },
      "text/plain": [
       "  0%|          | 0/70 [00:00<?, ?it/s]"
      ]
     },
     "metadata": {},
     "output_type": "display_data"
    },
    {
     "name": "stdout",
     "output_type": "stream",
     "text": [
      "1.7496618363386143\n",
      "1.6306307736984984\n",
      "1.564161115606388\n",
      "1.544629902282875\n",
      "1.5295363578396641\n",
      "1.5276350348295566\n",
      "1.5194560606893666\n",
      "1.5028963568039284\n",
      "1.4847036183380082\n",
      "1.4845050880223691\n"
     ]
    },
    {
     "data": {
      "application/vnd.jupyter.widget-view+json": {
       "model_id": "5b48c1e3bf1d428e9190a9f7a41dbe4c",
       "version_major": 2,
       "version_minor": 0
      },
      "text/plain": [
       "  0%|          | 0/70 [00:00<?, ?it/s]"
      ]
     },
     "metadata": {},
     "output_type": "display_data"
    },
    {
     "name": "stdout",
     "output_type": "stream",
     "text": [
      "2.1078194396081797\n",
      "1.7109119807603115\n",
      "1.6471711255261996\n",
      "1.5781609199147024\n"
     ]
    },
    {
     "data": {
      "application/vnd.jupyter.widget-view+json": {
       "model_id": "8ed2e981bdc040db88244bd9f6427701",
       "version_major": 2,
       "version_minor": 0
      },
      "text/plain": [
       "  0%|          | 0/70 [00:00<?, ?it/s]"
      ]
     },
     "metadata": {},
     "output_type": "display_data"
    },
    {
     "name": "stdout",
     "output_type": "stream",
     "text": [
      "1.6652577845921774\n",
      "1.6091748044876282\n",
      "1.5918817502153133\n",
      "1.5843480654390987\n"
     ]
    },
    {
     "data": {
      "application/vnd.jupyter.widget-view+json": {
       "model_id": "5b228addf3a44255aef96b29c81474cb",
       "version_major": 2,
       "version_minor": 0
      },
      "text/plain": [
       "  0%|          | 0/70 [00:00<?, ?it/s]"
      ]
     },
     "metadata": {},
     "output_type": "display_data"
    },
    {
     "name": "stdout",
     "output_type": "stream",
     "text": [
      "1.5827584476528054\n",
      "1.5034305735548101\n",
      "1.4847927493677882\n"
     ]
    },
    {
     "data": {
      "application/vnd.jupyter.widget-view+json": {
       "model_id": "4303990c1b13418296269f6867984177",
       "version_major": 2,
       "version_minor": 0
      },
      "text/plain": [
       "  0%|          | 0/70 [00:00<?, ?it/s]"
      ]
     },
     "metadata": {},
     "output_type": "display_data"
    },
    {
     "name": "stdout",
     "output_type": "stream",
     "text": [
      "1.6733480076018923\n",
      "1.5933279271611196\n",
      "1.5604923178193097\n",
      "1.5473765781967939\n",
      "1.527511367712192\n",
      "1.4957052931385841\n",
      "1.4323733720522442\n"
     ]
    },
    {
     "data": {
      "application/vnd.jupyter.widget-view+json": {
       "model_id": "1b2fc57fd8494aa19cb38094566abcae",
       "version_major": 2,
       "version_minor": 0
      },
      "text/plain": [
       "  0%|          | 0/70 [00:00<?, ?it/s]"
      ]
     },
     "metadata": {},
     "output_type": "display_data"
    },
    {
     "name": "stdout",
     "output_type": "stream",
     "text": [
      "1.843423175212152\n",
      "1.5710651270929212\n",
      "1.5258137145013868\n",
      "1.520440961172481\n",
      "1.4997486941543168\n",
      "1.4868281845917959\n",
      "1.4810645092318873\n",
      "1.4775931852163668\n",
      "1.4672452300608516\n",
      "1.4650382414263878\n",
      "1.4428660502405222\n",
      "1.4361755590381737\n",
      "1.3940113214390006\n",
      "1.3860398323664407\n"
     ]
    },
    {
     "data": {
      "application/vnd.jupyter.widget-view+json": {
       "model_id": "e1b29e935823401f8062d760b95ada31",
       "version_major": 2,
       "version_minor": 0
      },
      "text/plain": [
       "  0%|          | 0/70 [00:00<?, ?it/s]"
      ]
     },
     "metadata": {},
     "output_type": "display_data"
    },
    {
     "name": "stdout",
     "output_type": "stream",
     "text": [
      "1.6989206777218573\n",
      "1.6237484571890917\n",
      "1.5994938556591194\n",
      "1.5949108031267178\n",
      "1.5651158799953804\n",
      "1.5182253810602746\n",
      "1.4895766869990412\n"
     ]
    },
    {
     "data": {
      "application/vnd.jupyter.widget-view+json": {
       "model_id": "65e6af7775f1499da74956a8a282bdf0",
       "version_major": 2,
       "version_minor": 0
      },
      "text/plain": [
       "  0%|          | 0/70 [00:00<?, ?it/s]"
      ]
     },
     "metadata": {},
     "output_type": "display_data"
    },
    {
     "name": "stdout",
     "output_type": "stream",
     "text": [
      "1.636651709065466\n",
      "1.6100263544470965\n",
      "1.6045615812118896\n",
      "1.5577263069581129\n",
      "1.5461891886145767\n",
      "1.502051739949666\n"
     ]
    },
    {
     "data": {
      "application/vnd.jupyter.widget-view+json": {
       "model_id": "7c900c7bef5644fe8d2f1a72779772e5",
       "version_major": 2,
       "version_minor": 0
      },
      "text/plain": [
       "  0%|          | 0/70 [00:00<?, ?it/s]"
      ]
     },
     "metadata": {},
     "output_type": "display_data"
    },
    {
     "name": "stdout",
     "output_type": "stream",
     "text": [
      "1.7158862278418627\n",
      "1.631228047987658\n",
      "1.6198699451492218\n",
      "1.6008419646188883\n"
     ]
    },
    {
     "data": {
      "application/vnd.jupyter.widget-view+json": {
       "model_id": "02156f35d1b74842a978ab46cf5c54da",
       "version_major": 2,
       "version_minor": 0
      },
      "text/plain": [
       "  0%|          | 0/70 [00:00<?, ?it/s]"
      ]
     },
     "metadata": {},
     "output_type": "display_data"
    },
    {
     "name": "stdout",
     "output_type": "stream",
     "text": [
      "1.7000074869715525\n",
      "1.6818491572248722\n",
      "1.6434427130293703\n",
      "1.6259660174032886\n",
      "1.6209453727813536\n",
      "1.6052367036214132\n",
      "1.5715649551974085\n",
      "1.5605459503927628\n"
     ]
    },
    {
     "data": {
      "application/vnd.jupyter.widget-view+json": {
       "model_id": "a1c8c53c826b418881b3f41b37686c64",
       "version_major": 2,
       "version_minor": 0
      },
      "text/plain": [
       "  0%|          | 0/70 [00:00<?, ?it/s]"
      ]
     },
     "metadata": {},
     "output_type": "display_data"
    },
    {
     "name": "stdout",
     "output_type": "stream",
     "text": [
      "1.8321787195434112\n",
      "1.7010851359224604\n",
      "1.700725094601066\n",
      "1.6894737444380798\n",
      "1.6785636941829842\n",
      "1.673986038933257\n",
      "1.6640812759627839\n",
      "1.656905345973854\n",
      "1.6380052628203066\n",
      "1.6245486071295365\n"
     ]
    },
    {
     "data": {
      "application/vnd.jupyter.widget-view+json": {
       "model_id": "ee87dd32c8494c3ea98377eca254961b",
       "version_major": 2,
       "version_minor": 0
      },
      "text/plain": [
       "  0%|          | 0/70 [00:00<?, ?it/s]"
      ]
     },
     "metadata": {},
     "output_type": "display_data"
    },
    {
     "name": "stdout",
     "output_type": "stream",
     "text": [
      "1.8949644282906355\n",
      "1.5486073896556558\n"
     ]
    },
    {
     "data": {
      "application/vnd.jupyter.widget-view+json": {
       "model_id": "4347ffdf5ca64fddb677f68386f5c54f",
       "version_major": 2,
       "version_minor": 0
      },
      "text/plain": [
       "  0%|          | 0/70 [00:00<?, ?it/s]"
      ]
     },
     "metadata": {},
     "output_type": "display_data"
    },
    {
     "name": "stdout",
     "output_type": "stream",
     "text": [
      "1.7582388278538594\n",
      "1.701577991582676\n",
      "1.668066216057646\n",
      "1.6633499877609892\n",
      "1.6546699413710724\n",
      "1.5638687500125634\n"
     ]
    },
    {
     "data": {
      "application/vnd.jupyter.widget-view+json": {
       "model_id": "6ac908822e5042ddaacf1d7720b46728",
       "version_major": 2,
       "version_minor": 0
      },
      "text/plain": [
       "  0%|          | 0/70 [00:00<?, ?it/s]"
      ]
     },
     "metadata": {},
     "output_type": "display_data"
    },
    {
     "name": "stdout",
     "output_type": "stream",
     "text": [
      "1.7034461346643412\n",
      "1.658122994371517\n",
      "1.6456007042616425\n",
      "1.6328831766893763\n",
      "1.608671552264048\n",
      "1.5868666622024812\n",
      "1.5738933966402524\n",
      "1.551098624988944\n",
      "1.5278905089743837\n",
      "1.5263722308381589\n",
      "1.5153138459085704\n",
      "1.4855534163206634\n"
     ]
    }
   ],
   "source": [
    "######################## tabelka ##########################################################\n",
    "df = pd.DataFrame({\"Repr 1\": [], \"Repr 10\": [],\n",
    "                   \"Atention Pooling v2 - size = 3\": [], \"Atention Pooling v2 - size = 35\": [], \"Atention Pooling v2 - size = 100\": []})\n",
    "pd.set_option(\"display.precision\", 2)\n",
    "n_times = 1\n",
    "\n",
    "for n_convs in [1, 3, 5]:\n",
    "    for n_channels in [64, 512]:\n",
    "        row = []\n",
    "\n",
    "        #########################\n",
    "        scores = []\n",
    "        for _ in range(n_times):\n",
    "            m =  GraphNeuralNetwork(n_channels, n_convs=n_convs, features_after_layer=26)\n",
    "            m = train_best(m, train_loader1, valid_loader1, epochs=70)\n",
    "            predictions, att = predict(m, test_loader1)\n",
    "            rmse_score = rmse(y_test, predictions.flatten())\n",
    "            scores.append(\"{:.2f}\".format(rmse_score))\n",
    "        row.append(\" | \".join(scores))\n",
    "\n",
    "        #########################\n",
    "        scores = []\n",
    "        for _ in range(n_times):\n",
    "            m =  GraphNeuralNetwork(n_channels, n_convs=n_convs, features_after_layer=25)\n",
    "            m = train_best(m, train_loader10, valid_loader10, epochs= 70)\n",
    "            predictions, att = predict(m, test_loader10)\n",
    "            rmse_score = rmse(y_test, predictions.flatten())\n",
    "            scores.append(\"{:.2f}\".format(rmse_score))\n",
    "        row.append(\" | \".join(scores))\n",
    "\n",
    "        #########################\n",
    "        for vect_size in [3, 35, 100]:\n",
    "            scores = []\n",
    "            for _ in range(n_times):\n",
    "                m =  GraphNeuralNetwork(n_channels, n_convs=n_convs, my_layer=MyAttentionModule4(vect_size), features_after_layer=vect_size)\n",
    "                m = train_best(m, train_loader, valid_loader, epochs=70)\n",
    "                predictions, att = predict(m, test_loader)\n",
    "                rmse_score = rmse(y_test, predictions.flatten())\n",
    "                scores.append(\"{:.2f}\".format(rmse_score))\n",
    "            row.append(\" | \".join(scores))\n",
    "\n",
    "        df.loc[str(n_convs) + \" convs, \" + str(n_channels) + \" channels\"] = row\n",
    "\n",
    "df.to_csv(\"human_out.csv\")"
   ]
  },
  {
   "cell_type": "code",
   "execution_count": 121,
   "metadata": {},
   "outputs": [
    {
     "data": {
      "text/html": [
       "<div>\n",
       "<style scoped>\n",
       "    .dataframe tbody tr th:only-of-type {\n",
       "        vertical-align: middle;\n",
       "    }\n",
       "\n",
       "    .dataframe tbody tr th {\n",
       "        vertical-align: top;\n",
       "    }\n",
       "\n",
       "    .dataframe thead th {\n",
       "        text-align: right;\n",
       "    }\n",
       "</style>\n",
       "<table border=\"1\" class=\"dataframe\">\n",
       "  <thead>\n",
       "    <tr style=\"text-align: right;\">\n",
       "      <th></th>\n",
       "      <th>Repr 1</th>\n",
       "      <th>Repr 10</th>\n",
       "      <th>Atention Pooling v2 - size = 3</th>\n",
       "      <th>Atention Pooling v2 - size = 35</th>\n",
       "      <th>Atention Pooling v2 - size = 100</th>\n",
       "    </tr>\n",
       "  </thead>\n",
       "  <tbody>\n",
       "    <tr>\n",
       "      <th>1 convs, 64 channels</th>\n",
       "      <td>1.41</td>\n",
       "      <td>1.45</td>\n",
       "      <td>1.39</td>\n",
       "      <td>1.38</td>\n",
       "      <td>1.36</td>\n",
       "    </tr>\n",
       "    <tr>\n",
       "      <th>1 convs, 512 channels</th>\n",
       "      <td>1.35</td>\n",
       "      <td>1.35</td>\n",
       "      <td>1.38</td>\n",
       "      <td>1.39</td>\n",
       "      <td>1.37</td>\n",
       "    </tr>\n",
       "    <tr>\n",
       "      <th>3 convs, 64 channels</th>\n",
       "      <td>1.42</td>\n",
       "      <td>1.37</td>\n",
       "      <td>1.34</td>\n",
       "      <td>1.37</td>\n",
       "      <td>1.39</td>\n",
       "    </tr>\n",
       "    <tr>\n",
       "      <th>3 convs, 512 channels</th>\n",
       "      <td>1.32</td>\n",
       "      <td>1.40</td>\n",
       "      <td>1.44</td>\n",
       "      <td>1.47</td>\n",
       "      <td>1.35</td>\n",
       "    </tr>\n",
       "    <tr>\n",
       "      <th>5 convs, 64 channels</th>\n",
       "      <td>1.34</td>\n",
       "      <td>1.32</td>\n",
       "      <td>1.38</td>\n",
       "      <td>1.39</td>\n",
       "      <td>1.46</td>\n",
       "    </tr>\n",
       "    <tr>\n",
       "      <th>5 convs, 512 channels</th>\n",
       "      <td>1.45</td>\n",
       "      <td>1.50</td>\n",
       "      <td>1.42</td>\n",
       "      <td>1.43</td>\n",
       "      <td>1.36</td>\n",
       "    </tr>\n",
       "  </tbody>\n",
       "</table>\n",
       "</div>"
      ],
      "text/plain": [
       "                      Repr 1 Repr 10 Atention Pooling v2 - size = 3  \\\n",
       "1 convs, 64 channels    1.41    1.45                           1.39   \n",
       "1 convs, 512 channels   1.35    1.35                           1.38   \n",
       "3 convs, 64 channels    1.42    1.37                           1.34   \n",
       "3 convs, 512 channels   1.32    1.40                           1.44   \n",
       "5 convs, 64 channels    1.34    1.32                           1.38   \n",
       "5 convs, 512 channels   1.45    1.50                           1.42   \n",
       "\n",
       "                      Atention Pooling v2 - size = 35  \\\n",
       "1 convs, 64 channels                             1.38   \n",
       "1 convs, 512 channels                            1.39   \n",
       "3 convs, 64 channels                             1.37   \n",
       "3 convs, 512 channels                            1.47   \n",
       "5 convs, 64 channels                             1.39   \n",
       "5 convs, 512 channels                            1.43   \n",
       "\n",
       "                      Atention Pooling v2 - size = 100  \n",
       "1 convs, 64 channels                              1.36  \n",
       "1 convs, 512 channels                             1.37  \n",
       "3 convs, 64 channels                              1.39  \n",
       "3 convs, 512 channels                             1.35  \n",
       "5 convs, 64 channels                              1.46  \n",
       "5 convs, 512 channels                             1.36  "
      ]
     },
     "execution_count": 121,
     "metadata": {},
     "output_type": "execute_result"
    }
   ],
   "source": [
    "df"
   ]
  },
  {
   "cell_type": "code",
   "execution_count": 19,
   "metadata": {},
   "outputs": [
    {
     "data": {
      "application/vnd.jupyter.widget-view+json": {
       "model_id": "fe866843e649410b94b4d290d32a3073",
       "version_major": 2,
       "version_minor": 0
      },
      "text/plain": [
       "  0%|          | 0/70 [00:00<?, ?it/s]"
      ]
     },
     "metadata": {},
     "output_type": "display_data"
    },
    {
     "name": "stdout",
     "output_type": "stream",
     "text": [
      "1.5724468121271646\n",
      "1.5225066465960293\n",
      "1.4859591379279862\n",
      "1.4729644925580054\n",
      "1.351964026425413\n",
      "1.41\n"
     ]
    }
   ],
   "source": [
    "m =  GraphNeuralNetwork(512, n_convs=3, my_layer=MyAttentionModule4(35), features_after_layer=35)\n",
    "m = train_best(m, train_loader, valid_loader, epochs=70)\n",
    "predictions, att = predict(m, test_loader)\n",
    "rmse_score = rmse(y_test, predictions.flatten())\n",
    "print(\"{:.2f}\".format(rmse_score))"
   ]
  },
  {
   "cell_type": "code",
   "execution_count": 20,
   "metadata": {},
   "outputs": [
    {
     "name": "stdout",
     "output_type": "stream",
     "text": [
      "RMSE = 1.41\n"
     ]
    }
   ],
   "source": [
    "###################### atencja #################################\n",
    "\n",
    "df_single = pd.DataFrame({\"AtomicNum\": [], \"Degree\": [], \"TotalNumHs\": [], \"ImplicitValence\": [], \"Hybridization\": [], \"FormalCharge\": [],\n",
    "                          \"IsInRing\": [], \"IsAromatic\": [], \"NumRadicalElectrons\": []})\n",
    "df_single.style.set_caption(\"Hello World\")\n",
    "\n",
    "df_batch = pd.DataFrame({\"AtomicNum\": [], \"Degree\": [], \"TotalNumHs\": [], \"ImplicitValence\": [], \"Hybridization\": [], \"FormalCharge\": [],\n",
    "                          \"IsInRing\": [], \"IsAromatic\": [], \"NumRadicalElectrons\": []})\n",
    "df_batch.style.set_caption(\"Hello World\")\n",
    "\n",
    "preds_batches = []\n",
    "with torch.no_grad():\n",
    "    for data in test_loader:\n",
    "        x, edge_index, batch = data.x.cuda(), data.edge_index.cuda(), data.batch.cuda()\n",
    "        \n",
    "        preds, att = m(x, edge_index, batch)\n",
    "        preds_batches.append(preds.cpu().detach().numpy())\n",
    "        att = att.squeeze()\n",
    "        df_single.loc[len(df_single)] = att[0].tolist()\n",
    "        df_batch.loc[len(df_single)] = torch.mean(gap(att, batch), dim=0).tolist()\n",
    "preds = np.concatenate(preds_batches)\n",
    "\n",
    "rmse_score = rmse(y_test, predictions.flatten())\n",
    "\n",
    "print(f'RMSE = {rmse_score:.2f}')\n",
    "df_single.to_csv(\"human_att_single.csv\")\n",
    "df_batch.to_csv(\"human_att_batch.csv\")"
   ]
  },
  {
   "cell_type": "code",
   "execution_count": 21,
   "metadata": {},
   "outputs": [
    {
     "data": {
      "text/html": [
       "<div>\n",
       "<style scoped>\n",
       "    .dataframe tbody tr th:only-of-type {\n",
       "        vertical-align: middle;\n",
       "    }\n",
       "\n",
       "    .dataframe tbody tr th {\n",
       "        vertical-align: top;\n",
       "    }\n",
       "\n",
       "    .dataframe thead th {\n",
       "        text-align: right;\n",
       "    }\n",
       "</style>\n",
       "<table border=\"1\" class=\"dataframe\">\n",
       "  <thead>\n",
       "    <tr style=\"text-align: right;\">\n",
       "      <th></th>\n",
       "      <th>AtomicNum</th>\n",
       "      <th>Degree</th>\n",
       "      <th>TotalNumHs</th>\n",
       "      <th>ImplicitValence</th>\n",
       "      <th>Hybridization</th>\n",
       "      <th>FormalCharge</th>\n",
       "      <th>IsInRing</th>\n",
       "      <th>IsAromatic</th>\n",
       "      <th>NumRadicalElectrons</th>\n",
       "    </tr>\n",
       "  </thead>\n",
       "  <tbody>\n",
       "    <tr>\n",
       "      <th>0</th>\n",
       "      <td>0.034916</td>\n",
       "      <td>0.034916</td>\n",
       "      <td>0.057138</td>\n",
       "      <td>0.664600</td>\n",
       "      <td>0.068766</td>\n",
       "      <td>0.034916</td>\n",
       "      <td>0.034916</td>\n",
       "      <td>0.034916</td>\n",
       "      <td>0.034916</td>\n",
       "    </tr>\n",
       "    <tr>\n",
       "      <th>1</th>\n",
       "      <td>0.033937</td>\n",
       "      <td>0.033937</td>\n",
       "      <td>0.055536</td>\n",
       "      <td>0.674002</td>\n",
       "      <td>0.066839</td>\n",
       "      <td>0.033937</td>\n",
       "      <td>0.033937</td>\n",
       "      <td>0.033937</td>\n",
       "      <td>0.033937</td>\n",
       "    </tr>\n",
       "    <tr>\n",
       "      <th>2</th>\n",
       "      <td>0.088251</td>\n",
       "      <td>0.088251</td>\n",
       "      <td>0.144417</td>\n",
       "      <td>0.161766</td>\n",
       "      <td>0.164313</td>\n",
       "      <td>0.088251</td>\n",
       "      <td>0.088251</td>\n",
       "      <td>0.088251</td>\n",
       "      <td>0.088251</td>\n",
       "    </tr>\n",
       "    <tr>\n",
       "      <th>3</th>\n",
       "      <td>0.036922</td>\n",
       "      <td>0.036922</td>\n",
       "      <td>0.060421</td>\n",
       "      <td>0.645326</td>\n",
       "      <td>0.072718</td>\n",
       "      <td>0.036922</td>\n",
       "      <td>0.036922</td>\n",
       "      <td>0.036922</td>\n",
       "      <td>0.036922</td>\n",
       "    </tr>\n",
       "    <tr>\n",
       "      <th>4</th>\n",
       "      <td>0.091089</td>\n",
       "      <td>0.091089</td>\n",
       "      <td>0.149062</td>\n",
       "      <td>0.125004</td>\n",
       "      <td>0.179398</td>\n",
       "      <td>0.091089</td>\n",
       "      <td>0.091089</td>\n",
       "      <td>0.091089</td>\n",
       "      <td>0.091089</td>\n",
       "    </tr>\n",
       "    <tr>\n",
       "      <th>5</th>\n",
       "      <td>0.039687</td>\n",
       "      <td>0.039687</td>\n",
       "      <td>0.064946</td>\n",
       "      <td>0.618768</td>\n",
       "      <td>0.078163</td>\n",
       "      <td>0.039687</td>\n",
       "      <td>0.039687</td>\n",
       "      <td>0.039687</td>\n",
       "      <td>0.039687</td>\n",
       "    </tr>\n",
       "    <tr>\n",
       "      <th>6</th>\n",
       "      <td>0.035639</td>\n",
       "      <td>0.035639</td>\n",
       "      <td>0.058321</td>\n",
       "      <td>0.657657</td>\n",
       "      <td>0.070190</td>\n",
       "      <td>0.035639</td>\n",
       "      <td>0.035639</td>\n",
       "      <td>0.035639</td>\n",
       "      <td>0.035639</td>\n",
       "    </tr>\n",
       "    <tr>\n",
       "      <th>7</th>\n",
       "      <td>0.036845</td>\n",
       "      <td>0.036845</td>\n",
       "      <td>0.060295</td>\n",
       "      <td>0.646065</td>\n",
       "      <td>0.072566</td>\n",
       "      <td>0.036845</td>\n",
       "      <td>0.036845</td>\n",
       "      <td>0.036845</td>\n",
       "      <td>0.036845</td>\n",
       "    </tr>\n",
       "    <tr>\n",
       "      <th>8</th>\n",
       "      <td>0.036387</td>\n",
       "      <td>0.036387</td>\n",
       "      <td>0.059546</td>\n",
       "      <td>0.650466</td>\n",
       "      <td>0.071664</td>\n",
       "      <td>0.036387</td>\n",
       "      <td>0.036387</td>\n",
       "      <td>0.036387</td>\n",
       "      <td>0.036387</td>\n",
       "    </tr>\n",
       "    <tr>\n",
       "      <th>9</th>\n",
       "      <td>0.038912</td>\n",
       "      <td>0.038912</td>\n",
       "      <td>0.063677</td>\n",
       "      <td>0.626213</td>\n",
       "      <td>0.076637</td>\n",
       "      <td>0.038912</td>\n",
       "      <td>0.038912</td>\n",
       "      <td>0.038912</td>\n",
       "      <td>0.038912</td>\n",
       "    </tr>\n",
       "  </tbody>\n",
       "</table>\n",
       "</div>"
      ],
      "text/plain": [
       "   AtomicNum    Degree  TotalNumHs  ImplicitValence  Hybridization  \\\n",
       "0   0.034916  0.034916    0.057138         0.664600       0.068766   \n",
       "1   0.033937  0.033937    0.055536         0.674002       0.066839   \n",
       "2   0.088251  0.088251    0.144417         0.161766       0.164313   \n",
       "3   0.036922  0.036922    0.060421         0.645326       0.072718   \n",
       "4   0.091089  0.091089    0.149062         0.125004       0.179398   \n",
       "5   0.039687  0.039687    0.064946         0.618768       0.078163   \n",
       "6   0.035639  0.035639    0.058321         0.657657       0.070190   \n",
       "7   0.036845  0.036845    0.060295         0.646065       0.072566   \n",
       "8   0.036387  0.036387    0.059546         0.650466       0.071664   \n",
       "9   0.038912  0.038912    0.063677         0.626213       0.076637   \n",
       "\n",
       "   FormalCharge  IsInRing  IsAromatic  NumRadicalElectrons  \n",
       "0      0.034916  0.034916    0.034916             0.034916  \n",
       "1      0.033937  0.033937    0.033937             0.033937  \n",
       "2      0.088251  0.088251    0.088251             0.088251  \n",
       "3      0.036922  0.036922    0.036922             0.036922  \n",
       "4      0.091089  0.091089    0.091089             0.091089  \n",
       "5      0.039687  0.039687    0.039687             0.039687  \n",
       "6      0.035639  0.035639    0.035639             0.035639  \n",
       "7      0.036845  0.036845    0.036845             0.036845  \n",
       "8      0.036387  0.036387    0.036387             0.036387  \n",
       "9      0.038912  0.038912    0.038912             0.038912  "
      ]
     },
     "execution_count": 21,
     "metadata": {},
     "output_type": "execute_result"
    }
   ],
   "source": [
    "df_single[:10]"
   ]
  },
  {
   "cell_type": "code",
   "execution_count": 22,
   "metadata": {},
   "outputs": [
    {
     "data": {
      "text/html": [
       "<div>\n",
       "<style scoped>\n",
       "    .dataframe tbody tr th:only-of-type {\n",
       "        vertical-align: middle;\n",
       "    }\n",
       "\n",
       "    .dataframe tbody tr th {\n",
       "        vertical-align: top;\n",
       "    }\n",
       "\n",
       "    .dataframe thead th {\n",
       "        text-align: right;\n",
       "    }\n",
       "</style>\n",
       "<table border=\"1\" class=\"dataframe\">\n",
       "  <thead>\n",
       "    <tr style=\"text-align: right;\">\n",
       "      <th></th>\n",
       "      <th>AtomicNum</th>\n",
       "      <th>Degree</th>\n",
       "      <th>TotalNumHs</th>\n",
       "      <th>ImplicitValence</th>\n",
       "      <th>Hybridization</th>\n",
       "      <th>FormalCharge</th>\n",
       "      <th>IsInRing</th>\n",
       "      <th>IsAromatic</th>\n",
       "      <th>NumRadicalElectrons</th>\n",
       "    </tr>\n",
       "  </thead>\n",
       "  <tbody>\n",
       "    <tr>\n",
       "      <th>1</th>\n",
       "      <td>0.063041</td>\n",
       "      <td>0.063041</td>\n",
       "      <td>0.203187</td>\n",
       "      <td>0.298521</td>\n",
       "      <td>0.120044</td>\n",
       "      <td>0.063041</td>\n",
       "      <td>0.063041</td>\n",
       "      <td>0.063041</td>\n",
       "      <td>0.063041</td>\n",
       "    </tr>\n",
       "    <tr>\n",
       "      <th>2</th>\n",
       "      <td>0.063197</td>\n",
       "      <td>0.063197</td>\n",
       "      <td>0.208289</td>\n",
       "      <td>0.292023</td>\n",
       "      <td>0.120505</td>\n",
       "      <td>0.063197</td>\n",
       "      <td>0.063197</td>\n",
       "      <td>0.063197</td>\n",
       "      <td>0.063197</td>\n",
       "    </tr>\n",
       "    <tr>\n",
       "      <th>3</th>\n",
       "      <td>0.062995</td>\n",
       "      <td>0.062995</td>\n",
       "      <td>0.208240</td>\n",
       "      <td>0.293602</td>\n",
       "      <td>0.120186</td>\n",
       "      <td>0.062995</td>\n",
       "      <td>0.062995</td>\n",
       "      <td>0.062995</td>\n",
       "      <td>0.062995</td>\n",
       "    </tr>\n",
       "    <tr>\n",
       "      <th>4</th>\n",
       "      <td>0.062596</td>\n",
       "      <td>0.062596</td>\n",
       "      <td>0.204641</td>\n",
       "      <td>0.300542</td>\n",
       "      <td>0.119240</td>\n",
       "      <td>0.062596</td>\n",
       "      <td>0.062596</td>\n",
       "      <td>0.062596</td>\n",
       "      <td>0.062596</td>\n",
       "    </tr>\n",
       "    <tr>\n",
       "      <th>5</th>\n",
       "      <td>0.062775</td>\n",
       "      <td>0.062775</td>\n",
       "      <td>0.206974</td>\n",
       "      <td>0.296794</td>\n",
       "      <td>0.119584</td>\n",
       "      <td>0.062775</td>\n",
       "      <td>0.062775</td>\n",
       "      <td>0.062775</td>\n",
       "      <td>0.062775</td>\n",
       "    </tr>\n",
       "    <tr>\n",
       "      <th>6</th>\n",
       "      <td>0.062892</td>\n",
       "      <td>0.062892</td>\n",
       "      <td>0.206128</td>\n",
       "      <td>0.296666</td>\n",
       "      <td>0.119855</td>\n",
       "      <td>0.062892</td>\n",
       "      <td>0.062892</td>\n",
       "      <td>0.062892</td>\n",
       "      <td>0.062892</td>\n",
       "    </tr>\n",
       "    <tr>\n",
       "      <th>7</th>\n",
       "      <td>0.062647</td>\n",
       "      <td>0.062647</td>\n",
       "      <td>0.204997</td>\n",
       "      <td>0.299694</td>\n",
       "      <td>0.119424</td>\n",
       "      <td>0.062647</td>\n",
       "      <td>0.062647</td>\n",
       "      <td>0.062647</td>\n",
       "      <td>0.062647</td>\n",
       "    </tr>\n",
       "    <tr>\n",
       "      <th>8</th>\n",
       "      <td>0.062867</td>\n",
       "      <td>0.062867</td>\n",
       "      <td>0.206678</td>\n",
       "      <td>0.296302</td>\n",
       "      <td>0.119816</td>\n",
       "      <td>0.062867</td>\n",
       "      <td>0.062867</td>\n",
       "      <td>0.062867</td>\n",
       "      <td>0.062867</td>\n",
       "    </tr>\n",
       "    <tr>\n",
       "      <th>9</th>\n",
       "      <td>0.062699</td>\n",
       "      <td>0.062699</td>\n",
       "      <td>0.205611</td>\n",
       "      <td>0.298626</td>\n",
       "      <td>0.119572</td>\n",
       "      <td>0.062699</td>\n",
       "      <td>0.062699</td>\n",
       "      <td>0.062699</td>\n",
       "      <td>0.062699</td>\n",
       "    </tr>\n",
       "    <tr>\n",
       "      <th>10</th>\n",
       "      <td>0.062643</td>\n",
       "      <td>0.062643</td>\n",
       "      <td>0.207244</td>\n",
       "      <td>0.297452</td>\n",
       "      <td>0.119448</td>\n",
       "      <td>0.062643</td>\n",
       "      <td>0.062643</td>\n",
       "      <td>0.062643</td>\n",
       "      <td>0.062643</td>\n",
       "    </tr>\n",
       "  </tbody>\n",
       "</table>\n",
       "</div>"
      ],
      "text/plain": [
       "    AtomicNum    Degree  TotalNumHs  ImplicitValence  Hybridization  \\\n",
       "1    0.063041  0.063041    0.203187         0.298521       0.120044   \n",
       "2    0.063197  0.063197    0.208289         0.292023       0.120505   \n",
       "3    0.062995  0.062995    0.208240         0.293602       0.120186   \n",
       "4    0.062596  0.062596    0.204641         0.300542       0.119240   \n",
       "5    0.062775  0.062775    0.206974         0.296794       0.119584   \n",
       "6    0.062892  0.062892    0.206128         0.296666       0.119855   \n",
       "7    0.062647  0.062647    0.204997         0.299694       0.119424   \n",
       "8    0.062867  0.062867    0.206678         0.296302       0.119816   \n",
       "9    0.062699  0.062699    0.205611         0.298626       0.119572   \n",
       "10   0.062643  0.062643    0.207244         0.297452       0.119448   \n",
       "\n",
       "    FormalCharge  IsInRing  IsAromatic  NumRadicalElectrons  \n",
       "1       0.063041  0.063041    0.063041             0.063041  \n",
       "2       0.063197  0.063197    0.063197             0.063197  \n",
       "3       0.062995  0.062995    0.062995             0.062995  \n",
       "4       0.062596  0.062596    0.062596             0.062596  \n",
       "5       0.062775  0.062775    0.062775             0.062775  \n",
       "6       0.062892  0.062892    0.062892             0.062892  \n",
       "7       0.062647  0.062647    0.062647             0.062647  \n",
       "8       0.062867  0.062867    0.062867             0.062867  \n",
       "9       0.062699  0.062699    0.062699             0.062699  \n",
       "10      0.062643  0.062643    0.062643             0.062643  "
      ]
     },
     "execution_count": 22,
     "metadata": {},
     "output_type": "execute_result"
    }
   ],
   "source": [
    "df_batch[:10]"
   ]
  },
  {
   "cell_type": "code",
   "execution_count": null,
   "metadata": {},
   "outputs": [],
   "source": []
  }
 ],
 "metadata": {
  "kernelspec": {
   "display_name": "mldd23",
   "language": "python",
   "name": "python3"
  },
  "language_info": {
   "codemirror_mode": {
    "name": "ipython",
    "version": 3
   },
   "file_extension": ".py",
   "mimetype": "text/x-python",
   "name": "python",
   "nbconvert_exporter": "python",
   "pygments_lexer": "ipython3",
   "version": "3.9.16"
  },
  "orig_nbformat": 4
 },
 "nbformat": 4,
 "nbformat_minor": 2
}
