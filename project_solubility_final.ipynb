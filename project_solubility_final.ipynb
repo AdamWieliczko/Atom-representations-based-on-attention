{
 "cells": [
  {
   "cell_type": "code",
   "execution_count": 36,
   "metadata": {},
   "outputs": [],
   "source": [
    "import pandas as pd\n",
    "import numpy as np\n",
    "import torch\n",
    "from tdc.single_pred.adme import ADME\n",
    "from tdc import Evaluator\n",
    "from tqdm.notebook import tqdm, trange\n",
    "from torch.utils.data import TensorDataset, DataLoader\n",
    "from rdkit import Chem\n",
    "from rdkit.Chem import AllChem\n",
    "from matplotlib import pyplot as plt\n",
    "from IPython import display\n",
    "\n",
    "from typing import List, Tuple\n",
    "\n",
    "\n",
    "class Featurizer:\n",
    "    def __init__(self, y_column, smiles_col='Drug', **kwargs):\n",
    "        self.y_column = y_column\n",
    "        self.smiles_col = smiles_col\n",
    "        self.__dict__.update(kwargs)\n",
    "    \n",
    "    def __call__(self, df):\n",
    "        raise NotImplementedError()"
   ]
  },
  {
   "cell_type": "code",
   "execution_count": 37,
   "metadata": {},
   "outputs": [],
   "source": [
    "from torch_geometric.data import Data\n",
    "from torch_geometric.loader import DataLoader\n",
    "\n",
    "\n",
    "def one_of_k_encoding(x, allowable_set):\n",
    "    if x not in allowable_set:\n",
    "        raise ValueError(\"input {0} not in allowable set{1}:\".format(\n",
    "            x, allowable_set))\n",
    "    return list(map(lambda s: x == s, allowable_set))\n",
    "\n",
    "\n",
    "def one_of_k_encoding_unk(x, allowable_set):\n",
    "    if x not in allowable_set:\n",
    "        x = allowable_set[-1]\n",
    "    return list(map(lambda s: x == s, allowable_set))\n",
    "\n",
    "\n",
    "from rdkit.Chem import rdMolDescriptors\n",
    "\n",
    "class GraphFeaturizer(Featurizer):\n",
    "    def __call__(self, df, getRepresentation):\n",
    "        graphs = []\n",
    "        labels = []\n",
    "        for i, row in df.iterrows():\n",
    "            y = row[self.y_column]\n",
    "            smiles = row[self.smiles_col]\n",
    "            mol = Chem.MolFromSmiles(smiles)\n",
    "            \n",
    "            edges = []\n",
    "            for bond in mol.GetBonds():\n",
    "                begin = bond.GetBeginAtomIdx()\n",
    "                end = bond.GetEndAtomIdx()\n",
    "                edges.append((begin, end))  # TODO: Add edges in both directions\n",
    "            edges = np.array(edges)\n",
    "            \n",
    "            nodes = []\n",
    "            for atom in mol.GetAtoms():\n",
    "                # print(atom.GetAtomicNum(), atom.GetNumImplicitHs(), atom.GetTotalNumHs(), atom.GetSymbol(), atom.GetNumExplicitHs(), atom.GetTotalValence())\n",
    "                results = getRepresentation(atom)\n",
    "                # print(results)\n",
    "                nodes.append(results)\n",
    "            nodes = np.array(nodes)\n",
    "            \n",
    "            graphs.append((nodes, edges.T))\n",
    "            labels.append(y)\n",
    "        labels = np.array(labels)\n",
    "        return [Data(\n",
    "            x=torch.FloatTensor(x), \n",
    "            edge_index=torch.LongTensor(edge_index), \n",
    "            y=torch.FloatTensor([y])\n",
    "        ) for ((x, edge_index), y) in zip(graphs, labels)]"
   ]
  },
  {
   "cell_type": "code",
   "execution_count": 38,
   "metadata": {},
   "outputs": [],
   "source": [
    "def defaultRepresentation(atom):\n",
    "    return one_of_k_encoding_unk(atom.GetAtomicNum(), range(11)) + one_of_k_encoding(\n",
    "                    atom.GetDegree(), range(11)\n",
    "                ) + one_of_k_encoding_unk(\n",
    "                    atom.GetImplicitValence(), range(11)\n",
    "                ) + [atom.GetIsAromatic()] + one_of_k_encoding_unk(\n",
    "                    atom.GetTotalNumHs(), range(11)\n",
    "                ) + [atom.GetNumImplicitHs(), atom.GetFormalCharge(), atom.GetNumRadicalElectrons(), atom.IsInRing()] # TODO: Add atom features as a list, you can use one_of_k_encodings defined above\n",
    "\n",
    "def representation1(atom):\n",
    "    return one_of_k_encoding_unk(atom.GetAtomicNum(), range(12)) + one_of_k_encoding_unk(\n",
    "                    atom.GetDegree(), range(6)) + one_of_k_encoding_unk(\n",
    "                    atom.GetTotalNumHs(), range(5)\n",
    "                ) + [atom.GetFormalCharge(), atom.IsInRing(), atom.GetIsAromatic()]\n",
    "\n",
    "def representation10(atom):\n",
    "    return one_of_k_encoding_unk(atom.GetAtomicNum(), range(12)) + one_of_k_encoding_unk(\n",
    "                    atom.GetDegree(), range(6)) + one_of_k_encoding_unk(\n",
    "                    atom.GetTotalNumHs(), range(5)\n",
    "                ) + [atom.IsInRing(), atom.GetIsAromatic()]\n",
    "\n",
    "def representationAll(atom):\n",
    "    return one_of_k_encoding_unk(atom.GetAtomicNum(), range(12)) + one_of_k_encoding_unk(\n",
    "                    atom.GetDegree(), range(6)) + one_of_k_encoding_unk(\n",
    "                    atom.GetTotalNumHs(), range(5)) + one_of_k_encoding_unk(\n",
    "                    atom.GetImplicitValence(), range(6))  + one_of_k_encoding_unk(\n",
    "                    atom.GetHybridization(),\n",
    "                    [\n",
    "                        Chem.rdchem.HybridizationType.SP, Chem.rdchem.HybridizationType.SP2,\n",
    "                        Chem.rdchem.HybridizationType.SP3, Chem.rdchem.HybridizationType.SP3D,\n",
    "                        Chem.rdchem.HybridizationType.SP3D2\n",
    "                    ]\n",
    "                ) + [atom.GetFormalCharge(), atom.IsInRing(), atom.GetIsAromatic()\n",
    "                     ] + [atom.GetNumRadicalElectrons()]\n",
    "\n",
    "def printProperties(atom):\n",
    "    print(\"=========\")\n",
    "    print(\"GetDegree\", atom.GetDegree())\n",
    "    print(\"GetImplicitValence\", atom.GetImplicitValence())\n",
    "    print(\"GetAtomicNum\", atom.GetAtomicNum())\n",
    "    print(\"GetTotalNumHs\", atom.GetTotalNumHs())\n",
    "    print(\"GetNumImplicitHs\", atom.GetNumImplicitHs())\n",
    "    print(\"GetNeighbors\", atom.GetNeighbors())\n",
    "    print(\"GetNumExplicitHs\", atom.GetNumExplicitHs())\n",
    "    print(\"GetTotalDegree\", atom.GetTotalDegree())\n",
    "    print(\"GetTotalNumHs\", atom.GetTotalNumHs())\n",
    "    print(\"GetTotalValence\", atom.GetTotalValence())"
   ]
  },
  {
   "cell_type": "code",
   "execution_count": 39,
   "metadata": {},
   "outputs": [
    {
     "name": "stderr",
     "output_type": "stream",
     "text": [
      "Found local copy...\n",
      "Loading...\n",
      "Done!\n",
      "[16:04:46] WARNING: not removing hydrogen atom without neighbors\n",
      "[16:04:46] WARNING: not removing hydrogen atom without neighbors\n",
      "[16:04:46] WARNING: not removing hydrogen atom without neighbors\n",
      "[16:04:46] WARNING: not removing hydrogen atom without neighbors\n",
      "[16:04:46] WARNING: not removing hydrogen atom without neighbors\n",
      "[16:04:46] WARNING: not removing hydrogen atom without neighbors\n",
      "[16:04:46] WARNING: not removing hydrogen atom without neighbors\n",
      "[16:04:46] WARNING: not removing hydrogen atom without neighbors\n",
      "[16:04:46] WARNING: not removing hydrogen atom without neighbors\n",
      "[16:04:46] WARNING: not removing hydrogen atom without neighbors\n",
      "[16:04:46] WARNING: not removing hydrogen atom without neighbors\n",
      "[16:04:46] WARNING: not removing hydrogen atom without neighbors\n",
      "[16:04:46] WARNING: not removing hydrogen atom without neighbors\n",
      "[16:04:46] WARNING: not removing hydrogen atom without neighbors\n",
      "[16:04:46] WARNING: not removing hydrogen atom without neighbors\n",
      "[16:04:46] WARNING: not removing hydrogen atom without neighbors\n",
      "[16:04:46] WARNING: not removing hydrogen atom without neighbors\n",
      "[16:04:46] WARNING: not removing hydrogen atom without neighbors\n",
      "[16:04:46] WARNING: not removing hydrogen atom without neighbors\n",
      "[16:04:46] WARNING: not removing hydrogen atom without neighbors\n",
      "[16:04:46] WARNING: not removing hydrogen atom without neighbors\n",
      "[16:04:46] WARNING: not removing hydrogen atom without neighbors\n",
      "[16:04:46] WARNING: not removing hydrogen atom without neighbors\n",
      "[16:04:46] WARNING: not removing hydrogen atom without neighbors\n",
      "[16:04:46] WARNING: not removing hydrogen atom without neighbors\n",
      "[16:04:46] WARNING: not removing hydrogen atom without neighbors\n",
      "[16:04:46] WARNING: not removing hydrogen atom without neighbors\n",
      "[16:04:46] WARNING: not removing hydrogen atom without neighbors\n",
      "[16:04:46] WARNING: not removing hydrogen atom without neighbors\n",
      "[16:04:46] WARNING: not removing hydrogen atom without neighbors\n",
      "[16:04:46] WARNING: not removing hydrogen atom without neighbors\n",
      "[16:04:46] WARNING: not removing hydrogen atom without neighbors\n",
      "[16:04:46] WARNING: not removing hydrogen atom without neighbors\n",
      "[16:04:46] WARNING: not removing hydrogen atom without neighbors\n",
      "[16:04:46] WARNING: not removing hydrogen atom without neighbors\n",
      "[16:04:46] WARNING: not removing hydrogen atom without neighbors\n",
      "[16:04:46] WARNING: not removing hydrogen atom without neighbors\n",
      "[16:04:47] WARNING: not removing hydrogen atom without neighbors\n",
      "[16:04:47] WARNING: not removing hydrogen atom without neighbors\n",
      "[16:04:47] WARNING: not removing hydrogen atom without neighbors\n",
      "[16:04:47] WARNING: not removing hydrogen atom without neighbors\n",
      "[16:04:47] WARNING: not removing hydrogen atom without neighbors\n",
      "[16:04:52] WARNING: not removing hydrogen atom without neighbors\n",
      "[16:04:52] WARNING: not removing hydrogen atom without neighbors\n",
      "[16:04:52] WARNING: not removing hydrogen atom without neighbors\n",
      "[16:04:52] WARNING: not removing hydrogen atom without neighbors\n",
      "[16:04:52] WARNING: not removing hydrogen atom without neighbors\n",
      "[16:04:52] WARNING: not removing hydrogen atom without neighbors\n",
      "[16:04:53] WARNING: not removing hydrogen atom without neighbors\n",
      "[16:04:53] WARNING: not removing hydrogen atom without neighbors\n",
      "[16:04:53] WARNING: not removing hydrogen atom without neighbors\n",
      "[16:04:53] WARNING: not removing hydrogen atom without neighbors\n",
      "[16:04:53] WARNING: not removing hydrogen atom without neighbors\n",
      "[16:04:53] WARNING: not removing hydrogen atom without neighbors\n",
      "[16:04:53] WARNING: not removing hydrogen atom without neighbors\n",
      "[16:04:53] WARNING: not removing hydrogen atom without neighbors\n",
      "[16:04:53] WARNING: not removing hydrogen atom without neighbors\n",
      "[16:04:53] WARNING: not removing hydrogen atom without neighbors\n",
      "[16:04:53] WARNING: not removing hydrogen atom without neighbors\n",
      "[16:04:53] WARNING: not removing hydrogen atom without neighbors\n",
      "[16:04:53] WARNING: not removing hydrogen atom without neighbors\n",
      "[16:04:53] WARNING: not removing hydrogen atom without neighbors\n",
      "[16:04:53] WARNING: not removing hydrogen atom without neighbors\n",
      "[16:04:53] WARNING: not removing hydrogen atom without neighbors\n",
      "[16:04:53] WARNING: not removing hydrogen atom without neighbors\n"
     ]
    }
   ],
   "source": [
    "class ECFPFeaturizer(Featurizer):\n",
    "    def __init__(self, y_column, radius=2, length=1024, **kwargs):\n",
    "        self.radius = radius\n",
    "        self.length = length\n",
    "        super().__init__(y_column, **kwargs)\n",
    "    \n",
    "    def __call__(self, df):\n",
    "        fingerprints = []\n",
    "        labels = []\n",
    "        for i, row in df.iterrows():\n",
    "            y = row[self.y_column]\n",
    "            smiles = row[self.smiles_col]\n",
    "            mol = Chem.MolFromSmiles(smiles)\n",
    "            fp = AllChem.GetMorganFingerprintAsBitVect(mol, self.radius, nBits=self.length)\n",
    "            fingerprints.append(fp)\n",
    "            labels.append(y)\n",
    "        fingerprints = np.array(fingerprints)\n",
    "        labels = np.array(labels)\n",
    "        return fingerprints, labels\n",
    "\n",
    "data = ADME('Solubility_AqSolDB')\n",
    "split = data.get_split()\n",
    "rmse = Evaluator(name = 'RMSE')\n",
    "\n",
    "featurizer = ECFPFeaturizer(y_column='Y')\n",
    "X_train, y_train = featurizer(split['train'])\n",
    "X_valid, y_valid = featurizer(split['valid'])\n",
    "X_test, y_test = featurizer(split['test'])\n",
    "\n",
    "featurizer = GraphFeaturizer('Y')\n",
    "graph = featurizer(split['test'].iloc[:1], defaultRepresentation)[0]"
   ]
  },
  {
   "cell_type": "code",
   "execution_count": 40,
   "metadata": {},
   "outputs": [
    {
     "name": "stderr",
     "output_type": "stream",
     "text": [
      "[16:04:55] WARNING: not removing hydrogen atom without neighbors\n",
      "[16:04:55] WARNING: not removing hydrogen atom without neighbors\n",
      "[16:04:55] WARNING: not removing hydrogen atom without neighbors\n",
      "[16:04:55] WARNING: not removing hydrogen atom without neighbors\n",
      "[16:04:55] WARNING: not removing hydrogen atom without neighbors\n",
      "[16:04:55] WARNING: not removing hydrogen atom without neighbors\n",
      "[16:04:55] WARNING: not removing hydrogen atom without neighbors\n",
      "[16:04:55] WARNING: not removing hydrogen atom without neighbors\n",
      "[16:04:55] WARNING: not removing hydrogen atom without neighbors\n",
      "[16:04:55] WARNING: not removing hydrogen atom without neighbors\n",
      "[16:04:55] WARNING: not removing hydrogen atom without neighbors\n",
      "[16:04:55] WARNING: not removing hydrogen atom without neighbors\n",
      "[16:04:55] WARNING: not removing hydrogen atom without neighbors\n",
      "[16:04:55] WARNING: not removing hydrogen atom without neighbors\n",
      "[16:04:55] WARNING: not removing hydrogen atom without neighbors\n",
      "[16:04:56] WARNING: not removing hydrogen atom without neighbors\n",
      "[16:04:56] WARNING: not removing hydrogen atom without neighbors\n",
      "[16:04:56] WARNING: not removing hydrogen atom without neighbors\n",
      "[16:04:56] WARNING: not removing hydrogen atom without neighbors\n",
      "[16:04:56] WARNING: not removing hydrogen atom without neighbors\n",
      "[16:04:56] WARNING: not removing hydrogen atom without neighbors\n",
      "[16:04:56] WARNING: not removing hydrogen atom without neighbors\n",
      "[16:04:56] WARNING: not removing hydrogen atom without neighbors\n",
      "[16:04:56] WARNING: not removing hydrogen atom without neighbors\n",
      "[16:04:56] WARNING: not removing hydrogen atom without neighbors\n",
      "[16:04:56] WARNING: not removing hydrogen atom without neighbors\n",
      "[16:04:56] WARNING: not removing hydrogen atom without neighbors\n",
      "[16:04:56] WARNING: not removing hydrogen atom without neighbors\n",
      "[16:04:56] WARNING: not removing hydrogen atom without neighbors\n",
      "[16:04:56] WARNING: not removing hydrogen atom without neighbors\n",
      "[16:04:56] WARNING: not removing hydrogen atom without neighbors\n",
      "[16:04:56] WARNING: not removing hydrogen atom without neighbors\n",
      "[16:04:56] WARNING: not removing hydrogen atom without neighbors\n",
      "[16:04:56] WARNING: not removing hydrogen atom without neighbors\n",
      "[16:04:56] WARNING: not removing hydrogen atom without neighbors\n",
      "[16:04:56] WARNING: not removing hydrogen atom without neighbors\n",
      "[16:04:56] WARNING: not removing hydrogen atom without neighbors\n",
      "[16:04:57] WARNING: not removing hydrogen atom without neighbors\n",
      "[16:04:57] WARNING: not removing hydrogen atom without neighbors\n",
      "[16:04:57] WARNING: not removing hydrogen atom without neighbors\n",
      "[16:04:57] WARNING: not removing hydrogen atom without neighbors\n",
      "[16:04:57] WARNING: not removing hydrogen atom without neighbors\n",
      "[16:04:59] WARNING: not removing hydrogen atom without neighbors\n",
      "[16:04:59] WARNING: not removing hydrogen atom without neighbors\n",
      "[16:04:59] WARNING: not removing hydrogen atom without neighbors\n",
      "[16:05:00] WARNING: not removing hydrogen atom without neighbors\n",
      "[16:05:00] WARNING: not removing hydrogen atom without neighbors\n",
      "[16:05:00] WARNING: not removing hydrogen atom without neighbors\n",
      "[16:05:00] WARNING: not removing hydrogen atom without neighbors\n",
      "[16:05:00] WARNING: not removing hydrogen atom without neighbors\n",
      "[16:05:01] WARNING: not removing hydrogen atom without neighbors\n",
      "[16:05:01] WARNING: not removing hydrogen atom without neighbors\n",
      "[16:05:01] WARNING: not removing hydrogen atom without neighbors\n",
      "[16:05:01] WARNING: not removing hydrogen atom without neighbors\n",
      "[16:05:01] WARNING: not removing hydrogen atom without neighbors\n",
      "[16:05:01] WARNING: not removing hydrogen atom without neighbors\n",
      "[16:05:01] WARNING: not removing hydrogen atom without neighbors\n",
      "[16:05:01] WARNING: not removing hydrogen atom without neighbors\n",
      "[16:05:01] WARNING: not removing hydrogen atom without neighbors\n",
      "[16:05:01] WARNING: not removing hydrogen atom without neighbors\n",
      "[16:05:01] WARNING: not removing hydrogen atom without neighbors\n",
      "[16:05:01] WARNING: not removing hydrogen atom without neighbors\n",
      "[16:05:01] WARNING: not removing hydrogen atom without neighbors\n",
      "[16:05:01] WARNING: not removing hydrogen atom without neighbors\n",
      "[16:05:01] WARNING: not removing hydrogen atom without neighbors\n",
      "[16:05:01] WARNING: not removing hydrogen atom without neighbors\n",
      "[16:05:01] WARNING: not removing hydrogen atom without neighbors\n",
      "[16:05:01] WARNING: not removing hydrogen atom without neighbors\n",
      "[16:05:02] WARNING: not removing hydrogen atom without neighbors\n",
      "[16:05:02] WARNING: not removing hydrogen atom without neighbors\n",
      "[16:05:02] WARNING: not removing hydrogen atom without neighbors\n",
      "[16:05:02] WARNING: not removing hydrogen atom without neighbors\n",
      "[16:05:02] WARNING: not removing hydrogen atom without neighbors\n",
      "[16:05:02] WARNING: not removing hydrogen atom without neighbors\n",
      "[16:05:02] WARNING: not removing hydrogen atom without neighbors\n",
      "[16:05:02] WARNING: not removing hydrogen atom without neighbors\n",
      "[16:05:02] WARNING: not removing hydrogen atom without neighbors\n",
      "[16:05:02] WARNING: not removing hydrogen atom without neighbors\n",
      "[16:05:02] WARNING: not removing hydrogen atom without neighbors\n",
      "[16:05:02] WARNING: not removing hydrogen atom without neighbors\n",
      "[16:05:02] WARNING: not removing hydrogen atom without neighbors\n",
      "[16:05:02] WARNING: not removing hydrogen atom without neighbors\n",
      "[16:05:02] WARNING: not removing hydrogen atom without neighbors\n",
      "[16:05:02] WARNING: not removing hydrogen atom without neighbors\n",
      "[16:05:02] WARNING: not removing hydrogen atom without neighbors\n",
      "[16:05:02] WARNING: not removing hydrogen atom without neighbors\n",
      "[16:05:02] WARNING: not removing hydrogen atom without neighbors\n",
      "[16:05:02] WARNING: not removing hydrogen atom without neighbors\n",
      "[16:05:03] WARNING: not removing hydrogen atom without neighbors\n",
      "[16:05:03] WARNING: not removing hydrogen atom without neighbors\n",
      "[16:05:03] WARNING: not removing hydrogen atom without neighbors\n",
      "[16:05:03] WARNING: not removing hydrogen atom without neighbors\n",
      "[16:05:03] WARNING: not removing hydrogen atom without neighbors\n",
      "[16:05:03] WARNING: not removing hydrogen atom without neighbors\n",
      "[16:05:03] WARNING: not removing hydrogen atom without neighbors\n",
      "[16:05:03] WARNING: not removing hydrogen atom without neighbors\n",
      "[16:05:03] WARNING: not removing hydrogen atom without neighbors\n",
      "[16:05:03] WARNING: not removing hydrogen atom without neighbors\n",
      "[16:05:03] WARNING: not removing hydrogen atom without neighbors\n",
      "[16:05:03] WARNING: not removing hydrogen atom without neighbors\n",
      "[16:05:03] WARNING: not removing hydrogen atom without neighbors\n",
      "[16:05:03] WARNING: not removing hydrogen atom without neighbors\n",
      "[16:05:03] WARNING: not removing hydrogen atom without neighbors\n",
      "[16:05:04] WARNING: not removing hydrogen atom without neighbors\n",
      "[16:05:04] WARNING: not removing hydrogen atom without neighbors\n",
      "[16:05:04] WARNING: not removing hydrogen atom without neighbors\n",
      "[16:05:04] WARNING: not removing hydrogen atom without neighbors\n",
      "[16:05:06] WARNING: not removing hydrogen atom without neighbors\n",
      "[16:05:06] WARNING: not removing hydrogen atom without neighbors\n",
      "[16:05:06] WARNING: not removing hydrogen atom without neighbors\n",
      "[16:05:06] WARNING: not removing hydrogen atom without neighbors\n",
      "[16:05:06] WARNING: not removing hydrogen atom without neighbors\n",
      "[16:05:06] WARNING: not removing hydrogen atom without neighbors\n",
      "[16:05:07] WARNING: not removing hydrogen atom without neighbors\n",
      "[16:05:07] WARNING: not removing hydrogen atom without neighbors\n",
      "[16:05:07] WARNING: not removing hydrogen atom without neighbors\n",
      "[16:05:07] WARNING: not removing hydrogen atom without neighbors\n",
      "[16:05:07] WARNING: not removing hydrogen atom without neighbors\n",
      "[16:05:07] WARNING: not removing hydrogen atom without neighbors\n",
      "[16:05:07] WARNING: not removing hydrogen atom without neighbors\n",
      "[16:05:07] WARNING: not removing hydrogen atom without neighbors\n",
      "[16:05:07] WARNING: not removing hydrogen atom without neighbors\n",
      "[16:05:07] WARNING: not removing hydrogen atom without neighbors\n",
      "[16:05:07] WARNING: not removing hydrogen atom without neighbors\n",
      "[16:05:07] WARNING: not removing hydrogen atom without neighbors\n",
      "[16:05:07] WARNING: not removing hydrogen atom without neighbors\n",
      "[16:05:07] WARNING: not removing hydrogen atom without neighbors\n",
      "[16:05:08] WARNING: not removing hydrogen atom without neighbors\n",
      "[16:05:08] WARNING: not removing hydrogen atom without neighbors\n",
      "[16:05:08] WARNING: not removing hydrogen atom without neighbors\n",
      "[16:05:08] WARNING: not removing hydrogen atom without neighbors\n",
      "[16:05:08] WARNING: not removing hydrogen atom without neighbors\n",
      "[16:05:08] WARNING: not removing hydrogen atom without neighbors\n",
      "[16:05:08] WARNING: not removing hydrogen atom without neighbors\n",
      "[16:05:08] WARNING: not removing hydrogen atom without neighbors\n",
      "[16:05:08] WARNING: not removing hydrogen atom without neighbors\n",
      "[16:05:09] WARNING: not removing hydrogen atom without neighbors\n",
      "[16:05:09] WARNING: not removing hydrogen atom without neighbors\n",
      "[16:05:09] WARNING: not removing hydrogen atom without neighbors\n",
      "[16:05:09] WARNING: not removing hydrogen atom without neighbors\n",
      "[16:05:09] WARNING: not removing hydrogen atom without neighbors\n",
      "[16:05:09] WARNING: not removing hydrogen atom without neighbors\n",
      "[16:05:09] WARNING: not removing hydrogen atom without neighbors\n",
      "[16:05:09] WARNING: not removing hydrogen atom without neighbors\n",
      "[16:05:09] WARNING: not removing hydrogen atom without neighbors\n",
      "[16:05:09] WARNING: not removing hydrogen atom without neighbors\n",
      "[16:05:09] WARNING: not removing hydrogen atom without neighbors\n",
      "[16:05:09] WARNING: not removing hydrogen atom without neighbors\n",
      "[16:05:09] WARNING: not removing hydrogen atom without neighbors\n",
      "[16:05:09] WARNING: not removing hydrogen atom without neighbors\n",
      "[16:05:10] WARNING: not removing hydrogen atom without neighbors\n",
      "[16:05:10] WARNING: not removing hydrogen atom without neighbors\n",
      "[16:05:10] WARNING: not removing hydrogen atom without neighbors\n",
      "[16:05:10] WARNING: not removing hydrogen atom without neighbors\n",
      "[16:05:10] WARNING: not removing hydrogen atom without neighbors\n",
      "[16:05:10] WARNING: not removing hydrogen atom without neighbors\n",
      "[16:05:10] WARNING: not removing hydrogen atom without neighbors\n",
      "[16:05:10] WARNING: not removing hydrogen atom without neighbors\n",
      "[16:05:10] WARNING: not removing hydrogen atom without neighbors\n",
      "[16:05:10] WARNING: not removing hydrogen atom without neighbors\n",
      "[16:05:10] WARNING: not removing hydrogen atom without neighbors\n",
      "[16:05:10] WARNING: not removing hydrogen atom without neighbors\n",
      "[16:05:10] WARNING: not removing hydrogen atom without neighbors\n",
      "[16:05:10] WARNING: not removing hydrogen atom without neighbors\n",
      "[16:05:10] WARNING: not removing hydrogen atom without neighbors\n",
      "[16:05:10] WARNING: not removing hydrogen atom without neighbors\n",
      "[16:05:10] WARNING: not removing hydrogen atom without neighbors\n",
      "[16:05:11] WARNING: not removing hydrogen atom without neighbors\n",
      "[16:05:11] WARNING: not removing hydrogen atom without neighbors\n",
      "[16:05:11] WARNING: not removing hydrogen atom without neighbors\n",
      "[16:05:11] WARNING: not removing hydrogen atom without neighbors\n",
      "[16:05:11] WARNING: not removing hydrogen atom without neighbors\n",
      "[16:05:14] WARNING: not removing hydrogen atom without neighbors\n",
      "[16:05:14] WARNING: not removing hydrogen atom without neighbors\n",
      "[16:05:14] WARNING: not removing hydrogen atom without neighbors\n",
      "[16:05:14] WARNING: not removing hydrogen atom without neighbors\n",
      "[16:05:14] WARNING: not removing hydrogen atom without neighbors\n",
      "[16:05:14] WARNING: not removing hydrogen atom without neighbors\n",
      "[16:05:15] WARNING: not removing hydrogen atom without neighbors\n",
      "[16:05:15] WARNING: not removing hydrogen atom without neighbors\n",
      "[16:05:15] WARNING: not removing hydrogen atom without neighbors\n",
      "[16:05:15] WARNING: not removing hydrogen atom without neighbors\n",
      "[16:05:15] WARNING: not removing hydrogen atom without neighbors\n",
      "[16:05:15] WARNING: not removing hydrogen atom without neighbors\n",
      "[16:05:15] WARNING: not removing hydrogen atom without neighbors\n",
      "[16:05:16] WARNING: not removing hydrogen atom without neighbors\n",
      "[16:05:16] WARNING: not removing hydrogen atom without neighbors\n",
      "[16:05:16] WARNING: not removing hydrogen atom without neighbors\n",
      "[16:05:16] WARNING: not removing hydrogen atom without neighbors\n",
      "[16:05:16] WARNING: not removing hydrogen atom without neighbors\n",
      "[16:05:16] WARNING: not removing hydrogen atom without neighbors\n",
      "[16:05:16] WARNING: not removing hydrogen atom without neighbors\n",
      "[16:05:16] WARNING: not removing hydrogen atom without neighbors\n",
      "[16:05:16] WARNING: not removing hydrogen atom without neighbors\n",
      "[16:05:16] WARNING: not removing hydrogen atom without neighbors\n"
     ]
    }
   ],
   "source": [
    "from torch_geometric.loader import DataLoader as GraphDataLoader\n",
    "\n",
    "\n",
    "# prepare data loaders\n",
    "batch_size = 64\n",
    "\n",
    "#dla repr1\n",
    "train_loader1 = GraphDataLoader(featurizer(split['train'], representation1), batch_size=batch_size, shuffle=True)\n",
    "valid_loader1 = GraphDataLoader(featurizer(split['valid'], representation1), batch_size=batch_size)\n",
    "test_loader1 = GraphDataLoader(featurizer(split['test'], representation1), batch_size=batch_size)\n",
    "\n",
    "#dla repr10\n",
    "train_loader10 = GraphDataLoader(featurizer(split['train'], representation10), batch_size=batch_size, shuffle=True)\n",
    "valid_loader10 = GraphDataLoader(featurizer(split['valid'], representation10), batch_size=batch_size)\n",
    "test_loader10 = GraphDataLoader(featurizer(split['test'], representation10), batch_size=batch_size)\n",
    "\n",
    "#dla naszej warstwy\n",
    "train_loader = GraphDataLoader(featurizer(split['train'], representationAll), batch_size=batch_size, shuffle=True)\n",
    "valid_loader = GraphDataLoader(featurizer(split['valid'], representationAll), batch_size=batch_size)\n",
    "test_loader = GraphDataLoader(featurizer(split['test'], representationAll), batch_size=batch_size)"
   ]
  },
  {
   "cell_type": "code",
   "execution_count": 41,
   "metadata": {},
   "outputs": [],
   "source": [
    "from torch_geometric.nn import GCNConv, GINConv, global_mean_pool\n",
    "import torch.nn.functional as F\n",
    "from torch_geometric.nn import global_mean_pool as gap"
   ]
  },
  {
   "cell_type": "code",
   "execution_count": 42,
   "metadata": {},
   "outputs": [],
   "source": [
    "#warstwa attention pooling\n",
    "class MyAttentionModule3(torch.nn.Module): # zakladamy ze atom ma 49 featerow\n",
    "    def __init__(self, groupFeatures=1):\n",
    "        super().__init__()\n",
    "        self.groupFeatures = groupFeatures\n",
    "        self.gates = torch.nn.ModuleDict({ # do wyliczenia atencji dla kazdej grupy cech - jest ich 9\n",
    "            'AtomicNum': GCNConv(12, 1),\n",
    "            'Degree': GCNConv(6, 1),\n",
    "            'TotalNumHs': GCNConv(5, 1),\n",
    "            'ImplicitValence': GCNConv(6, 1),\n",
    "            'Hybridization': GCNConv(5, 1),\n",
    "            'FormalCharge': GCNConv(1, 1),\n",
    "            'IsInRing': GCNConv(1, 1),\n",
    "            'IsAromatic': GCNConv(1, 1),\n",
    "            'NumRadicalElectrons': GCNConv(1, 1)\n",
    "        })\n",
    "        \n",
    "        self.feats = torch.nn.ModuleDict({ # do transformacji grupy cech w wektor, na razie dziala tylko dla groupFeatures=1\n",
    "            'AtomicNum': torch.nn.Linear(12, groupFeatures),\n",
    "            'Degree': torch.nn.Linear(6, groupFeatures),\n",
    "            'TotalNumHs': torch.nn.Linear(5, groupFeatures),\n",
    "            'ImplicitValence': torch.nn.Linear(6, groupFeatures),\n",
    "            'Hybridization': torch.nn.Linear(5, groupFeatures),\n",
    "            'FormalCharge': torch.nn.Linear(1, groupFeatures),\n",
    "            'IsInRing': torch.nn.Linear(1, groupFeatures),\n",
    "            'IsAromatic': torch.nn.Linear(1, groupFeatures),\n",
    "            'NumRadicalElectrons': torch.nn.Linear(1, groupFeatures)\n",
    "        })\n",
    "\n",
    "    def forward(self, x, edge_index, batch):\n",
    "        gates = []\n",
    "        gates.append(self.gates['AtomicNum'](x[:,0:12], edge_index))\n",
    "        gates.append(self.gates['Degree'](x[:,12:18], edge_index))\n",
    "        gates.append(self.gates['TotalNumHs'](x[:,18:23], edge_index))\n",
    "        gates.append(self.gates['ImplicitValence'](x[:,23:29], edge_index))\n",
    "        gates.append(self.gates['Hybridization'](x[:,29:34], edge_index))\n",
    "        gates.append(self.gates['FormalCharge'](x[:,34:35], edge_index))\n",
    "        gates.append(self.gates['IsInRing'](x[:,35:36], edge_index))\n",
    "        gates.append(self.gates['IsAromatic'](x[:,36:37], edge_index))\n",
    "        gates.append(self.gates['NumRadicalElectrons'](x[:,37:38], edge_index))\n",
    "        logits = torch.cat(gates, dim=-1)\n",
    "        attention = torch.softmax(logits, dim=-1).unsqueeze(-1)\n",
    "        \n",
    "        subgroups = []\n",
    "        subgroups.append(self.feats['AtomicNum'](x[:,0:12]) * attention[:,0])\n",
    "        subgroups.append(self.feats['Degree'](x[:,12:18]) * attention[:,1])\n",
    "        subgroups.append(self.feats['TotalNumHs'](x[:,18:23]) * attention[:,2])\n",
    "        subgroups.append(self.feats['ImplicitValence'](x[:,23:29]) * attention[:,3])\n",
    "        subgroups.append(self.feats['Hybridization'](x[:,29:34]) * attention[:,4])\n",
    "        subgroups.append(self.feats['FormalCharge'](x[:,34:35]) * attention[:,5])\n",
    "        subgroups.append(self.feats['IsInRing'](x[:,35:36]) * attention[:,6])\n",
    "        subgroups.append(self.feats['IsAromatic'](x[:,36:37]) * attention[:,7])\n",
    "        subgroups.append(self.feats['NumRadicalElectrons'](x[:,37:38]) * attention[:,8])\n",
    "        x = torch.stack(subgroups, dim=-2)\n",
    "        x = torch.sum(x, dim=-2)\n",
    "        \n",
    "        return x, attention"
   ]
  },
  {
   "cell_type": "code",
   "execution_count": 43,
   "metadata": {},
   "outputs": [],
   "source": [
    "def attSequential(n_feats):\n",
    "    return torch.nn.Sequential(torch.nn.Linear(n_feats, 1),\n",
    "                       torch.nn.BatchNorm1d(1), torch.nn.ReLU(),\n",
    "                       torch.nn.Linear(1, 1), torch.nn.ReLU())"
   ]
  },
  {
   "cell_type": "code",
   "execution_count": 44,
   "metadata": {},
   "outputs": [],
   "source": [
    "#warstwa attention pooling\n",
    "class MyAttentionModule4(torch.nn.Module): # zakladamy ze atom ma 49 featerow\n",
    "    def __init__(self, groupFeatures=1):\n",
    "        super().__init__()\n",
    "        self.groupFeatures = groupFeatures\n",
    "        self.gates = torch.nn.ModuleDict({ # do wyliczenia atencji dla kazdej grupy cech - jest ich 9\n",
    "            'AtomicNum': GINConv(attSequential(12), train_eps=True),\n",
    "            'Degree': GINConv(attSequential(6), train_eps=True),\n",
    "            'TotalNumHs': GINConv(attSequential(5), train_eps=True),\n",
    "            'ImplicitValence': GINConv(attSequential(6), train_eps=True),\n",
    "            'Hybridization': GINConv(attSequential(5), train_eps=True),\n",
    "            'FormalCharge': GINConv(attSequential(1), train_eps=True),\n",
    "            'IsInRing': GINConv(attSequential(1), train_eps=True),\n",
    "            'IsAromatic': GINConv(attSequential(1), train_eps=True),\n",
    "            'NumRadicalElectrons': GINConv(attSequential(1), train_eps=True)\n",
    "        })\n",
    "        \n",
    "        self.feats = torch.nn.ModuleDict({ # do transformacji grupy cech w wektor, na razie dziala tylko dla groupFeatures=1\n",
    "            'AtomicNum': torch.nn.Linear(12, groupFeatures),\n",
    "            'Degree': torch.nn.Linear(6, groupFeatures),\n",
    "            'TotalNumHs': torch.nn.Linear(5, groupFeatures),\n",
    "            'ImplicitValence': torch.nn.Linear(6, groupFeatures),\n",
    "            'Hybridization': torch.nn.Linear(5, groupFeatures),\n",
    "            'FormalCharge': torch.nn.Linear(1, groupFeatures),\n",
    "            'IsInRing': torch.nn.Linear(1, groupFeatures),\n",
    "            'IsAromatic': torch.nn.Linear(1, groupFeatures),\n",
    "            'NumRadicalElectrons': torch.nn.Linear(1, groupFeatures)\n",
    "        })\n",
    "\n",
    "    def forward(self, x, edge_index, batch):\n",
    "        gates = []\n",
    "        gates.append(self.gates['AtomicNum'](x[:,0:12], edge_index))\n",
    "        gates.append(self.gates['Degree'](x[:,12:18], edge_index))\n",
    "        gates.append(self.gates['TotalNumHs'](x[:,18:23], edge_index))\n",
    "        gates.append(self.gates['ImplicitValence'](x[:,23:29], edge_index))\n",
    "        gates.append(self.gates['Hybridization'](x[:,29:34], edge_index))\n",
    "        gates.append(self.gates['FormalCharge'](x[:,34:35], edge_index))\n",
    "        gates.append(self.gates['IsInRing'](x[:,35:36], edge_index))\n",
    "        gates.append(self.gates['IsAromatic'](x[:,36:37], edge_index))\n",
    "        gates.append(self.gates['NumRadicalElectrons'](x[:,37:38], edge_index))\n",
    "        logits = torch.cat(gates, dim=-1)\n",
    "        attention = torch.softmax(logits, dim=-1).unsqueeze(-1)\n",
    "        \n",
    "        subgroups = []\n",
    "        subgroups.append(self.feats['AtomicNum'](x[:,0:12]) * attention[:,0])\n",
    "        subgroups.append(self.feats['Degree'](x[:,12:18]) * attention[:,1])\n",
    "        subgroups.append(self.feats['TotalNumHs'](x[:,18:23]) * attention[:,2])\n",
    "        subgroups.append(self.feats['ImplicitValence'](x[:,23:29]) * attention[:,3])\n",
    "        subgroups.append(self.feats['Hybridization'](x[:,29:34]) * attention[:,4])\n",
    "        subgroups.append(self.feats['FormalCharge'](x[:,34:35]) * attention[:,5])\n",
    "        subgroups.append(self.feats['IsInRing'](x[:,35:36]) * attention[:,6])\n",
    "        subgroups.append(self.feats['IsAromatic'](x[:,36:37]) * attention[:,7])\n",
    "        subgroups.append(self.feats['NumRadicalElectrons'](x[:,37:38]) * attention[:,8])\n",
    "        x = torch.stack(subgroups, dim=-2)\n",
    "        x = torch.sum(x, dim=-2)\n",
    "        \n",
    "        return x, attention"
   ]
  },
  {
   "cell_type": "code",
   "execution_count": 45,
   "metadata": {},
   "outputs": [],
   "source": [
    "class GraphNeuralNetwork(torch.nn.Module):  # TODO: assign hyperparameters to attributes and define the forward pass\n",
    "    def __init__(self, hidden_size, n_convs=3, my_layer=None, features_after_layer=26, n_features=49, dropout=0.2):\n",
    "        super().__init__()\n",
    "        self.myAttentionModule = my_layer\n",
    "        self.dropout = dropout\n",
    "\n",
    "        convs = torch.nn.ModuleList()\n",
    "        convs.append(GCNConv(features_after_layer, hidden_size))\n",
    "        for i in range(1, n_convs):\n",
    "            convs.append(GCNConv(hidden_size, hidden_size))\n",
    "        self.convs = convs\n",
    "        self.linear = torch.nn.Linear(hidden_size, 1)\n",
    "    \n",
    "    def forward(self, x, edge_index, batch):\n",
    "        att = None\n",
    "        if self.myAttentionModule is not None:\n",
    "            x, att = self.myAttentionModule(x, edge_index, batch)\n",
    "        for i in range(0, len(self.convs)-1):\n",
    "            x = self.convs[i](x, edge_index)\n",
    "            x = x.relu()\n",
    "        x = self.convs[-1](x, edge_index)\n",
    "        \n",
    "        x = gap(x, batch)\n",
    "        \n",
    "        x = F.dropout(x, p=self.dropout, training=self.training)\n",
    "\n",
    "        out = self.linear(x)\n",
    "\n",
    "        return out, att"
   ]
  },
  {
   "cell_type": "code",
   "execution_count": 46,
   "metadata": {},
   "outputs": [],
   "source": [
    "def train(model, train_loader, valid_loader, epochs=20, learning_rate = 0.01):\n",
    "    model.train()\n",
    "    \n",
    "    # training loop\n",
    "    optimizer = torch.optim.Adam(model.parameters(), learning_rate) # TODO: define an optimizer\n",
    "    loss_fn = torch.nn.MSELoss()  # TODO: define a loss function\n",
    "    for epoch in trange(1, epochs + 1, leave=False):\n",
    "        for data in tqdm(train_loader, leave=False):\n",
    "            x, edge_index, batch, y = data.x, data.edge_index, data.batch, data.y\n",
    "            model.zero_grad()\n",
    "            preds, att = model(x, edge_index, batch)\n",
    "            loss = loss_fn(preds, y.reshape(-1, 1))\n",
    "            loss.backward()\n",
    "            # print(\"==============\")\n",
    "            # for par in model.myAttentionModule.parameters():\n",
    "            #     print(par)\n",
    "            optimizer.step()\n",
    "    return model\n",
    "\n",
    "\n",
    "def predict(model, test_loader):\n",
    "    # evaluation loop\n",
    "    preds_batches = []\n",
    "    with torch.no_grad():\n",
    "        for data in tqdm(test_loader):\n",
    "            x, edge_index, batch = data.x, data.edge_index, data.batch\n",
    "            \n",
    "            preds, att = model(x, edge_index, batch)\n",
    "            preds_batches.append(preds.cpu().detach().numpy())\n",
    "    preds = np.concatenate(preds_batches)\n",
    "    return preds, att"
   ]
  },
  {
   "cell_type": "code",
   "execution_count": 58,
   "metadata": {},
   "outputs": [],
   "source": [
    "def train_best(model, train_loader, valid_loader, epochs=20, learning_rate = 0.01, saveImg=False, title=\"\"):\n",
    "    model.train()\n",
    "\n",
    "    torch.save(model, \"train.pth\")\n",
    "    best_val = 1000000\n",
    "    \n",
    "    # training loop\n",
    "    optimizer = torch.optim.Adam(model.parameters(), learning_rate) # TODO: define an optimizer\n",
    "    loss_fn = torch.nn.MSELoss()  # TODO: define a loss function\n",
    "    for epoch in trange(1, epochs + 1, leave=False):\n",
    "        # preds_batches = []\n",
    "        running_loss = 0.0\n",
    "        for data in train_loader:\n",
    "            x, edge_index, batch, y = data.x, data.edge_index, data.batch, data.y\n",
    "            model.zero_grad()\n",
    "            preds, att = model(x, edge_index, batch)\n",
    "            loss = loss_fn(preds, y.reshape(-1, 1))\n",
    "\n",
    "            loss.backward()\n",
    "            optimizer.step()\n",
    "\n",
    "        # evaluation loop\n",
    "        preds_batches = []\n",
    "        with torch.no_grad():\n",
    "            for data in valid_loader:\n",
    "                x, edge_index, batch, y = data.x, data.edge_index, data.batch, data.y\n",
    "                preds, att = model(x, edge_index, batch)\n",
    "                loss = loss_fn(preds, y.reshape(-1, 1))\n",
    "                preds_batches.append(preds.cpu().detach().numpy())\n",
    "        preds = np.concatenate(preds_batches)\n",
    "        mae = rmse(y_valid, preds.flatten())\n",
    "        if mae < best_val:\n",
    "            torch.save(model, \"train.pth\")\n",
    "            best_val = mae\n",
    "            print(best_val)\n",
    "\n",
    "    model = torch.load(\"train.pth\")\n",
    "    model.eval()\n",
    "    return model"
   ]
  },
  {
   "cell_type": "code",
   "execution_count": 51,
   "metadata": {},
   "outputs": [],
   "source": [
    "def visualize(model, train_loader, valid_loader, test_loader, epochs=20, learning_rate = 0.01, saveImg=False, title=\"\"):\n",
    "    model.train()\n",
    "\n",
    "    torch.save(model, \"train.pth\")\n",
    "    best_val = 1000000\n",
    "    \n",
    "    # training loop\n",
    "    optimizer = torch.optim.Adam(model.parameters(), learning_rate) # TODO: define an optimizer\n",
    "    loss_fn = torch.nn.MSELoss()  # TODO: define a loss function\n",
    "    train_losses = []\n",
    "    val_losses = []\n",
    "    train_errors = []\n",
    "    val_errors = []\n",
    "    for epoch in trange(1, epochs + 1, leave=False):\n",
    "        # preds_batches = []\n",
    "        running_loss = 0.0\n",
    "        for data in train_loader:\n",
    "            x, edge_index, batch, y = data.x, data.edge_index, data.batch, data.y\n",
    "            model.zero_grad()\n",
    "            preds, att = model(x, edge_index, batch)\n",
    "            loss = loss_fn(preds, y.reshape(-1, 1))\n",
    "            # print(len(train_dataset))\n",
    "\n",
    "            running_loss += loss.item()\n",
    "            # preds_batches.append(preds.cpu().detach().numpy())\n",
    "\n",
    "            loss.backward()\n",
    "            optimizer.step()\n",
    "        epoch_loss = running_loss / len(train_loader)\n",
    "        train_losses.append(epoch_loss)\n",
    "        # preds = np.concatenate(preds_batches)\n",
    "        # mae = rmse(y_train, preds.flatten())\n",
    "        # train_errors.append(mae)\n",
    "\n",
    "        # evaluation loop\n",
    "        preds_batches = []\n",
    "        running_loss = 0.0\n",
    "        with torch.no_grad():\n",
    "            for data in valid_loader:\n",
    "                x, edge_index, batch, y = data.x, data.edge_index, data.batch, data.y\n",
    "                preds, att = model(x, edge_index, batch)\n",
    "                loss = loss_fn(preds, y.reshape(-1, 1))\n",
    "                # print(len(train_dataset))\n",
    "\n",
    "                running_loss += loss.item()\n",
    "                preds_batches.append(preds.cpu().detach().numpy())\n",
    "        epoch_loss = running_loss / len(valid_loader)\n",
    "        val_losses.append(epoch_loss)\n",
    "        preds = np.concatenate(preds_batches)\n",
    "        mae = rmse(y_valid, preds.flatten())\n",
    "        if mae < best_val:\n",
    "            torch.save(model, \"train.pth\")\n",
    "            best_val = mae\n",
    "            print(best_val)\n",
    "        val_errors.append(mae)\n",
    "\n",
    "    model = torch.load(\"train.pth\")\n",
    "    model.eval()\n",
    "\n",
    "    ##### visualize ########\n",
    "    plt.plot(train_losses, label='train_loss')\n",
    "    plt.plot(val_losses, label='val_loss')\n",
    "    plt.legend()\n",
    "    plt.show()\n",
    "    if saveImg:\n",
    "        plt.savefig(title + \"_loss.png\")\n",
    "\n",
    "    # plt.plot(train_errors,label='train_errors')\n",
    "    plt.plot(val_errors, label='val_RMSE')\n",
    "    plt.legend()\n",
    "    plt.show()\n",
    "    if saveImg:\n",
    "        plt.savefig(title + \"_val_error.png\")\n",
    "    return model"
   ]
  },
  {
   "cell_type": "code",
   "execution_count": 52,
   "metadata": {},
   "outputs": [
    {
     "data": {
      "application/vnd.jupyter.widget-view+json": {
       "model_id": "37d9fcac2dd34e3e881b3b63d19490dc",
       "version_major": 2,
       "version_minor": 0
      },
      "text/plain": [
       "  0%|          | 0/32 [00:00<?, ?it/s]"
      ]
     },
     "metadata": {},
     "output_type": "display_data"
    },
    {
     "name": "stdout",
     "output_type": "stream",
     "text": [
      "1.49\n"
     ]
    }
   ],
   "source": [
    "predictions, att = predict(m, test_loader)\n",
    "rmse_score = rmse(y_test, predictions.flatten())\n",
    "print(\"{:.2f}\".format(rmse_score))"
   ]
  },
  {
   "cell_type": "code",
   "execution_count": 53,
   "metadata": {},
   "outputs": [
    {
     "data": {
      "application/vnd.jupyter.widget-view+json": {
       "model_id": "fb711b6c53b143e48ad470391e70610f",
       "version_major": 2,
       "version_minor": 0
      },
      "text/plain": [
       "  0%|          | 0/100 [00:00<?, ?it/s]"
      ]
     },
     "metadata": {},
     "output_type": "display_data"
    },
    {
     "name": "stdout",
     "output_type": "stream",
     "text": [
      "2.030373986516508\n",
      "1.8392891521549444\n",
      "1.8127879602385792\n",
      "1.790223882083778\n",
      "1.7143554641186989\n",
      "1.6961906334926942\n",
      "1.6507063664669026\n",
      "1.6432735782021728\n",
      "1.6316459436938684\n",
      "1.6085423525225202\n",
      "1.5532830042291985\n",
      "1.5476869005558194\n",
      "1.5395368107077143\n",
      "1.5384053113364076\n",
      "1.5350052108918972\n",
      "1.5020297540415124\n",
      "1.495454872965647\n",
      "1.4939167908675106\n",
      "1.4698413496507814\n",
      "1.4635450907272705\n"
     ]
    },
    {
     "data": {
      "image/png": "[encoded data removed]",
      "text/plain": [
       "<Figure size 640x480 with 1 Axes>"
      ]
     },
     "metadata": {},
     "output_type": "display_data"
    },
    {
     "data": {
      "image/png": "[encoded data removed]",
      "text/plain": [
       "<Figure size 640x480 with 1 Axes>"
      ]
     },
     "metadata": {},
     "output_type": "display_data"
    },
    {
     "data": {
      "application/vnd.jupyter.widget-view+json": {
       "model_id": "716d1e28f13246dbbb7af38c9a2e1065",
       "version_major": 2,
       "version_minor": 0
      },
      "text/plain": [
       "  0%|          | 0/100 [00:00<?, ?it/s]"
      ]
     },
     "metadata": {},
     "output_type": "display_data"
    },
    {
     "name": "stdout",
     "output_type": "stream",
     "text": [
      "1.9645092451284683\n",
      "1.8695090521661268\n",
      "1.6750308463096497\n",
      "1.630987461106481\n",
      "1.6234646622061133\n",
      "1.5494987214839904\n",
      "1.5389864733008243\n",
      "1.5107163231632705\n",
      "1.4783986332884844\n",
      "1.4663615324557087\n",
      "1.4642783484781656\n",
      "1.4638974072448192\n",
      "1.4611958315787572\n",
      "1.4257707761149752\n"
     ]
    },
    {
     "data": {
      "image/png": "[encoded data removed]",
      "text/plain": [
       "<Figure size 640x480 with 1 Axes>"
      ]
     },
     "metadata": {},
     "output_type": "display_data"
    },
    {
     "data": {
      "image/png": "[encoded data removed]",
      "text/plain": [
       "<Figure size 640x480 with 1 Axes>"
      ]
     },
     "metadata": {},
     "output_type": "display_data"
    },
    {
     "data": {
      "application/vnd.jupyter.widget-view+json": {
       "model_id": "53b0b868ac1340bbabc238ba0d57fa08",
       "version_major": 2,
       "version_minor": 0
      },
      "text/plain": [
       "  0%|          | 0/100 [00:00<?, ?it/s]"
      ]
     },
     "metadata": {},
     "output_type": "display_data"
    },
    {
     "name": "stdout",
     "output_type": "stream",
     "text": [
      "1.9796013496778186\n",
      "1.7710201512609822\n",
      "1.7180211087556132\n",
      "1.6514778346826984\n",
      "1.6273566025112718\n",
      "1.6146672551880779\n",
      "1.5450881223645512\n",
      "1.5328282563936904\n",
      "1.5213490788340844\n",
      "1.472840842909445\n",
      "1.4654254664393958\n",
      "1.4470187040227966\n",
      "1.4366363978677126\n",
      "1.4057191331143986\n",
      "1.4028291348309598\n"
     ]
    },
    {
     "data": {
      "image/png": "[encoded data removed]",
      "text/plain": [
       "<Figure size 640x480 with 1 Axes>"
      ]
     },
     "metadata": {},
     "output_type": "display_data"
    },
    {
     "data": {
      "image/png": "[encoded data removed]",
      "text/plain": [
       "<Figure size 640x480 with 1 Axes>"
      ]
     },
     "metadata": {},
     "output_type": "display_data"
    },
    {
     "data": {
      "text/plain": [
       "GraphNeuralNetwork(\n",
       "  (myAttentionModule): MyAttentionModule4(\n",
       "    (gates): ModuleDict(\n",
       "      (AtomicNum): GINConv(nn=Sequential(\n",
       "        (0): Linear(in_features=12, out_features=1, bias=True)\n",
       "        (1): BatchNorm1d(1, eps=1e-05, momentum=0.1, affine=True, track_running_stats=True)\n",
       "        (2): ReLU()\n",
       "        (3): Linear(in_features=1, out_features=1, bias=True)\n",
       "        (4): ReLU()\n",
       "      ))\n",
       "      (Degree): GINConv(nn=Sequential(\n",
       "        (0): Linear(in_features=6, out_features=1, bias=True)\n",
       "        (1): BatchNorm1d(1, eps=1e-05, momentum=0.1, affine=True, track_running_stats=True)\n",
       "        (2): ReLU()\n",
       "        (3): Linear(in_features=1, out_features=1, bias=True)\n",
       "        (4): ReLU()\n",
       "      ))\n",
       "      (TotalNumHs): GINConv(nn=Sequential(\n",
       "        (0): Linear(in_features=5, out_features=1, bias=True)\n",
       "        (1): BatchNorm1d(1, eps=1e-05, momentum=0.1, affine=True, track_running_stats=True)\n",
       "        (2): ReLU()\n",
       "        (3): Linear(in_features=1, out_features=1, bias=True)\n",
       "        (4): ReLU()\n",
       "      ))\n",
       "      (ImplicitValence): GINConv(nn=Sequential(\n",
       "        (0): Linear(in_features=6, out_features=1, bias=True)\n",
       "        (1): BatchNorm1d(1, eps=1e-05, momentum=0.1, affine=True, track_running_stats=True)\n",
       "        (2): ReLU()\n",
       "        (3): Linear(in_features=1, out_features=1, bias=True)\n",
       "        (4): ReLU()\n",
       "      ))\n",
       "      (Hybridization): GINConv(nn=Sequential(\n",
       "        (0): Linear(in_features=5, out_features=1, bias=True)\n",
       "        (1): BatchNorm1d(1, eps=1e-05, momentum=0.1, affine=True, track_running_stats=True)\n",
       "        (2): ReLU()\n",
       "        (3): Linear(in_features=1, out_features=1, bias=True)\n",
       "        (4): ReLU()\n",
       "      ))\n",
       "      (FormalCharge): GINConv(nn=Sequential(\n",
       "        (0): Linear(in_features=1, out_features=1, bias=True)\n",
       "        (1): BatchNorm1d(1, eps=1e-05, momentum=0.1, affine=True, track_running_stats=True)\n",
       "        (2): ReLU()\n",
       "        (3): Linear(in_features=1, out_features=1, bias=True)\n",
       "        (4): ReLU()\n",
       "      ))\n",
       "      (IsInRing): GINConv(nn=Sequential(\n",
       "        (0): Linear(in_features=1, out_features=1, bias=True)\n",
       "        (1): BatchNorm1d(1, eps=1e-05, momentum=0.1, affine=True, track_running_stats=True)\n",
       "        (2): ReLU()\n",
       "        (3): Linear(in_features=1, out_features=1, bias=True)\n",
       "        (4): ReLU()\n",
       "      ))\n",
       "      (IsAromatic): GINConv(nn=Sequential(\n",
       "        (0): Linear(in_features=1, out_features=1, bias=True)\n",
       "        (1): BatchNorm1d(1, eps=1e-05, momentum=0.1, affine=True, track_running_stats=True)\n",
       "        (2): ReLU()\n",
       "        (3): Linear(in_features=1, out_features=1, bias=True)\n",
       "        (4): ReLU()\n",
       "      ))\n",
       "      (NumRadicalElectrons): GINConv(nn=Sequential(\n",
       "        (0): Linear(in_features=1, out_features=1, bias=True)\n",
       "        (1): BatchNorm1d(1, eps=1e-05, momentum=0.1, affine=True, track_running_stats=True)\n",
       "        (2): ReLU()\n",
       "        (3): Linear(in_features=1, out_features=1, bias=True)\n",
       "        (4): ReLU()\n",
       "      ))\n",
       "    )\n",
       "    (feats): ModuleDict(\n",
       "      (AtomicNum): Linear(in_features=12, out_features=100, bias=True)\n",
       "      (Degree): Linear(in_features=6, out_features=100, bias=True)\n",
       "      (TotalNumHs): Linear(in_features=5, out_features=100, bias=True)\n",
       "      (ImplicitValence): Linear(in_features=6, out_features=100, bias=True)\n",
       "      (Hybridization): Linear(in_features=5, out_features=100, bias=True)\n",
       "      (FormalCharge): Linear(in_features=1, out_features=100, bias=True)\n",
       "      (IsInRing): Linear(in_features=1, out_features=100, bias=True)\n",
       "      (IsAromatic): Linear(in_features=1, out_features=100, bias=True)\n",
       "      (NumRadicalElectrons): Linear(in_features=1, out_features=100, bias=True)\n",
       "    )\n",
       "  )\n",
       "  (convs): ModuleList(\n",
       "    (0): GCNConv(100, 512)\n",
       "    (1-2): 2 x GCNConv(512, 512)\n",
       "  )\n",
       "  (linear): Linear(in_features=512, out_features=1, bias=True)\n",
       ")"
      ]
     },
     "execution_count": 53,
     "metadata": {},
     "output_type": "execute_result"
    },
    {
     "data": {
      "text/plain": [
       "<Figure size 640x480 with 0 Axes>"
      ]
     },
     "metadata": {},
     "output_type": "display_data"
    }
   ],
   "source": [
    "######################## wizualizacje #################################################\n",
    "m = GraphNeuralNetwork(512, my_layer=MyAttentionModule4(3), features_after_layer=3)\n",
    "visualize(m, train_loader, valid_loader, test_loader, epochs=100, saveImg=True, title=\"MyAttentionModule4(3)_solubility\")\n",
    "\n",
    "m = GraphNeuralNetwork(512, my_layer=MyAttentionModule4(35), features_after_layer=35)\n",
    "visualize(m, train_loader, valid_loader, test_loader, epochs=100, saveImg=True, title=\"MyAttentionModule4(35)_solubility\")\n",
    "\n",
    "m = GraphNeuralNetwork(512, my_layer=MyAttentionModule4(100), features_after_layer=100)\n",
    "visualize(m, train_loader, valid_loader, test_loader, epochs=100, saveImg=True, title=\"MyAttentionModule4(100)_solubility\")"
   ]
  },
  {
   "cell_type": "code",
   "execution_count": 59,
   "metadata": {},
   "outputs": [
    {
     "data": {
      "application/vnd.jupyter.widget-view+json": {
       "model_id": "7119f394ee46439f9ab589da59d970e7",
       "version_major": 2,
       "version_minor": 0
      },
      "text/plain": [
       "  0%|          | 0/70 [00:00<?, ?it/s]"
      ]
     },
     "metadata": {},
     "output_type": "display_data"
    },
    {
     "name": "stdout",
     "output_type": "stream",
     "text": [
      "1.9948571132505517\n",
      "1.879229564969232\n",
      "1.8643873224412932\n",
      "1.8619890996484747\n",
      "1.8532534634982618\n",
      "1.8520773121947887\n",
      "1.8460448518191035\n"
     ]
    },
    {
     "data": {
      "application/vnd.jupyter.widget-view+json": {
       "model_id": "38a4763a4107497eae7291d780a69ae5",
       "version_major": 2,
       "version_minor": 0
      },
      "text/plain": [
       "  0%|          | 0/32 [00:00<?, ?it/s]"
      ]
     },
     "metadata": {},
     "output_type": "display_data"
    },
    {
     "data": {
      "application/vnd.jupyter.widget-view+json": {
       "model_id": "4655e5a2942449faa2fa680a8d96290e",
       "version_major": 2,
       "version_minor": 0
      },
      "text/plain": [
       "  0%|          | 0/70 [00:00<?, ?it/s]"
      ]
     },
     "metadata": {},
     "output_type": "display_data"
    },
    {
     "name": "stdout",
     "output_type": "stream",
     "text": [
      "1.9016782093119144\n",
      "1.8914242125829643\n",
      "1.855557993804873\n",
      "1.8468893599154423\n",
      "1.8463094251407088\n"
     ]
    },
    {
     "data": {
      "application/vnd.jupyter.widget-view+json": {
       "model_id": "e0016b18959f4cc599f054fbcd5ebf57",
       "version_major": 2,
       "version_minor": 0
      },
      "text/plain": [
       "  0%|          | 0/32 [00:00<?, ?it/s]"
      ]
     },
     "metadata": {},
     "output_type": "display_data"
    },
    {
     "data": {
      "application/vnd.jupyter.widget-view+json": {
       "model_id": "1483c0bcb2154fc9bd49483745bab6e3",
       "version_major": 2,
       "version_minor": 0
      },
      "text/plain": [
       "  0%|          | 0/70 [00:00<?, ?it/s]"
      ]
     },
     "metadata": {},
     "output_type": "display_data"
    },
    {
     "name": "stdout",
     "output_type": "stream",
     "text": [
      "2.0912512592463\n",
      "1.9683607825886131\n",
      "1.911669321691486\n",
      "1.7760558018334733\n",
      "1.728153040008284\n",
      "1.7168301288873602\n",
      "1.7156357521810612\n",
      "1.691713549936985\n",
      "1.671567633063081\n",
      "1.6671042638700866\n",
      "1.662416523145662\n",
      "1.6509076799970273\n",
      "1.6292085288346239\n",
      "1.624201362118471\n"
     ]
    },
    {
     "data": {
      "application/vnd.jupyter.widget-view+json": {
       "model_id": "32ab3f9691b74456bdddb874c9e4e537",
       "version_major": 2,
       "version_minor": 0
      },
      "text/plain": [
       "  0%|          | 0/32 [00:00<?, ?it/s]"
      ]
     },
     "metadata": {},
     "output_type": "display_data"
    },
    {
     "data": {
      "application/vnd.jupyter.widget-view+json": {
       "model_id": "6cccebb202a24f0b914644616d48e5d5",
       "version_major": 2,
       "version_minor": 0
      },
      "text/plain": [
       "  0%|          | 0/70 [00:00<?, ?it/s]"
      ]
     },
     "metadata": {},
     "output_type": "display_data"
    },
    {
     "name": "stdout",
     "output_type": "stream",
     "text": [
      "1.9434486892313954\n",
      "1.8034359906100996\n",
      "1.753599566815013\n",
      "1.7360539472287504\n",
      "1.6995724435079147\n",
      "1.684785203211543\n",
      "1.678569575369675\n",
      "1.667844857315028\n",
      "1.645638770313578\n",
      "1.6382271173492287\n",
      "1.6372182212532895\n",
      "1.634202460694471\n",
      "1.6314607541563373\n",
      "1.6205517816273773\n",
      "1.6178952932909996\n"
     ]
    },
    {
     "data": {
      "application/vnd.jupyter.widget-view+json": {
       "model_id": "f8ad6f81024140d2a28a9db2b1fd0633",
       "version_major": 2,
       "version_minor": 0
      },
      "text/plain": [
       "  0%|          | 0/32 [00:00<?, ?it/s]"
      ]
     },
     "metadata": {},
     "output_type": "display_data"
    },
    {
     "data": {
      "application/vnd.jupyter.widget-view+json": {
       "model_id": "dd0cf13278914d7e90abeadfa801f1a8",
       "version_major": 2,
       "version_minor": 0
      },
      "text/plain": [
       "  0%|          | 0/70 [00:00<?, ?it/s]"
      ]
     },
     "metadata": {},
     "output_type": "display_data"
    },
    {
     "name": "stdout",
     "output_type": "stream",
     "text": [
      "1.9021878349847405\n",
      "1.8649880751763026\n",
      "1.778441018247761\n",
      "1.7568453342854862\n",
      "1.744333033584964\n",
      "1.7273615698253866\n",
      "1.7078250792218033\n",
      "1.6838994592767405\n",
      "1.6790637647547648\n",
      "1.670985254602615\n",
      "1.655920230860201\n",
      "1.6488068146389117\n",
      "1.6320393806313338\n"
     ]
    },
    {
     "data": {
      "application/vnd.jupyter.widget-view+json": {
       "model_id": "cf57411ec74b413ca3a2bc7d4378791e",
       "version_major": 2,
       "version_minor": 0
      },
      "text/plain": [
       "  0%|          | 0/32 [00:00<?, ?it/s]"
      ]
     },
     "metadata": {},
     "output_type": "display_data"
    },
    {
     "data": {
      "application/vnd.jupyter.widget-view+json": {
       "model_id": "c525eb24fb824ee3939543dc59f8a98c",
       "version_major": 2,
       "version_minor": 0
      },
      "text/plain": [
       "  0%|          | 0/70 [00:00<?, ?it/s]"
      ]
     },
     "metadata": {},
     "output_type": "display_data"
    },
    {
     "name": "stdout",
     "output_type": "stream",
     "text": [
      "1.867732332140029\n",
      "1.8624850957558186\n",
      "1.8438254570458488\n"
     ]
    },
    {
     "data": {
      "application/vnd.jupyter.widget-view+json": {
       "model_id": "c1e83b1bb3a1400db6cf541b488bf2fc",
       "version_major": 2,
       "version_minor": 0
      },
      "text/plain": [
       "  0%|          | 0/32 [00:00<?, ?it/s]"
      ]
     },
     "metadata": {},
     "output_type": "display_data"
    },
    {
     "data": {
      "application/vnd.jupyter.widget-view+json": {
       "model_id": "671c876be6cb4a50a31007878863ca68",
       "version_major": 2,
       "version_minor": 0
      },
      "text/plain": [
       "  0%|          | 0/70 [00:00<?, ?it/s]"
      ]
     },
     "metadata": {},
     "output_type": "display_data"
    },
    {
     "name": "stdout",
     "output_type": "stream",
     "text": [
      "1.9259643262009578\n",
      "1.9078681524124215\n",
      "1.8923082737504406\n",
      "1.8831818627883494\n",
      "1.866671571198591\n",
      "1.8659939775068441\n",
      "1.8570833605116968\n",
      "1.8538660105969793\n",
      "1.8488818678119188\n",
      "1.8396616625958446\n"
     ]
    },
    {
     "data": {
      "application/vnd.jupyter.widget-view+json": {
       "model_id": "04fd726bf3904597afe251339cb62398",
       "version_major": 2,
       "version_minor": 0
      },
      "text/plain": [
       "  0%|          | 0/32 [00:00<?, ?it/s]"
      ]
     },
     "metadata": {},
     "output_type": "display_data"
    },
    {
     "data": {
      "application/vnd.jupyter.widget-view+json": {
       "model_id": "6b1813d249d44e3f9a6e42777abbc9ae",
       "version_major": 2,
       "version_minor": 0
      },
      "text/plain": [
       "  0%|          | 0/70 [00:00<?, ?it/s]"
      ]
     },
     "metadata": {},
     "output_type": "display_data"
    },
    {
     "name": "stdout",
     "output_type": "stream",
     "text": [
      "2.0905809141116305\n",
      "1.9880185243873838\n",
      "1.9008624393672344\n",
      "1.8986034238174565\n",
      "1.8599149308153204\n",
      "1.8399455457882616\n",
      "1.8098528198587078\n",
      "1.7713269082846237\n",
      "1.7646771062920033\n",
      "1.7638064336682129\n",
      "1.759713910799492\n",
      "1.7568100039070054\n",
      "1.73518484846753\n",
      "1.7172041214034854\n",
      "1.7137530021423588\n",
      "1.7122667765936048\n",
      "1.6932653448069939\n",
      "1.6913089201955567\n",
      "1.691061288143645\n",
      "1.6907920558886944\n"
     ]
    },
    {
     "data": {
      "application/vnd.jupyter.widget-view+json": {
       "model_id": "f4295d52086f40758037f7137ebc3443",
       "version_major": 2,
       "version_minor": 0
      },
      "text/plain": [
       "  0%|          | 0/32 [00:00<?, ?it/s]"
      ]
     },
     "metadata": {},
     "output_type": "display_data"
    },
    {
     "data": {
      "application/vnd.jupyter.widget-view+json": {
       "model_id": "46eff891e4174d62a0ea41b45e08036d",
       "version_major": 2,
       "version_minor": 0
      },
      "text/plain": [
       "  0%|          | 0/70 [00:00<?, ?it/s]"
      ]
     },
     "metadata": {},
     "output_type": "display_data"
    },
    {
     "name": "stdout",
     "output_type": "stream",
     "text": [
      "2.019803338794589\n",
      "1.9046141985577998\n",
      "1.8812179610758204\n",
      "1.844511877814481\n",
      "1.795257713799977\n",
      "1.7681787318843862\n",
      "1.7395635869344883\n",
      "1.6991182427492835\n",
      "1.6853120616731896\n",
      "1.6849505086206717\n",
      "1.6840401262783031\n",
      "1.675085553042185\n",
      "1.6645962512573584\n",
      "1.6620834501943507\n",
      "1.6586733152824225\n",
      "1.6418202182076669\n",
      "1.6277060337585767\n"
     ]
    },
    {
     "data": {
      "application/vnd.jupyter.widget-view+json": {
       "model_id": "3bd257826f80402189a34fe2f814506b",
       "version_major": 2,
       "version_minor": 0
      },
      "text/plain": [
       "  0%|          | 0/32 [00:00<?, ?it/s]"
      ]
     },
     "metadata": {},
     "output_type": "display_data"
    },
    {
     "data": {
      "application/vnd.jupyter.widget-view+json": {
       "model_id": "1fdf50ed1b5b4baaa936df99da1663ef",
       "version_major": 2,
       "version_minor": 0
      },
      "text/plain": [
       "  0%|          | 0/70 [00:00<?, ?it/s]"
      ]
     },
     "metadata": {},
     "output_type": "display_data"
    },
    {
     "name": "stdout",
     "output_type": "stream",
     "text": [
      "1.8603717964413329\n",
      "1.8459723314083978\n",
      "1.8031547090996023\n",
      "1.7615277752478633\n",
      "1.7291396809935446\n",
      "1.72384616562114\n",
      "1.6896155090137805\n",
      "1.6819594454093578\n",
      "1.6792105109189734\n",
      "1.6775236299612204\n",
      "1.656943885123963\n",
      "1.6569320652602388\n",
      "1.6556604665762158\n",
      "1.6533634608163241\n",
      "1.6268096590662635\n"
     ]
    },
    {
     "data": {
      "application/vnd.jupyter.widget-view+json": {
       "model_id": "4e83b22de4ac45c5a44b4c21c961c6f2",
       "version_major": 2,
       "version_minor": 0
      },
      "text/plain": [
       "  0%|          | 0/32 [00:00<?, ?it/s]"
      ]
     },
     "metadata": {},
     "output_type": "display_data"
    },
    {
     "data": {
      "application/vnd.jupyter.widget-view+json": {
       "model_id": "8bd2f40929414daa9d73d18ef4530039",
       "version_major": 2,
       "version_minor": 0
      },
      "text/plain": [
       "  0%|          | 0/70 [00:00<?, ?it/s]"
      ]
     },
     "metadata": {},
     "output_type": "display_data"
    },
    {
     "name": "stdout",
     "output_type": "stream",
     "text": [
      "1.765845867591523\n",
      "1.6659182919181068\n",
      "1.5935023875594496\n",
      "1.5810706494814708\n",
      "1.5600012845588573\n",
      "1.5476560462746518\n",
      "1.5433723399367336\n",
      "1.5029280756157906\n",
      "1.4698389483616419\n",
      "1.4593542994834996\n",
      "1.4583233129393969\n",
      "1.449608641328292\n",
      "1.4387041623321615\n",
      "1.4273280355362046\n",
      "1.4150152257279096\n",
      "1.3933976681294387\n"
     ]
    },
    {
     "data": {
      "application/vnd.jupyter.widget-view+json": {
       "model_id": "6bc9cc8922394d64adcdaa9ea1e242aa",
       "version_major": 2,
       "version_minor": 0
      },
      "text/plain": [
       "  0%|          | 0/32 [00:00<?, ?it/s]"
      ]
     },
     "metadata": {},
     "output_type": "display_data"
    },
    {
     "data": {
      "application/vnd.jupyter.widget-view+json": {
       "model_id": "b22facd7586f4f64bd814cf51297efc7",
       "version_major": 2,
       "version_minor": 0
      },
      "text/plain": [
       "  0%|          | 0/70 [00:00<?, ?it/s]"
      ]
     },
     "metadata": {},
     "output_type": "display_data"
    },
    {
     "name": "stdout",
     "output_type": "stream",
     "text": [
      "1.9141573375915377\n",
      "1.8023734218745178\n",
      "1.6570551412558867\n",
      "1.6500803914040005\n",
      "1.6300298865217886\n",
      "1.614810619648596\n",
      "1.5962205714896753\n",
      "1.5648331706084726\n",
      "1.5424992835617082\n",
      "1.5381584579784353\n",
      "1.524048814023933\n",
      "1.5078161730339887\n",
      "1.5013901061793444\n",
      "1.4976718649062901\n",
      "1.4778916834389024\n",
      "1.465334941633767\n",
      "1.4650215463698162\n",
      "1.457181836211857\n",
      "1.4551799891129893\n",
      "1.453085321929607\n"
     ]
    },
    {
     "data": {
      "application/vnd.jupyter.widget-view+json": {
       "model_id": "6bfa4c407f284827a9dc5ba4927295bd",
       "version_major": 2,
       "version_minor": 0
      },
      "text/plain": [
       "  0%|          | 0/32 [00:00<?, ?it/s]"
      ]
     },
     "metadata": {},
     "output_type": "display_data"
    },
    {
     "data": {
      "application/vnd.jupyter.widget-view+json": {
       "model_id": "fc0882b5ed9a499bb04fe9c915942c33",
       "version_major": 2,
       "version_minor": 0
      },
      "text/plain": [
       "  0%|          | 0/70 [00:00<?, ?it/s]"
      ]
     },
     "metadata": {},
     "output_type": "display_data"
    },
    {
     "name": "stdout",
     "output_type": "stream",
     "text": [
      "2.00836654555014\n",
      "1.9529905017064684\n",
      "1.8167404396028966\n",
      "1.7748732137431336\n",
      "1.7370188514956184\n",
      "1.7178470181438028\n",
      "1.6981232892066254\n",
      "1.660481050649888\n",
      "1.6503634931027\n",
      "1.6202895857037\n",
      "1.618601714304443\n",
      "1.6048801670526087\n",
      "1.6008289095018242\n",
      "1.5862747355662068\n",
      "1.5790337134176136\n",
      "1.5628764684127678\n",
      "1.5359301175046345\n",
      "1.531025568363019\n",
      "1.5269222536615452\n",
      "1.5166192167007562\n",
      "1.5070386853404485\n"
     ]
    },
    {
     "data": {
      "application/vnd.jupyter.widget-view+json": {
       "model_id": "00db310bcd094990b388faedd1706b3b",
       "version_major": 2,
       "version_minor": 0
      },
      "text/plain": [
       "  0%|          | 0/32 [00:00<?, ?it/s]"
      ]
     },
     "metadata": {},
     "output_type": "display_data"
    },
    {
     "data": {
      "application/vnd.jupyter.widget-view+json": {
       "model_id": "4339c7914e2f4f05be1005d54d2b4625",
       "version_major": 2,
       "version_minor": 0
      },
      "text/plain": [
       "  0%|          | 0/70 [00:00<?, ?it/s]"
      ]
     },
     "metadata": {},
     "output_type": "display_data"
    },
    {
     "name": "stdout",
     "output_type": "stream",
     "text": [
      "1.9098908960989405\n",
      "1.805621248657202\n",
      "1.7107921077849624\n",
      "1.7065188755948724\n",
      "1.6644768694928218\n",
      "1.6507678447883942\n",
      "1.6219538115631547\n",
      "1.6173357104729855\n",
      "1.5872732469597326\n",
      "1.5621886273495633\n",
      "1.5190093902053676\n",
      "1.5186109807277384\n",
      "1.4864466913418373\n",
      "1.4683937988299496\n",
      "1.4416980459903073\n",
      "1.4375961915541584\n",
      "1.4361603142697577\n",
      "1.4179199209283604\n"
     ]
    },
    {
     "data": {
      "application/vnd.jupyter.widget-view+json": {
       "model_id": "c8b30d9fade14071b8177f3df1e1cf53",
       "version_major": 2,
       "version_minor": 0
      },
      "text/plain": [
       "  0%|          | 0/32 [00:00<?, ?it/s]"
      ]
     },
     "metadata": {},
     "output_type": "display_data"
    },
    {
     "data": {
      "application/vnd.jupyter.widget-view+json": {
       "model_id": "a3514f7c70d74f6d945ec054326aea94",
       "version_major": 2,
       "version_minor": 0
      },
      "text/plain": [
       "  0%|          | 0/70 [00:00<?, ?it/s]"
      ]
     },
     "metadata": {},
     "output_type": "display_data"
    },
    {
     "name": "stdout",
     "output_type": "stream",
     "text": [
      "1.9356340536305179\n",
      "1.8362655289200187\n",
      "1.7538992359283951\n",
      "1.7243872190593998\n",
      "1.709673565868758\n",
      "1.6586923596597694\n",
      "1.656600011230524\n",
      "1.6188966340330444\n",
      "1.584649413575918\n",
      "1.5518426680475843\n",
      "1.5133687032567305\n",
      "1.504531277090127\n",
      "1.4877689104326386\n",
      "1.4781195521220902\n",
      "1.4498551639538098\n",
      "1.4201255139927291\n"
     ]
    },
    {
     "data": {
      "application/vnd.jupyter.widget-view+json": {
       "model_id": "2b59db6593694e2c82a46c29149b0d16",
       "version_major": 2,
       "version_minor": 0
      },
      "text/plain": [
       "  0%|          | 0/32 [00:00<?, ?it/s]"
      ]
     },
     "metadata": {},
     "output_type": "display_data"
    },
    {
     "data": {
      "application/vnd.jupyter.widget-view+json": {
       "model_id": "4c8ca9ca375c4616810589cc3d75a525",
       "version_major": 2,
       "version_minor": 0
      },
      "text/plain": [
       "  0%|          | 0/70 [00:00<?, ?it/s]"
      ]
     },
     "metadata": {},
     "output_type": "display_data"
    },
    {
     "name": "stdout",
     "output_type": "stream",
     "text": [
      "1.7347383247319301\n",
      "1.6694369038339694\n",
      "1.6453183050526978\n",
      "1.596285684458332\n",
      "1.5407087547572536\n",
      "1.5037421441194256\n",
      "1.494640615016027\n",
      "1.4876821810571972\n",
      "1.46547776515149\n",
      "1.465451038188646\n",
      "1.4295597702791447\n"
     ]
    },
    {
     "data": {
      "application/vnd.jupyter.widget-view+json": {
       "model_id": "e593308d47ac4d3b976d00c872b51e67",
       "version_major": 2,
       "version_minor": 0
      },
      "text/plain": [
       "  0%|          | 0/32 [00:00<?, ?it/s]"
      ]
     },
     "metadata": {},
     "output_type": "display_data"
    },
    {
     "data": {
      "application/vnd.jupyter.widget-view+json": {
       "model_id": "a2cb50fcd8e3440fa074ab17773e2b10",
       "version_major": 2,
       "version_minor": 0
      },
      "text/plain": [
       "  0%|          | 0/70 [00:00<?, ?it/s]"
      ]
     },
     "metadata": {},
     "output_type": "display_data"
    },
    {
     "name": "stdout",
     "output_type": "stream",
     "text": [
      "1.7464794339535896\n",
      "1.639617678579405\n",
      "1.6208062237947891\n",
      "1.5745401459430854\n",
      "1.5663344911970842\n",
      "1.5314435214637834\n",
      "1.5283163966038986\n",
      "1.515353841029689\n",
      "1.4995144247691747\n",
      "1.4957221144133137\n",
      "1.49473785760415\n",
      "1.4945847993907406\n",
      "1.462749827995336\n",
      "1.4624563258340844\n",
      "1.454109938549777\n"
     ]
    },
    {
     "data": {
      "application/vnd.jupyter.widget-view+json": {
       "model_id": "c4292dcd08e14ef49474afd198684272",
       "version_major": 2,
       "version_minor": 0
      },
      "text/plain": [
       "  0%|          | 0/32 [00:00<?, ?it/s]"
      ]
     },
     "metadata": {},
     "output_type": "display_data"
    },
    {
     "data": {
      "application/vnd.jupyter.widget-view+json": {
       "model_id": "5f18b91671134abc96bb2eca7f36bb13",
       "version_major": 2,
       "version_minor": 0
      },
      "text/plain": [
       "  0%|          | 0/70 [00:00<?, ?it/s]"
      ]
     },
     "metadata": {},
     "output_type": "display_data"
    },
    {
     "name": "stdout",
     "output_type": "stream",
     "text": [
      "2.209964138853499\n",
      "2.0225632804509024\n",
      "1.7925422276853917\n",
      "1.7531060268525394\n",
      "1.7323639659592651\n",
      "1.7058293969478837\n",
      "1.6974097192379938\n",
      "1.6660074299894343\n",
      "1.652136306286566\n",
      "1.6488204256357488\n",
      "1.631194571036404\n",
      "1.6293066783284516\n",
      "1.5889613139682728\n",
      "1.5811253714453246\n",
      "1.559672293827448\n",
      "1.553941948965288\n",
      "1.5467821061003715\n",
      "1.5227466901722269\n"
     ]
    },
    {
     "data": {
      "application/vnd.jupyter.widget-view+json": {
       "model_id": "90abff3e0d124b08a2d59730517953ae",
       "version_major": 2,
       "version_minor": 0
      },
      "text/plain": [
       "  0%|          | 0/32 [00:00<?, ?it/s]"
      ]
     },
     "metadata": {},
     "output_type": "display_data"
    },
    {
     "data": {
      "application/vnd.jupyter.widget-view+json": {
       "model_id": "cd17bafe3a444a05b21efbdd0a76ff90",
       "version_major": 2,
       "version_minor": 0
      },
      "text/plain": [
       "  0%|          | 0/70 [00:00<?, ?it/s]"
      ]
     },
     "metadata": {},
     "output_type": "display_data"
    },
    {
     "name": "stdout",
     "output_type": "stream",
     "text": [
      "2.04756276213775\n",
      "2.0263811700667076\n",
      "1.7909726861361388\n",
      "1.7611530818901486\n",
      "1.704516507026975\n",
      "1.6333093995456194\n",
      "1.611876188917834\n",
      "1.6012742307195897\n",
      "1.5389307878822522\n",
      "1.5034026142530934\n",
      "1.4868481901930781\n",
      "1.4693975376879642\n",
      "1.4615938650162457\n",
      "1.4406880873497114\n",
      "1.4168051990345605\n"
     ]
    },
    {
     "data": {
      "application/vnd.jupyter.widget-view+json": {
       "model_id": "686545940e12402186ac03217d281920",
       "version_major": 2,
       "version_minor": 0
      },
      "text/plain": [
       "  0%|          | 0/32 [00:00<?, ?it/s]"
      ]
     },
     "metadata": {},
     "output_type": "display_data"
    },
    {
     "data": {
      "application/vnd.jupyter.widget-view+json": {
       "model_id": "eab3261d74e648e689612e29237b0a59",
       "version_major": 2,
       "version_minor": 0
      },
      "text/plain": [
       "  0%|          | 0/70 [00:00<?, ?it/s]"
      ]
     },
     "metadata": {},
     "output_type": "display_data"
    },
    {
     "name": "stdout",
     "output_type": "stream",
     "text": [
      "1.7460929476711315\n",
      "1.6538712081410858\n",
      "1.6508937700370823\n",
      "1.6477071076539649\n",
      "1.600297190706133\n",
      "1.548914105258228\n",
      "1.5227163281890979\n",
      "1.512247398882161\n",
      "1.4850707041732711\n",
      "1.4783159441757108\n",
      "1.463290038361008\n",
      "1.4386076510691497\n"
     ]
    },
    {
     "data": {
      "application/vnd.jupyter.widget-view+json": {
       "model_id": "317e7a7442d1411db03fd1ff49d31292",
       "version_major": 2,
       "version_minor": 0
      },
      "text/plain": [
       "  0%|          | 0/32 [00:00<?, ?it/s]"
      ]
     },
     "metadata": {},
     "output_type": "display_data"
    },
    {
     "data": {
      "application/vnd.jupyter.widget-view+json": {
       "model_id": "043e24c906874aa9a6bfb8304725147f",
       "version_major": 2,
       "version_minor": 0
      },
      "text/plain": [
       "  0%|          | 0/70 [00:00<?, ?it/s]"
      ]
     },
     "metadata": {},
     "output_type": "display_data"
    },
    {
     "name": "stdout",
     "output_type": "stream",
     "text": [
      "1.775455088031947\n",
      "1.7556894621591708\n",
      "1.6046841890456076\n",
      "1.5788499010646526\n",
      "1.5674172157681006\n",
      "1.5520686636925338\n",
      "1.5351213363793155\n",
      "1.5332229721166848\n",
      "1.4881803718312652\n",
      "1.4838578838330543\n",
      "1.4766234188831011\n",
      "1.4765441501922945\n",
      "1.452771102473423\n",
      "1.450122210014487\n",
      "1.4248310180112704\n",
      "1.417339583243616\n",
      "1.4170767938562765\n",
      "1.3894317312906646\n",
      "1.3833811382667822\n",
      "1.3820494204813762\n",
      "1.3804817274468268\n",
      "1.376242032872705\n",
      "1.3665038855633602\n",
      "1.3594520152303033\n"
     ]
    },
    {
     "data": {
      "application/vnd.jupyter.widget-view+json": {
       "model_id": "ced39698beff4591a6bff0ad8b02f66a",
       "version_major": 2,
       "version_minor": 0
      },
      "text/plain": [
       "  0%|          | 0/32 [00:00<?, ?it/s]"
      ]
     },
     "metadata": {},
     "output_type": "display_data"
    },
    {
     "data": {
      "application/vnd.jupyter.widget-view+json": {
       "model_id": "714a0bc1c39a476b8df3738da834e2f2",
       "version_major": 2,
       "version_minor": 0
      },
      "text/plain": [
       "  0%|          | 0/70 [00:00<?, ?it/s]"
      ]
     },
     "metadata": {},
     "output_type": "display_data"
    },
    {
     "name": "stdout",
     "output_type": "stream",
     "text": [
      "1.9133526679210988\n",
      "1.692158315186503\n",
      "1.6433845288210236\n",
      "1.602619827220181\n",
      "1.5733889773253364\n",
      "1.5630640277396213\n",
      "1.5441731537360468\n",
      "1.5417652923972636\n",
      "1.5307252824801996\n",
      "1.5194727547652003\n",
      "1.5171067924163693\n",
      "1.499397899950246\n",
      "1.4768676703176977\n",
      "1.4738952291022558\n",
      "1.4688226621837988\n",
      "1.447482333272062\n",
      "1.4372058966671857\n",
      "1.4258609334404624\n",
      "1.3993434953561188\n"
     ]
    },
    {
     "data": {
      "application/vnd.jupyter.widget-view+json": {
       "model_id": "6e4fd485c3b2464cb343eda9ca91a189",
       "version_major": 2,
       "version_minor": 0
      },
      "text/plain": [
       "  0%|          | 0/32 [00:00<?, ?it/s]"
      ]
     },
     "metadata": {},
     "output_type": "display_data"
    },
    {
     "data": {
      "application/vnd.jupyter.widget-view+json": {
       "model_id": "f34a7a7f19d84161973152edaa105066",
       "version_major": 2,
       "version_minor": 0
      },
      "text/plain": [
       "  0%|          | 0/70 [00:00<?, ?it/s]"
      ]
     },
     "metadata": {},
     "output_type": "display_data"
    },
    {
     "name": "stdout",
     "output_type": "stream",
     "text": [
      "1.8803645054191074\n",
      "1.7949576449365054\n",
      "1.7689315323421881\n",
      "1.7609876310656438\n",
      "1.7602002219245056\n",
      "1.727188396948021\n",
      "1.7241776326956348\n",
      "1.7035581810364744\n",
      "1.6808916684428241\n",
      "1.671504353537078\n",
      "1.6459123620591587\n",
      "1.6307333641055124\n",
      "1.627258478625255\n",
      "1.6124827195557654\n",
      "1.6062041572754784\n",
      "1.6025766566546886\n",
      "1.5806324134411662\n",
      "1.5646736878386354\n",
      "1.5571088749894029\n"
     ]
    },
    {
     "data": {
      "application/vnd.jupyter.widget-view+json": {
       "model_id": "080ab365fcf54ada816e022da7a65b19",
       "version_major": 2,
       "version_minor": 0
      },
      "text/plain": [
       "  0%|          | 0/32 [00:00<?, ?it/s]"
      ]
     },
     "metadata": {},
     "output_type": "display_data"
    },
    {
     "data": {
      "application/vnd.jupyter.widget-view+json": {
       "model_id": "59513dad654e49909677c077b8572609",
       "version_major": 2,
       "version_minor": 0
      },
      "text/plain": [
       "  0%|          | 0/70 [00:00<?, ?it/s]"
      ]
     },
     "metadata": {},
     "output_type": "display_data"
    },
    {
     "name": "stdout",
     "output_type": "stream",
     "text": [
      "1.9633303874691634\n",
      "1.7412120632236887\n",
      "1.6936934535819268\n",
      "1.6637708075907804\n",
      "1.656440296911791\n",
      "1.6271078115071496\n",
      "1.606262270067941\n",
      "1.5979188426009312\n",
      "1.5953139353861845\n",
      "1.585063567919443\n",
      "1.5644175685825035\n",
      "1.5555559532141352\n",
      "1.5454333778693132\n",
      "1.5411742763264304\n",
      "1.5399169144120228\n",
      "1.5120388992081601\n"
     ]
    },
    {
     "data": {
      "application/vnd.jupyter.widget-view+json": {
       "model_id": "8b307081621743e3b5d227ed6a1da56d",
       "version_major": 2,
       "version_minor": 0
      },
      "text/plain": [
       "  0%|          | 0/32 [00:00<?, ?it/s]"
      ]
     },
     "metadata": {},
     "output_type": "display_data"
    },
    {
     "data": {
      "application/vnd.jupyter.widget-view+json": {
       "model_id": "d6a2195408764bb79da6195b683bd8cb",
       "version_major": 2,
       "version_minor": 0
      },
      "text/plain": [
       "  0%|          | 0/70 [00:00<?, ?it/s]"
      ]
     },
     "metadata": {},
     "output_type": "display_data"
    },
    {
     "name": "stdout",
     "output_type": "stream",
     "text": [
      "1.9398000563662365\n",
      "1.7900137013656825\n",
      "1.718365634918595\n",
      "1.6417823331599548\n",
      "1.611310208533903\n",
      "1.588230875441928\n",
      "1.551873787378378\n",
      "1.5498533391456397\n",
      "1.541590736031698\n",
      "1.5098970894777848\n",
      "1.476242275653045\n",
      "1.4741724825854698\n",
      "1.4664726277509588\n",
      "1.442701292785761\n"
     ]
    },
    {
     "data": {
      "application/vnd.jupyter.widget-view+json": {
       "model_id": "81edd2ba8d884918b1283e7330720676",
       "version_major": 2,
       "version_minor": 0
      },
      "text/plain": [
       "  0%|          | 0/32 [00:00<?, ?it/s]"
      ]
     },
     "metadata": {},
     "output_type": "display_data"
    },
    {
     "data": {
      "application/vnd.jupyter.widget-view+json": {
       "model_id": "a0976aef65ae4b1490ad407a5e301aad",
       "version_major": 2,
       "version_minor": 0
      },
      "text/plain": [
       "  0%|          | 0/70 [00:00<?, ?it/s]"
      ]
     },
     "metadata": {},
     "output_type": "display_data"
    },
    {
     "name": "stdout",
     "output_type": "stream",
     "text": [
      "1.7293620504182945\n",
      "1.620729834310495\n",
      "1.6131932405782132\n",
      "1.5681869594910915\n",
      "1.5669703172703324\n",
      "1.545514894551218\n",
      "1.5284384254149426\n",
      "1.5191922288057529\n",
      "1.4976279619756814\n",
      "1.4945411701946805\n",
      "1.488543703617974\n",
      "1.487081339467878\n",
      "1.4750319225017539\n",
      "1.4683784101577182\n",
      "1.4588723473636507\n",
      "1.4558279681889397\n",
      "1.4344522013265695\n",
      "1.4118019573863312\n"
     ]
    },
    {
     "data": {
      "application/vnd.jupyter.widget-view+json": {
       "model_id": "258af2b8eee543ae911aa0cece85b58e",
       "version_major": 2,
       "version_minor": 0
      },
      "text/plain": [
       "  0%|          | 0/32 [00:00<?, ?it/s]"
      ]
     },
     "metadata": {},
     "output_type": "display_data"
    },
    {
     "data": {
      "application/vnd.jupyter.widget-view+json": {
       "model_id": "24234f047cb3439a8de10f6728baa451",
       "version_major": 2,
       "version_minor": 0
      },
      "text/plain": [
       "  0%|          | 0/70 [00:00<?, ?it/s]"
      ]
     },
     "metadata": {},
     "output_type": "display_data"
    },
    {
     "name": "stdout",
     "output_type": "stream",
     "text": [
      "1.9183795627341038\n",
      "1.7010325656792535\n",
      "1.6231059526287246\n",
      "1.6011637442608773\n",
      "1.5637571138999602\n",
      "1.5489829907671107\n",
      "1.545206023584414\n",
      "1.5330549116879255\n",
      "1.5187398298269728\n",
      "1.5115633845983514\n",
      "1.506486264971141\n",
      "1.4940765968877214\n",
      "1.4861448007488216\n",
      "1.4746872641087432\n",
      "1.4737322286994443\n",
      "1.4539593727820048\n"
     ]
    },
    {
     "data": {
      "application/vnd.jupyter.widget-view+json": {
       "model_id": "ae95393b295f4dcb9e69838aab464a4e",
       "version_major": 2,
       "version_minor": 0
      },
      "text/plain": [
       "  0%|          | 0/32 [00:00<?, ?it/s]"
      ]
     },
     "metadata": {},
     "output_type": "display_data"
    },
    {
     "data": {
      "application/vnd.jupyter.widget-view+json": {
       "model_id": "2520eff21ce5482c88fd78841e580114",
       "version_major": 2,
       "version_minor": 0
      },
      "text/plain": [
       "  0%|          | 0/70 [00:00<?, ?it/s]"
      ]
     },
     "metadata": {},
     "output_type": "display_data"
    },
    {
     "name": "stdout",
     "output_type": "stream",
     "text": [
      "2.1925293746616403\n",
      "1.9582992157451178\n",
      "1.7402899024729284\n",
      "1.7242026732180205\n",
      "1.6894421936070676\n",
      "1.6791262463095158\n",
      "1.6532771527085515\n",
      "1.6422168036298201\n",
      "1.6245873541547637\n",
      "1.62111677860539\n",
      "1.604498223981062\n",
      "1.6029014724816255\n",
      "1.5857415986421979\n",
      "1.5829401835230417\n",
      "1.5815990569454548\n",
      "1.5747836726425664\n"
     ]
    },
    {
     "data": {
      "application/vnd.jupyter.widget-view+json": {
       "model_id": "d3a21a464a134fb382de329281ea6dea",
       "version_major": 2,
       "version_minor": 0
      },
      "text/plain": [
       "  0%|          | 0/32 [00:00<?, ?it/s]"
      ]
     },
     "metadata": {},
     "output_type": "display_data"
    },
    {
     "data": {
      "application/vnd.jupyter.widget-view+json": {
       "model_id": "74419088283749dd888cf07c5b8d9794",
       "version_major": 2,
       "version_minor": 0
      },
      "text/plain": [
       "  0%|          | 0/70 [00:00<?, ?it/s]"
      ]
     },
     "metadata": {},
     "output_type": "display_data"
    },
    {
     "name": "stdout",
     "output_type": "stream",
     "text": [
      "2.2886497413726423\n",
      "2.1588304821374416\n",
      "1.739685596818494\n",
      "1.7123269898214393\n",
      "1.6838320097301644\n",
      "1.6406071719434832\n",
      "1.6129728939116035\n",
      "1.5629569321168681\n"
     ]
    },
    {
     "data": {
      "application/vnd.jupyter.widget-view+json": {
       "model_id": "470a38bb0d4f4fd2b874bbf8ec5bac6e",
       "version_major": 2,
       "version_minor": 0
      },
      "text/plain": [
       "  0%|          | 0/32 [00:00<?, ?it/s]"
      ]
     },
     "metadata": {},
     "output_type": "display_data"
    },
    {
     "data": {
      "application/vnd.jupyter.widget-view+json": {
       "model_id": "4024d546c55a418abc1fa0e48d1bdc41",
       "version_major": 2,
       "version_minor": 0
      },
      "text/plain": [
       "  0%|          | 0/70 [00:00<?, ?it/s]"
      ]
     },
     "metadata": {},
     "output_type": "display_data"
    },
    {
     "name": "stdout",
     "output_type": "stream",
     "text": [
      "1.8080399572548365\n",
      "1.7639907971145028\n",
      "1.7054717253830143\n",
      "1.63378052441859\n",
      "1.6133122898928929\n",
      "1.6109271426164726\n",
      "1.587989676872297\n",
      "1.5567772375822042\n",
      "1.5545001078575047\n",
      "1.5440568939573314\n"
     ]
    },
    {
     "data": {
      "application/vnd.jupyter.widget-view+json": {
       "model_id": "0797e221e8cf4c2ab57c70d7bda8ac0d",
       "version_major": 2,
       "version_minor": 0
      },
      "text/plain": [
       "  0%|          | 0/32 [00:00<?, ?it/s]"
      ]
     },
     "metadata": {},
     "output_type": "display_data"
    }
   ],
   "source": [
    "######################## tabelka ##########################################################\n",
    "df = pd.DataFrame({\"Repr 1\": [], \"Repr 10\": [],\n",
    "                   \"Atention Pooling v2 - size = 3\": [], \"Atention Pooling v2 - size = 35\": [], \"Atention Pooling v2 - size = 100\": []})\n",
    "pd.set_option(\"display.precision\", 2)\n",
    "n_times = 1\n",
    "\n",
    "for n_convs in [1, 3, 5]:\n",
    "    for n_channels in [64, 512]:\n",
    "        row = []\n",
    "\n",
    "        #########################\n",
    "        scores = []\n",
    "        for _ in range(n_times):\n",
    "            m =  GraphNeuralNetwork(n_channels, n_convs=n_convs, features_after_layer=26)\n",
    "            m = train_best(m, train_loader1, valid_loader1, epochs=70)\n",
    "            predictions, att = predict(m, test_loader1)\n",
    "            rmse_score = rmse(y_test, predictions.flatten())\n",
    "            scores.append(\"{:.2f}\".format(rmse_score))\n",
    "        row.append(\" | \".join(scores))\n",
    "\n",
    "        #########################\n",
    "        scores = []\n",
    "        for _ in range(n_times):\n",
    "            m =  GraphNeuralNetwork(n_channels, n_convs=n_convs, features_after_layer=25)\n",
    "            m = train_best(m, train_loader10, valid_loader10, epochs= 70)\n",
    "            predictions, att = predict(m, test_loader10)\n",
    "            rmse_score = rmse(y_test, predictions.flatten())\n",
    "            scores.append(\"{:.2f}\".format(rmse_score))\n",
    "        row.append(\" | \".join(scores))\n",
    "\n",
    "        #########################\n",
    "        for vect_size in [3, 35, 100]:\n",
    "            scores = []\n",
    "            for _ in range(n_times):\n",
    "                m =  GraphNeuralNetwork(n_channels, n_convs=n_convs, my_layer=MyAttentionModule4(vect_size), features_after_layer=vect_size)\n",
    "                m = train_best(m, train_loader, valid_loader, epochs=70)\n",
    "                predictions, att = predict(m, test_loader)\n",
    "                rmse_score = rmse(y_test, predictions.flatten())\n",
    "                scores.append(\"{:.2f}\".format(rmse_score))\n",
    "            row.append(\" | \".join(scores))\n",
    "\n",
    "        df.loc[str(n_convs) + \" convs, \" + str(n_channels) + \" channels\"] = row\n",
    "\n",
    "df.to_csv(\"solubility_out.csv\")"
   ]
  },
  {
   "cell_type": "code",
   "execution_count": 60,
   "metadata": {},
   "outputs": [
    {
     "data": {
      "text/html": [
       "<div>\n",
       "<style scoped>\n",
       "    .dataframe tbody tr th:only-of-type {\n",
       "        vertical-align: middle;\n",
       "    }\n",
       "\n",
       "    .dataframe tbody tr th {\n",
       "        vertical-align: top;\n",
       "    }\n",
       "\n",
       "    .dataframe thead th {\n",
       "        text-align: right;\n",
       "    }\n",
       "</style>\n",
       "<table border=\"1\" class=\"dataframe\">\n",
       "  <thead>\n",
       "    <tr style=\"text-align: right;\">\n",
       "      <th></th>\n",
       "      <th>Repr 1</th>\n",
       "      <th>Repr 10</th>\n",
       "      <th>Atention Pooling v2 - size = 3</th>\n",
       "      <th>Atention Pooling v2 - size = 35</th>\n",
       "      <th>Atention Pooling v2 - size = 100</th>\n",
       "    </tr>\n",
       "  </thead>\n",
       "  <tbody>\n",
       "    <tr>\n",
       "      <th>1 convs, 64 channels</th>\n",
       "      <td>1.89</td>\n",
       "      <td>1.89</td>\n",
       "      <td>1.67</td>\n",
       "      <td>1.68</td>\n",
       "      <td>1.72</td>\n",
       "    </tr>\n",
       "    <tr>\n",
       "      <th>1 convs, 512 channels</th>\n",
       "      <td>1.89</td>\n",
       "      <td>1.89</td>\n",
       "      <td>1.69</td>\n",
       "      <td>1.71</td>\n",
       "      <td>1.67</td>\n",
       "    </tr>\n",
       "    <tr>\n",
       "      <th>3 convs, 64 channels</th>\n",
       "      <td>1.38</td>\n",
       "      <td>1.43</td>\n",
       "      <td>1.52</td>\n",
       "      <td>1.39</td>\n",
       "      <td>1.40</td>\n",
       "    </tr>\n",
       "    <tr>\n",
       "      <th>3 convs, 512 channels</th>\n",
       "      <td>1.41</td>\n",
       "      <td>1.44</td>\n",
       "      <td>1.52</td>\n",
       "      <td>1.39</td>\n",
       "      <td>1.45</td>\n",
       "    </tr>\n",
       "    <tr>\n",
       "      <th>5 convs, 64 channels</th>\n",
       "      <td>1.38</td>\n",
       "      <td>1.43</td>\n",
       "      <td>1.60</td>\n",
       "      <td>1.59</td>\n",
       "      <td>1.44</td>\n",
       "    </tr>\n",
       "    <tr>\n",
       "      <th>5 convs, 512 channels</th>\n",
       "      <td>1.43</td>\n",
       "      <td>1.47</td>\n",
       "      <td>1.67</td>\n",
       "      <td>1.63</td>\n",
       "      <td>1.60</td>\n",
       "    </tr>\n",
       "  </tbody>\n",
       "</table>\n",
       "</div>"
      ],
      "text/plain": [
       "                      Repr 1 Repr 10 Atention Pooling v2 - size = 3   \n",
       "1 convs, 64 channels    1.89    1.89                           1.67  \\\n",
       "1 convs, 512 channels   1.89    1.89                           1.69   \n",
       "3 convs, 64 channels    1.38    1.43                           1.52   \n",
       "3 convs, 512 channels   1.41    1.44                           1.52   \n",
       "5 convs, 64 channels    1.38    1.43                           1.60   \n",
       "5 convs, 512 channels   1.43    1.47                           1.67   \n",
       "\n",
       "                      Atention Pooling v2 - size = 35   \n",
       "1 convs, 64 channels                             1.68  \\\n",
       "1 convs, 512 channels                            1.71   \n",
       "3 convs, 64 channels                             1.39   \n",
       "3 convs, 512 channels                            1.39   \n",
       "5 convs, 64 channels                             1.59   \n",
       "5 convs, 512 channels                            1.63   \n",
       "\n",
       "                      Atention Pooling v2 - size = 100  \n",
       "1 convs, 64 channels                              1.72  \n",
       "1 convs, 512 channels                             1.67  \n",
       "3 convs, 64 channels                              1.40  \n",
       "3 convs, 512 channels                             1.45  \n",
       "5 convs, 64 channels                              1.44  \n",
       "5 convs, 512 channels                             1.60  "
      ]
     },
     "execution_count": 60,
     "metadata": {},
     "output_type": "execute_result"
    }
   ],
   "source": [
    "df"
   ]
  },
  {
   "cell_type": "code",
   "execution_count": 64,
   "metadata": {},
   "outputs": [
    {
     "data": {
      "application/vnd.jupyter.widget-view+json": {
       "model_id": "1e46282c7c214228a4f9945b699a45e3",
       "version_major": 2,
       "version_minor": 0
      },
      "text/plain": [
       "  0%|          | 0/70 [00:00<?, ?it/s]"
      ]
     },
     "metadata": {},
     "output_type": "display_data"
    },
    {
     "name": "stdout",
     "output_type": "stream",
     "text": [
      "1.9381299683135942\n",
      "1.775027736804212\n",
      "1.7324320715311423\n",
      "1.713587537046639\n",
      "1.6650596767812333\n",
      "1.6482387389809245\n",
      "1.6294462536636454\n",
      "1.5485210507901555\n",
      "1.543295777543309\n",
      "1.5166924711789065\n",
      "1.503239948287119\n",
      "1.501649485187585\n",
      "1.4968225168984257\n",
      "1.4762930342387528\n",
      "1.4754098117096979\n",
      "1.4742415235641555\n",
      "1.4580385542059926\n",
      "1.4567977130907026\n",
      "1.4432930112874356\n",
      "1.3878177837809247\n"
     ]
    },
    {
     "data": {
      "application/vnd.jupyter.widget-view+json": {
       "model_id": "0bdcdabc67ec475796b7b4179d7a2426",
       "version_major": 2,
       "version_minor": 0
      },
      "text/plain": [
       "  0%|          | 0/32 [00:00<?, ?it/s]"
      ]
     },
     "metadata": {},
     "output_type": "display_data"
    }
   ],
   "source": [
    "m =  GraphNeuralNetwork(512, n_convs=3, my_layer=MyAttentionModule4(35), features_after_layer=35)\n",
    "m = train_best(m, train_loader, valid_loader, epochs=70)\n",
    "predictions, att = predict(m, test_loader)\n",
    "rmse_score = rmse(y_test, predictions.flatten())\n",
    "scores.append(\"{:.2f}\".format(rmse_score))"
   ]
  },
  {
   "cell_type": "code",
   "execution_count": 65,
   "metadata": {},
   "outputs": [
    {
     "name": "stdout",
     "output_type": "stream",
     "text": [
      "RMSE = 1.39\n"
     ]
    }
   ],
   "source": [
    "###################### atencja #################################\n",
    "\n",
    "df_single = pd.DataFrame({\"AtomicNum\": [], \"Degree\": [], \"TotalNumHs\": [], \"ImplicitValence\": [], \"Hybridization\": [], \"FormalCharge\": [],\n",
    "                          \"IsInRing\": [], \"IsAromatic\": [], \"NumRadicalElectrons\": []})\n",
    "df_single.style.set_caption(\"Hello World\")\n",
    "\n",
    "df_batch = pd.DataFrame({\"AtomicNum\": [], \"Degree\": [], \"TotalNumHs\": [], \"ImplicitValence\": [], \"Hybridization\": [], \"FormalCharge\": [],\n",
    "                          \"IsInRing\": [], \"IsAromatic\": [], \"NumRadicalElectrons\": []})\n",
    "df_batch.style.set_caption(\"Hello World\")\n",
    "\n",
    "preds_batches = []\n",
    "with torch.no_grad():\n",
    "    for data in test_loader:\n",
    "        x, edge_index, batch = data.x, data.edge_index, data.batch\n",
    "        \n",
    "        preds, att = m(x, edge_index, batch)\n",
    "        preds_batches.append(preds.cpu().detach().numpy())\n",
    "        att = att.squeeze()\n",
    "        df_single.loc[len(df_single)] = att[0].tolist()\n",
    "        df_batch.loc[len(df_single)] = torch.mean(gap(att, batch), dim=0).tolist()\n",
    "preds = np.concatenate(preds_batches)\n",
    "\n",
    "rmse_score = rmse(y_test, predictions.flatten())\n",
    "\n",
    "print(f'RMSE = {rmse_score:.2f}')\n",
    "df_single.to_csv(\"solubility_att_single.csv\")\n",
    "df_batch.to_csv(\"solubility_att_batch.csv\")"
   ]
  },
  {
   "cell_type": "code",
   "execution_count": 66,
   "metadata": {},
   "outputs": [
    {
     "data": {
      "text/html": [
       "<div>\n",
       "<style scoped>\n",
       "    .dataframe tbody tr th:only-of-type {\n",
       "        vertical-align: middle;\n",
       "    }\n",
       "\n",
       "    .dataframe tbody tr th {\n",
       "        vertical-align: top;\n",
       "    }\n",
       "\n",
       "    .dataframe thead th {\n",
       "        text-align: right;\n",
       "    }\n",
       "</style>\n",
       "<table border=\"1\" class=\"dataframe\">\n",
       "  <thead>\n",
       "    <tr style=\"text-align: right;\">\n",
       "      <th></th>\n",
       "      <th>AtomicNum</th>\n",
       "      <th>Degree</th>\n",
       "      <th>TotalNumHs</th>\n",
       "      <th>ImplicitValence</th>\n",
       "      <th>Hybridization</th>\n",
       "      <th>FormalCharge</th>\n",
       "      <th>IsInRing</th>\n",
       "      <th>IsAromatic</th>\n",
       "      <th>NumRadicalElectrons</th>\n",
       "    </tr>\n",
       "  </thead>\n",
       "  <tbody>\n",
       "    <tr>\n",
       "      <th>0</th>\n",
       "      <td>0.11</td>\n",
       "      <td>0.11</td>\n",
       "      <td>0.11</td>\n",
       "      <td>0.11</td>\n",
       "      <td>0.11</td>\n",
       "      <td>0.11</td>\n",
       "      <td>0.11</td>\n",
       "      <td>0.11</td>\n",
       "      <td>0.11</td>\n",
       "    </tr>\n",
       "    <tr>\n",
       "      <th>1</th>\n",
       "      <td>0.11</td>\n",
       "      <td>0.11</td>\n",
       "      <td>0.11</td>\n",
       "      <td>0.11</td>\n",
       "      <td>0.11</td>\n",
       "      <td>0.11</td>\n",
       "      <td>0.11</td>\n",
       "      <td>0.11</td>\n",
       "      <td>0.11</td>\n",
       "    </tr>\n",
       "    <tr>\n",
       "      <th>2</th>\n",
       "      <td>0.11</td>\n",
       "      <td>0.11</td>\n",
       "      <td>0.11</td>\n",
       "      <td>0.11</td>\n",
       "      <td>0.11</td>\n",
       "      <td>0.11</td>\n",
       "      <td>0.11</td>\n",
       "      <td>0.11</td>\n",
       "      <td>0.11</td>\n",
       "    </tr>\n",
       "    <tr>\n",
       "      <th>3</th>\n",
       "      <td>0.11</td>\n",
       "      <td>0.11</td>\n",
       "      <td>0.11</td>\n",
       "      <td>0.11</td>\n",
       "      <td>0.11</td>\n",
       "      <td>0.11</td>\n",
       "      <td>0.11</td>\n",
       "      <td>0.11</td>\n",
       "      <td>0.11</td>\n",
       "    </tr>\n",
       "    <tr>\n",
       "      <th>4</th>\n",
       "      <td>0.11</td>\n",
       "      <td>0.11</td>\n",
       "      <td>0.11</td>\n",
       "      <td>0.11</td>\n",
       "      <td>0.11</td>\n",
       "      <td>0.11</td>\n",
       "      <td>0.11</td>\n",
       "      <td>0.11</td>\n",
       "      <td>0.11</td>\n",
       "    </tr>\n",
       "    <tr>\n",
       "      <th>5</th>\n",
       "      <td>0.11</td>\n",
       "      <td>0.11</td>\n",
       "      <td>0.11</td>\n",
       "      <td>0.11</td>\n",
       "      <td>0.11</td>\n",
       "      <td>0.11</td>\n",
       "      <td>0.11</td>\n",
       "      <td>0.11</td>\n",
       "      <td>0.11</td>\n",
       "    </tr>\n",
       "    <tr>\n",
       "      <th>6</th>\n",
       "      <td>0.11</td>\n",
       "      <td>0.11</td>\n",
       "      <td>0.11</td>\n",
       "      <td>0.11</td>\n",
       "      <td>0.11</td>\n",
       "      <td>0.11</td>\n",
       "      <td>0.11</td>\n",
       "      <td>0.11</td>\n",
       "      <td>0.11</td>\n",
       "    </tr>\n",
       "    <tr>\n",
       "      <th>7</th>\n",
       "      <td>0.11</td>\n",
       "      <td>0.11</td>\n",
       "      <td>0.11</td>\n",
       "      <td>0.11</td>\n",
       "      <td>0.11</td>\n",
       "      <td>0.11</td>\n",
       "      <td>0.11</td>\n",
       "      <td>0.11</td>\n",
       "      <td>0.11</td>\n",
       "    </tr>\n",
       "    <tr>\n",
       "      <th>8</th>\n",
       "      <td>0.11</td>\n",
       "      <td>0.11</td>\n",
       "      <td>0.11</td>\n",
       "      <td>0.11</td>\n",
       "      <td>0.11</td>\n",
       "      <td>0.11</td>\n",
       "      <td>0.11</td>\n",
       "      <td>0.11</td>\n",
       "      <td>0.11</td>\n",
       "    </tr>\n",
       "    <tr>\n",
       "      <th>9</th>\n",
       "      <td>0.11</td>\n",
       "      <td>0.11</td>\n",
       "      <td>0.11</td>\n",
       "      <td>0.11</td>\n",
       "      <td>0.11</td>\n",
       "      <td>0.11</td>\n",
       "      <td>0.11</td>\n",
       "      <td>0.11</td>\n",
       "      <td>0.11</td>\n",
       "    </tr>\n",
       "  </tbody>\n",
       "</table>\n",
       "</div>"
      ],
      "text/plain": [
       "   AtomicNum  Degree  TotalNumHs  ImplicitValence  Hybridization   \n",
       "0       0.11    0.11        0.11             0.11           0.11  \\\n",
       "1       0.11    0.11        0.11             0.11           0.11   \n",
       "2       0.11    0.11        0.11             0.11           0.11   \n",
       "3       0.11    0.11        0.11             0.11           0.11   \n",
       "4       0.11    0.11        0.11             0.11           0.11   \n",
       "5       0.11    0.11        0.11             0.11           0.11   \n",
       "6       0.11    0.11        0.11             0.11           0.11   \n",
       "7       0.11    0.11        0.11             0.11           0.11   \n",
       "8       0.11    0.11        0.11             0.11           0.11   \n",
       "9       0.11    0.11        0.11             0.11           0.11   \n",
       "\n",
       "   FormalCharge  IsInRing  IsAromatic  NumRadicalElectrons  \n",
       "0          0.11      0.11        0.11                 0.11  \n",
       "1          0.11      0.11        0.11                 0.11  \n",
       "2          0.11      0.11        0.11                 0.11  \n",
       "3          0.11      0.11        0.11                 0.11  \n",
       "4          0.11      0.11        0.11                 0.11  \n",
       "5          0.11      0.11        0.11                 0.11  \n",
       "6          0.11      0.11        0.11                 0.11  \n",
       "7          0.11      0.11        0.11                 0.11  \n",
       "8          0.11      0.11        0.11                 0.11  \n",
       "9          0.11      0.11        0.11                 0.11  "
      ]
     },
     "execution_count": 66,
     "metadata": {},
     "output_type": "execute_result"
    }
   ],
   "source": [
    "df_single[:10]"
   ]
  },
  {
   "cell_type": "code",
   "execution_count": 67,
   "metadata": {},
   "outputs": [
    {
     "data": {
      "text/html": [
       "<div>\n",
       "<style scoped>\n",
       "    .dataframe tbody tr th:only-of-type {\n",
       "        vertical-align: middle;\n",
       "    }\n",
       "\n",
       "    .dataframe tbody tr th {\n",
       "        vertical-align: top;\n",
       "    }\n",
       "\n",
       "    .dataframe thead th {\n",
       "        text-align: right;\n",
       "    }\n",
       "</style>\n",
       "<table border=\"1\" class=\"dataframe\">\n",
       "  <thead>\n",
       "    <tr style=\"text-align: right;\">\n",
       "      <th></th>\n",
       "      <th>AtomicNum</th>\n",
       "      <th>Degree</th>\n",
       "      <th>TotalNumHs</th>\n",
       "      <th>ImplicitValence</th>\n",
       "      <th>Hybridization</th>\n",
       "      <th>FormalCharge</th>\n",
       "      <th>IsInRing</th>\n",
       "      <th>IsAromatic</th>\n",
       "      <th>NumRadicalElectrons</th>\n",
       "    </tr>\n",
       "  </thead>\n",
       "  <tbody>\n",
       "    <tr>\n",
       "      <th>1</th>\n",
       "      <td>0.1</td>\n",
       "      <td>0.20</td>\n",
       "      <td>0.1</td>\n",
       "      <td>0.1</td>\n",
       "      <td>0.1</td>\n",
       "      <td>0.1</td>\n",
       "      <td>0.1</td>\n",
       "      <td>0.11</td>\n",
       "      <td>0.1</td>\n",
       "    </tr>\n",
       "    <tr>\n",
       "      <th>2</th>\n",
       "      <td>0.1</td>\n",
       "      <td>0.21</td>\n",
       "      <td>0.1</td>\n",
       "      <td>0.1</td>\n",
       "      <td>0.1</td>\n",
       "      <td>0.1</td>\n",
       "      <td>0.1</td>\n",
       "      <td>0.11</td>\n",
       "      <td>0.1</td>\n",
       "    </tr>\n",
       "    <tr>\n",
       "      <th>3</th>\n",
       "      <td>0.1</td>\n",
       "      <td>0.21</td>\n",
       "      <td>0.1</td>\n",
       "      <td>0.1</td>\n",
       "      <td>0.1</td>\n",
       "      <td>0.1</td>\n",
       "      <td>0.1</td>\n",
       "      <td>0.11</td>\n",
       "      <td>0.1</td>\n",
       "    </tr>\n",
       "    <tr>\n",
       "      <th>4</th>\n",
       "      <td>0.1</td>\n",
       "      <td>0.21</td>\n",
       "      <td>0.1</td>\n",
       "      <td>0.1</td>\n",
       "      <td>0.1</td>\n",
       "      <td>0.1</td>\n",
       "      <td>0.1</td>\n",
       "      <td>0.11</td>\n",
       "      <td>0.1</td>\n",
       "    </tr>\n",
       "    <tr>\n",
       "      <th>5</th>\n",
       "      <td>0.1</td>\n",
       "      <td>0.21</td>\n",
       "      <td>0.1</td>\n",
       "      <td>0.1</td>\n",
       "      <td>0.1</td>\n",
       "      <td>0.1</td>\n",
       "      <td>0.1</td>\n",
       "      <td>0.11</td>\n",
       "      <td>0.1</td>\n",
       "    </tr>\n",
       "    <tr>\n",
       "      <th>6</th>\n",
       "      <td>0.1</td>\n",
       "      <td>0.21</td>\n",
       "      <td>0.1</td>\n",
       "      <td>0.1</td>\n",
       "      <td>0.1</td>\n",
       "      <td>0.1</td>\n",
       "      <td>0.1</td>\n",
       "      <td>0.11</td>\n",
       "      <td>0.1</td>\n",
       "    </tr>\n",
       "    <tr>\n",
       "      <th>7</th>\n",
       "      <td>0.1</td>\n",
       "      <td>0.20</td>\n",
       "      <td>0.1</td>\n",
       "      <td>0.1</td>\n",
       "      <td>0.1</td>\n",
       "      <td>0.1</td>\n",
       "      <td>0.1</td>\n",
       "      <td>0.11</td>\n",
       "      <td>0.1</td>\n",
       "    </tr>\n",
       "    <tr>\n",
       "      <th>8</th>\n",
       "      <td>0.1</td>\n",
       "      <td>0.21</td>\n",
       "      <td>0.1</td>\n",
       "      <td>0.1</td>\n",
       "      <td>0.1</td>\n",
       "      <td>0.1</td>\n",
       "      <td>0.1</td>\n",
       "      <td>0.11</td>\n",
       "      <td>0.1</td>\n",
       "    </tr>\n",
       "    <tr>\n",
       "      <th>9</th>\n",
       "      <td>0.1</td>\n",
       "      <td>0.20</td>\n",
       "      <td>0.1</td>\n",
       "      <td>0.1</td>\n",
       "      <td>0.1</td>\n",
       "      <td>0.1</td>\n",
       "      <td>0.1</td>\n",
       "      <td>0.11</td>\n",
       "      <td>0.1</td>\n",
       "    </tr>\n",
       "    <tr>\n",
       "      <th>10</th>\n",
       "      <td>0.1</td>\n",
       "      <td>0.21</td>\n",
       "      <td>0.1</td>\n",
       "      <td>0.1</td>\n",
       "      <td>0.1</td>\n",
       "      <td>0.1</td>\n",
       "      <td>0.1</td>\n",
       "      <td>0.11</td>\n",
       "      <td>0.1</td>\n",
       "    </tr>\n",
       "  </tbody>\n",
       "</table>\n",
       "</div>"
      ],
      "text/plain": [
       "    AtomicNum  Degree  TotalNumHs  ImplicitValence  Hybridization   \n",
       "1         0.1    0.20         0.1              0.1            0.1  \\\n",
       "2         0.1    0.21         0.1              0.1            0.1   \n",
       "3         0.1    0.21         0.1              0.1            0.1   \n",
       "4         0.1    0.21         0.1              0.1            0.1   \n",
       "5         0.1    0.21         0.1              0.1            0.1   \n",
       "6         0.1    0.21         0.1              0.1            0.1   \n",
       "7         0.1    0.20         0.1              0.1            0.1   \n",
       "8         0.1    0.21         0.1              0.1            0.1   \n",
       "9         0.1    0.20         0.1              0.1            0.1   \n",
       "10        0.1    0.21         0.1              0.1            0.1   \n",
       "\n",
       "    FormalCharge  IsInRing  IsAromatic  NumRadicalElectrons  \n",
       "1            0.1       0.1        0.11                  0.1  \n",
       "2            0.1       0.1        0.11                  0.1  \n",
       "3            0.1       0.1        0.11                  0.1  \n",
       "4            0.1       0.1        0.11                  0.1  \n",
       "5            0.1       0.1        0.11                  0.1  \n",
       "6            0.1       0.1        0.11                  0.1  \n",
       "7            0.1       0.1        0.11                  0.1  \n",
       "8            0.1       0.1        0.11                  0.1  \n",
       "9            0.1       0.1        0.11                  0.1  \n",
       "10           0.1       0.1        0.11                  0.1  "
      ]
     },
     "execution_count": 67,
     "metadata": {},
     "output_type": "execute_result"
    }
   ],
   "source": [
    "df_batch[:10]"
   ]
  }
 ],
 "metadata": {
  "kernelspec": {
   "display_name": "mldd23",
   "language": "python",
   "name": "python3"
  },
  "language_info": {
   "codemirror_mode": {
    "name": "ipython",
    "version": 3
   },
   "file_extension": ".py",
   "mimetype": "text/x-python",
   "name": "python",
   "nbconvert_exporter": "python",
   "pygments_lexer": "ipython3",
   "version": "3.9.16"
  },
  "orig_nbformat": 4
 },
 "nbformat": 4,
 "nbformat_minor": 2
}
